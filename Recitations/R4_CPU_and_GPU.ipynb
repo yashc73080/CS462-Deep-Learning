{
  "nbformat": 4,
  "nbformat_minor": 0,
  "metadata": {
    "colab": {
      "provenance": [],
      "gpuType": "T4"
    },
    "kernelspec": {
      "name": "python3",
      "display_name": "Python 3"
    },
    "language_info": {
      "name": "python"
    },
    "accelerator": "GPU"
  },
  "cells": [
    {
      "cell_type": "markdown",
      "source": [
        "# Move data between GPU and CPU\n",
        "\n",
        "**Goal:** Understand how to move tensors and models between CPU and GPU, do it efficiently, and avoid common pitfalls.\n",
        "\n",
        "**What you'll learn**\n",
        "- Checking device availability & GPU info\n",
        "- Moving tensors and models: `.to()`, `.cuda()`, `.cpu()`\n",
        "- Avoiding device mismatch errors\n",
        "\n"
      ],
      "metadata": {
        "id": "nR20mjBs_76E"
      }
    },
    {
      "cell_type": "markdown",
      "source": [
        "## 0) Setup & Environment Checks"
      ],
      "metadata": {
        "id": "b02xNkHxBUkj"
      }
    },
    {
      "cell_type": "code",
      "source": [
        "import torch\n",
        "import torch.nn as nn\n",
        "import torch.optim as optim\n",
        "import torchvision\n",
        "import torchvision.transforms as transforms\n",
        "import numpy as np\n",
        "import random\n",
        "import matplotlib.pyplot as plt\n",
        "import seaborn as sns"
      ],
      "metadata": {
        "id": "qfUrL5-TE17i"
      },
      "execution_count": null,
      "outputs": []
    },
    {
      "cell_type": "code",
      "execution_count": null,
      "metadata": {
        "colab": {
          "base_uri": "https://localhost:8080/"
        },
        "id": "aWbf-gV_-Zxz",
        "outputId": "71ac584b-ec8c-485d-b182-bbe2d341a6c7"
      },
      "outputs": [
        {
          "output_type": "stream",
          "name": "stdout",
          "text": [
            "PyTorch version: 2.8.0+cu126\n",
            "CUDA available: True\n",
            "CUDA device count: 1\n",
            "Current device index: 0\n",
            "Device name: Tesla T4\n"
          ]
        }
      ],
      "source": [
        "print(\"PyTorch version:\", torch.__version__)\n",
        "print(\"CUDA available:\", torch.cuda.is_available())\n",
        "\n",
        "if torch.cuda.is_available():\n",
        "    print(\"CUDA device count:\", torch.cuda.device_count())\n",
        "    print(\"Current device index:\", torch.cuda.current_device())\n",
        "    print(\"Device name:\", torch.cuda.get_device_name(torch.cuda.current_device()))\n",
        "else:\n",
        "    print(\"Running on CPU-only environment. GPU-specific cells will safely skip.\")"
      ]
    },
    {
      "cell_type": "markdown",
      "source": [
        "## 1) Devices & Moving Tensors\n",
        "\n",
        "Key APIs:\n",
        "- `tensor.device` to see where a tensor lives\n",
        "- `tensor.to(device)` is the general way to move between devices/dtypes\n",
        "- Shorthands: `tensor.cuda()` and `tensor.cpu()`\n",
        "- You **cannot** perform ops across devices directly"
      ],
      "metadata": {
        "id": "TodPWtKNBhlQ"
      }
    },
    {
      "cell_type": "code",
      "source": [
        "# Create a CPU tensor\n",
        "x_cpu = torch.randn(3, 3)\n",
        "print(\"x_cpu.device:\", x_cpu.device)\n",
        "\n",
        "# Move to GPU if available\n",
        "if torch.cuda.is_available():\n",
        "    x_gpu = x_cpu.to(\"cuda\")\n",
        "    print(\"x_gpu.device:\", x_gpu.device)\n",
        "\n",
        "    # Device mismatch example (will raise if uncommented)\n",
        "    try:\n",
        "        _ = x_cpu + x_gpu   # This will throw if devices differ\n",
        "    except RuntimeError as e:\n",
        "        print(\"Expected device mismatch error:\", str(e).split('\\n')[0])\n",
        "else:\n",
        "    print(\"CUDA not available; skipping GPU move demo.\")\n"
      ],
      "metadata": {
        "colab": {
          "base_uri": "https://localhost:8080/"
        },
        "id": "mtTXxUwJBj07",
        "outputId": "34d2b052-c697-4d48-962e-c9058b13bb47"
      },
      "execution_count": null,
      "outputs": [
        {
          "output_type": "stream",
          "name": "stdout",
          "text": [
            "x_cpu.device: cpu\n",
            "x_gpu.device: cuda:0\n",
            "Expected device mismatch error: Expected all tensors to be on the same device, but found at least two devices, cuda:0 and cpu!\n"
          ]
        }
      ]
    },
    {
      "cell_type": "markdown",
      "source": [
        "\n",
        "## 2) Moving Models\n",
        "\n",
        "- Use `model.to(device)` to move all parameters and buffers\n",
        "- Ensure **inputs and the model** are on the **same** device\n",
        "- Typical pattern:\n",
        "  ```python\n",
        "  device = torch.device(\"cuda\" if torch.cuda.is_available() else \"cpu\")\n",
        "  model.to(device)\n",
        "  for data, target in loader:\n",
        "      data, target = data.to(device), target.to(device)\n",
        "      out = model(data)\n",
        "  ```\n"
      ],
      "metadata": {
        "id": "hPVc3qRwB7-q"
      }
    },
    {
      "cell_type": "code",
      "source": [
        "# Load datasets\n",
        "trainset = torchvision.datasets.MNIST(root='./data', train=True, download=True, transform=transforms.ToTensor())\n",
        "testset = torchvision.datasets.MNIST(root='./data', train=False, download=True, transform=transforms.ToTensor())\n",
        "\n",
        "print(f\"Training set shape: {trainset.data.shape}\")\n",
        "print(f\"Testing set shape: {testset.data.shape}\")"
      ],
      "metadata": {
        "colab": {
          "base_uri": "https://localhost:8080/"
        },
        "id": "Nej_YbToFLG1",
        "outputId": "9b640041-8946-488c-82b6-7257267b896d"
      },
      "execution_count": null,
      "outputs": [
        {
          "output_type": "stream",
          "name": "stdout",
          "text": [
            "Training set shape: torch.Size([60000, 28, 28])\n",
            "Testing set shape: torch.Size([10000, 28, 28])\n"
          ]
        }
      ]
    },
    {
      "cell_type": "code",
      "source": [
        "# Let's visualize a few examples from the training set.\n",
        "plt.figure(figsize=(12, 5))\n",
        "for i in range(10):\n",
        "    plt.subplot(2, 5, i + 1)\n",
        "    # trainset.data[i] is a 28x28 tensor\n",
        "    plt.imshow(trainset.data[i], cmap='gray')\n",
        "    plt.title(f\"Label: {trainset.targets[i]}\")\n",
        "    plt.axis('off')\n",
        "plt.suptitle(\"Examples from the MNIST Dataset\", fontsize=16)\n",
        "plt.show()"
      ],
      "metadata": {
        "colab": {
          "base_uri": "https://localhost:8080/",
          "height": 447
        },
        "id": "EJkd0VONZAoB",
        "outputId": "a94baa46-59a0-44dc-e965-7056054c0209"
      },
      "execution_count": null,
      "outputs": [
        {
          "output_type": "display_data",
          "data": {
            "text/plain": [
              "<Figure size 1200x500 with 10 Axes>"
            ],
            "image/png": "[encoded data removed]"
          },
          "metadata": {}
        }
      ]
    },
    {
      "cell_type": "code",
      "source": [
        "# Preprocess and flatten the data\n",
        "def preprocess_data(dataset):\n",
        "    # normalize pixel values and flatten images\n",
        "    data = (dataset.data / 255.0) - 0.5\n",
        "    flattened_data = data.view(data.shape[0], -1) # flatten from [N, 28, 28] to [N, 784]\n",
        "    targets = dataset.targets\n",
        "    return flattened_data, targets\n",
        "\n",
        "x_train, y_train = preprocess_data(trainset)\n",
        "x_test, y_test = preprocess_data(testset)"
      ],
      "metadata": {
        "id": "N4spbamwFeGS"
      },
      "execution_count": null,
      "outputs": []
    },
    {
      "cell_type": "code",
      "source": [
        "import torch.nn as nn\n",
        "import torch.nn.functional as F\n",
        "\n",
        "class TinyNet(nn.Module):\n",
        "    def __init__(self):\n",
        "        super().__init__()\n",
        "        self.fc1 = nn.Linear(784, 128)\n",
        "        self.fc2 = nn.Linear(128, 10)\n",
        "    def forward(self, x):\n",
        "        x = x.view(x.size(0), -1)\n",
        "        x = F.relu(self.fc1(x))\n",
        "        return self.fc2(x)\n",
        "\n",
        "device = torch.device(\"cuda\" if torch.cuda.is_available() else \"cpu\")\n",
        "model = TinyNet().to(device)\n",
        "x_train = x_train.to(device)\n",
        "y_train = y_train.to(device)\n",
        "x_test = x_test.to(device)\n",
        "y_test = y_test.to(device)\n",
        "\n",
        "with torch.no_grad():\n",
        "  logits = model(x_train)\n",
        "  print(\"Model+data device:\", next(model.parameters()).device, x_train.device, \"-> OK\")\n"
      ],
      "metadata": {
        "colab": {
          "base_uri": "https://localhost:8080/"
        },
        "id": "CuypR8hdB894",
        "outputId": "5392002d-7d91-4dc7-a493-5a2e0805e388"
      },
      "execution_count": null,
      "outputs": [
        {
          "output_type": "stream",
          "name": "stdout",
          "text": [
            "Model+data device: cuda:0 cuda:0 -> OK\n"
          ]
        }
      ]
    },
    {
      "cell_type": "markdown",
      "source": [
        "### 3) Building Flexible Architectures with `nn.ModuleList`\n",
        "\n",
        "For the homework, you need to explore the trade-offs between network architectures: is it better for a network to be shallow and wide (few layers, many nodes) or deep and narrow (many layers, few nodes)?\n",
        "\n",
        "To facilitate this, we need a network definition that is more flexible than `TinyNet`. The professor recommended using `torch.nn.ModuleList`. This is the standard way to build dynamic models in PyTorch, as it properly registers all sub-modules (layers) so that `model.parameters()` can find them for training. A regular Python list of layers will not work correctly.\n",
        "\n",
        "Let's define a `FlexibleNet` that accepts the number of layers and their width as arguments."
      ],
      "metadata": {
        "id": "L9yP7KYjVZiK"
      }
    },
    {
      "cell_type": "code",
      "source": [
        "class FlexibleNet(nn.Module):\n",
        "    def __init__(self, input_size, output_size, num_layers, hidden_width):\n",
        "        \"\"\"\n",
        "        A flexible fully-connected neural network.\n",
        "\n",
        "        Args:\n",
        "            input_size (int): The dimensionality of the input features (e.g., 784 for MNIST).\n",
        "            output_size (int): The number of output classes (e.g., 10 for MNIST).\n",
        "            num_layers (int): The number of hidden layers (the 'k' from the homework description).\n",
        "            hidden_width (int): The number of neurons in each hidden layer (the 'm').\n",
        "        \"\"\"\n",
        "        super().__init__()\n",
        "\n",
        "        # Create a list to hold the layers\n",
        "        layers = []\n",
        "\n",
        "        # Add the first hidden layer (from input size to hidden width)\n",
        "        layers.append(nn.Linear(input_size, hidden_width))\n",
        "        layers.append(nn.ReLU())\n",
        "\n",
        "        # Add the remaining hidden layers (k-1 of them)\n",
        "        for _ in range(num_layers - 1):\n",
        "            layers.append(nn.Linear(hidden_width, hidden_width))\n",
        "            layers.append(nn.ReLU())\n",
        "\n",
        "        # We can use nn.Sequential to wrap the list of layers.\n",
        "        # It will automatically call them in order.\n",
        "        self.hidden_layers = nn.Sequential(*layers)\n",
        "\n",
        "        # The final output layer\n",
        "        self.output_layer = nn.Linear(hidden_width, output_size)\n",
        "\n",
        "    def forward(self, x):\n",
        "        # Flatten the input image\n",
        "        x = x.view(x.size(0), -1)\n",
        "\n",
        "        # Pass input through the sequence of hidden layers\n",
        "        x = self.hidden_layers(x)\n",
        "\n",
        "        # Pass through the final output layer to get logits\n",
        "        logits = self.output_layer(x)\n",
        "        return logits\n",
        "\n",
        "# --- Example Usage ---\n",
        "\n",
        "# Example 1: A \"shallow and wide\" network (k=2, m=512)\n",
        "shallow_wide_net = FlexibleNet(input_size=784, output_size=10, num_layers=2, hidden_width=512)\n",
        "print(\"Shallow and wide network (k=2, m=512)\")\n",
        "print(shallow_wide_net)\n",
        "\n",
        "# Example 2: A \"deep and narrow\" network (k=8, m=64)\n",
        "deep_narrow_net = FlexibleNet(input_size=784, output_size=10, num_layers=8, hidden_width=64)\n",
        "print(\"\\nDeep and narrow network (k=8, m=64)\")\n",
        "print(deep_narrow_net)"
      ],
      "metadata": {
        "colab": {
          "base_uri": "https://localhost:8080/"
        },
        "id": "YnxXSfbgVfre",
        "outputId": "9fb793b2-7dc2-4a3d-a16c-9126184e11ba"
      },
      "execution_count": null,
      "outputs": [
        {
          "output_type": "stream",
          "name": "stdout",
          "text": [
            "Shallow and wide network (k=2, m=512)\n",
            "FlexibleNet(\n",
            "  (hidden_layers): Sequential(\n",
            "    (0): Linear(in_features=784, out_features=512, bias=True)\n",
            "    (1): ReLU()\n",
            "    (2): Linear(in_features=512, out_features=512, bias=True)\n",
            "    (3): ReLU()\n",
            "  )\n",
            "  (output_layer): Linear(in_features=512, out_features=10, bias=True)\n",
            ")\n",
            "\n",
            "Deep and narrow network (k=8, m=64)\n",
            "FlexibleNet(\n",
            "  (hidden_layers): Sequential(\n",
            "    (0): Linear(in_features=784, out_features=64, bias=True)\n",
            "    (1): ReLU()\n",
            "    (2): Linear(in_features=64, out_features=64, bias=True)\n",
            "    (3): ReLU()\n",
            "    (4): Linear(in_features=64, out_features=64, bias=True)\n",
            "    (5): ReLU()\n",
            "    (6): Linear(in_features=64, out_features=64, bias=True)\n",
            "    (7): ReLU()\n",
            "    (8): Linear(in_features=64, out_features=64, bias=True)\n",
            "    (9): ReLU()\n",
            "    (10): Linear(in_features=64, out_features=64, bias=True)\n",
            "    (11): ReLU()\n",
            "    (12): Linear(in_features=64, out_features=64, bias=True)\n",
            "    (13): ReLU()\n",
            "    (14): Linear(in_features=64, out_features=64, bias=True)\n",
            "    (15): ReLU()\n",
            "  )\n",
            "  (output_layer): Linear(in_features=64, out_features=10, bias=True)\n",
            ")\n"
          ]
        }
      ]
    },
    {
      "cell_type": "markdown",
      "source": [
        "### A Note on \"Parameter Budget\"\n",
        "\n",
        "When comparing different architectures, it's often useful to keep the total number of trainable parameters roughly constant. This ensures a fairer comparison of how the *shape* of the network affects performance, rather than just its overall size.\n",
        "\n",
        "For your homework, as you vary the depth (`k`) and width (`m`), try to do so while keeping the total parameter count within a certain \"budget\" (`P`). This is a key part of the experimental design."
      ],
      "metadata": {
        "id": "4zWRo-oNVtrE"
      }
    },
    {
      "cell_type": "markdown",
      "source": [
        "# Save and load PyTorch models\n",
        "\n",
        "In this lecture, we'll learn:\n",
        "- Why saving models is important\n",
        "- Different ways to save in PyTorch\n",
        "- How to save and load **model weights** properly\n",
        "- Best practices when working with `torch.save` and `torch.load`\n"
      ],
      "metadata": {
        "id": "XNhDpKxxACLA"
      }
    },
    {
      "cell_type": "markdown",
      "source": [
        "### A Preview of Other Training Concepts\n",
        "\n",
        "#### Optimizer Choice\n",
        "In this notebook, we use `optim.SGD` (Stochastic Gradient Descent), which is a fundamental optimizer. In practice, more advanced optimizers like `Adam` are very popular because they often converge faster and are less sensitive to the choice of learning rate. The professor will cover these in future lectures. Switching optimizers in PyTorch is very simple:\n",
        "\n",
        "```python\n",
        "# A common alternative to SGD\n",
        "# optimizer = optim.Adam(model.parameters(), lr=0.001) # Adam typically uses a smaller learning rate"
      ],
      "metadata": {
        "id": "LCS07fTIac0E"
      }
    },
    {
      "cell_type": "code",
      "source": [
        "import torch.utils.data as data\n",
        "\n",
        "# initialize\n",
        "loss_function = nn.CrossEntropyLoss()\n",
        "optimizer = optim.SGD(model.parameters(), lr=0.2)\n",
        "\n",
        "# 1. Create a Dataset\n",
        "train_dataset = data.TensorDataset(x_train, y_train)\n",
        "\n",
        "# 2. Create a DataLoader\n",
        "batch_size = 32\n",
        "epochs = 5\n",
        "train_loader = data.DataLoader(dataset=train_dataset, batch_size=batch_size, shuffle=True)\n",
        "\n",
        "# 3. Adapt the training loop to iterate directly over the loader\n",
        "loss_history = []\n",
        "for epoch in range(epochs):\n",
        "    total_loss = 0\n",
        "    # The loader provides the batches automatically\n",
        "    for x_batch, y_batch in train_loader:\n",
        "        logits = model(x_batch)\n",
        "        loss = loss_function(logits, y_batch)\n",
        "\n",
        "        optimizer.zero_grad()\n",
        "        loss.backward()\n",
        "        optimizer.step()\n",
        "\n",
        "        total_loss += loss.item()\n",
        "\n",
        "    # The number of batches is len(train_loader)\n",
        "    avg_loss = total_loss / len(train_loader)\n",
        "    loss_history.append(avg_loss)\n",
        "    print(f\"Epoch {epoch+1}, Average Loss: {avg_loss:.4f}\")\n",
        "\n",
        "# Plotting the loss history\n",
        "plt.figure(figsize=(10, 6))\n",
        "plt.plot(range(1, len(loss_history) + 1), loss_history, marker='o', linestyle='-')\n",
        "plt.title(\"Training Loss History\")\n",
        "plt.xlabel(\"Epoch\")\n",
        "plt.ylabel(\"Average Loss\")\n",
        "plt.grid(True)\n",
        "plt.show()"
      ],
      "metadata": {
        "colab": {
          "base_uri": "https://localhost:8080/",
          "height": 657
        },
        "id": "I6orzlLKGja6",
        "outputId": "6af8618b-0e02-4053-9ac7-87877cbb188c"
      },
      "execution_count": null,
      "outputs": [
        {
          "output_type": "stream",
          "name": "stdout",
          "text": [
            "Epoch 1, Average Loss: 0.3520\n",
            "Epoch 2, Average Loss: 0.1524\n",
            "Epoch 3, Average Loss: 0.1135\n",
            "Epoch 4, Average Loss: 0.0951\n",
            "Epoch 5, Average Loss: 0.0808\n"
          ]
        },
        {
          "output_type": "display_data",
          "data": {
            "text/plain": [
              "<Figure size 1000x600 with 1 Axes>"
            ],
            "image/png": "[encoded data removed]"
          },
          "metadata": {}
        }
      ]
    },
    {
      "cell_type": "markdown",
      "source": [
        "Save:\n",
        "- Model weights\n",
        "- Optimizer state\n",
        "- Current epoch / training step\n",
        "- Loss history\n"
      ],
      "metadata": {
        "id": "BA1cCwy9HBX5"
      }
    },
    {
      "cell_type": "code",
      "source": [
        "# Save model + optimizer + epoch info\n",
        "checkpoint = {\n",
        "    \"epoch\": epoch,\n",
        "    \"model_state_dict\": model.state_dict(),\n",
        "    \"optimizer_state_dict\": optimizer.state_dict(),\n",
        "    \"loss_history\": loss_history\n",
        "}\n",
        "torch.save(checkpoint, \"checkpoint.pth\")\n",
        "\n",
        "print(\"Training checkpoint saved!\")\n"
      ],
      "metadata": {
        "colab": {
          "base_uri": "https://localhost:8080/"
        },
        "id": "d38uUZ0hETlD",
        "outputId": "ccab67e3-d745-4901-e5b2-2dec7b9475b3"
      },
      "execution_count": null,
      "outputs": [
        {
          "output_type": "stream",
          "name": "stdout",
          "text": [
            "Training checkpoint saved!\n"
          ]
        }
      ]
    },
    {
      "cell_type": "markdown",
      "source": [
        "**When loading back:** The architecture **must match** when loading weights.  \n",
        "Otherwise, PyTorch will raise shape mismatch errors.\n",
        "\n",
        "\n"
      ],
      "metadata": {
        "id": "vLZa8YcOESBj"
      }
    },
    {
      "cell_type": "code",
      "source": [
        "# Load checkpoint\n",
        "checkpoint = torch.load(\"checkpoint.pth\")\n",
        "\n",
        "loaded_model = TinyNet().to(device)\n",
        "loaded_optimizer = optim.SGD(loaded_model.parameters(), lr=0.2)\n",
        "\n",
        "loaded_model.load_state_dict(checkpoint[\"model_state_dict\"])\n",
        "loaded_optimizer.load_state_dict(checkpoint[\"optimizer_state_dict\"])\n",
        "start_epoch = checkpoint[\"epoch\"]\n",
        "loss = checkpoint[\"loss_history\"][-1]\n",
        "\n",
        "print(f\"Checkpoint loaded (Epoch {start_epoch}, Loss={loss})\")\n"
      ],
      "metadata": {
        "colab": {
          "base_uri": "https://localhost:8080/"
        },
        "id": "aJYh0FjOEdkb",
        "outputId": "fdfff040-4ab0-4daa-8516-e75383e38fa3"
      },
      "execution_count": null,
      "outputs": [
        {
          "output_type": "stream",
          "name": "stdout",
          "text": [
            "Checkpoint loaded (Epoch 4, Loss=0.080839552622661)\n"
          ]
        }
      ]
    },
    {
      "cell_type": "code",
      "source": [
        "loss_history = checkpoint[\"loss_history\"]\n",
        "epochs = 15\n",
        "for epoch in range(start_epoch, epochs):\n",
        "    total_loss = 0\n",
        "    # The loader provides the batches automatically\n",
        "    for x_batch, y_batch in train_loader:\n",
        "        logits = loaded_model(x_batch)\n",
        "        loss = loss_function(logits, y_batch)\n",
        "\n",
        "        loaded_optimizer.zero_grad()\n",
        "        loss.backward()\n",
        "        loaded_optimizer.step()\n",
        "\n",
        "        total_loss += loss.item()\n",
        "\n",
        "    # The number of batches is len(train_loader)\n",
        "    avg_loss = total_loss / len(train_loader)\n",
        "    loss_history.append(avg_loss)\n",
        "    print(f\"Epoch {epoch+1}, Average Loss: {avg_loss:.4f}\")\n",
        "# Plotting the loss history\n",
        "plt.figure(figsize=(10, 6))\n",
        "plt.plot(range(1, len(loss_history) + 1), loss_history, marker='o', linestyle='-')\n",
        "plt.title(\"Training Loss History\")\n",
        "plt.xlabel(\"Epoch\")\n",
        "plt.ylabel(\"Average Loss\")\n",
        "plt.grid(True)\n",
        "plt.show()"
      ],
      "metadata": {
        "colab": {
          "base_uri": "https://localhost:8080/",
          "height": 770
        },
        "id": "ijPsA3-fIlFZ",
        "outputId": "a362c1fa-fae7-4065-ec87-a3ac931a9571"
      },
      "execution_count": null,
      "outputs": [
        {
          "output_type": "stream",
          "name": "stdout",
          "text": [
            "Epoch 5, Average Loss: 0.0718\n",
            "Epoch 6, Average Loss: 0.0640\n",
            "Epoch 7, Average Loss: 0.0565\n",
            "Epoch 8, Average Loss: 0.0507\n",
            "Epoch 9, Average Loss: 0.0473\n",
            "Epoch 10, Average Loss: 0.0439\n",
            "Epoch 11, Average Loss: 0.0384\n",
            "Epoch 12, Average Loss: 0.0349\n",
            "Epoch 13, Average Loss: 0.0313\n",
            "Epoch 14, Average Loss: 0.0292\n",
            "Epoch 15, Average Loss: 0.0266\n"
          ]
        },
        {
          "output_type": "display_data",
          "data": {
            "text/plain": [
              "<Figure size 1000x600 with 1 Axes>"
            ],
            "image/png": "[encoded data removed]"
          },
          "metadata": {}
        }
      ]
    },
    {
      "cell_type": "markdown",
      "source": [
        "Side Note: For tracking training details (loss, gradient, metrics), you can use TensorBoard or Wandb for larger projects."
      ],
      "metadata": {
        "id": "xua7jWrCKGHZ"
      }
    },
    {
      "cell_type": "markdown",
      "source": [
        "## Final Experiment: Comparing Architectures with FlexibleNet\n",
        "\n",
        "Now that we understand the mechanics of training, saving, and loading models, let's put everything together in a comprehensive experiment that directly addresses the professor's question from the homework.\n",
        "\n",
        "**Goal**: Compare the training dynamics of a \"shallow and wide\" network versus a \"deep and narrow\" network.\n",
        "\n",
        "**Steps**:\n",
        "1.  Instantiate two `FlexibleNet` models with roughly similar parameter counts but different shapes.\n",
        "2.  Train each model for a set number of epochs.\n",
        "3.  Plot their loss histories on the same graph to visually compare their convergence."
      ],
      "metadata": {
        "id": "KfMYahZVZnpy"
      }
    },
    {
      "cell_type": "code",
      "source": [
        "# --- Step 1: Define the two models ---\n",
        "\n",
        "# Ensure we are on the correct device\n",
        "device = torch.device(\"cuda\" if torch.cuda.is_available() else \"cpu\")\n",
        "\n",
        "# Model 1: A shallow network with 2 hidden layers of 256 neurons each\n",
        "shallow_wide_model = FlexibleNet(input_size=784, output_size=10, num_layers=2, hidden_width=256).to(device)\n",
        "\n",
        "# Model 2: A deeper network with 5 hidden layers of 115 neurons each\n",
        "# Note: These architectures are chosen to have a roughly similar number of total parameters for a fair comparison.\n",
        "deep_narrow_model = FlexibleNet(input_size=784, output_size=10, num_layers=5, hidden_width=115).to(device)\n",
        "\n",
        "\n",
        "# --- Step 2: Train each model and record history ---\n",
        "\n",
        "def train_experiment_model(model, train_loader, model_name, epochs=10, lr=0.1):\n",
        "    \"\"\"A helper function to train a model and return its loss history.\"\"\"\n",
        "    loss_function = nn.CrossEntropyLoss()\n",
        "    optimizer = optim.SGD(model.parameters(), lr=lr)\n",
        "    history = []\n",
        "    model.train() # Set model to training mode\n",
        "\n",
        "    print(f\"--- Training Model: {model_name} ---\")\n",
        "    for epoch in range(epochs):\n",
        "        total_loss = 0\n",
        "        for x_batch, y_batch in train_loader:\n",
        "            # Data is already on the device from earlier cells\n",
        "            logits = model(x_batch)\n",
        "            loss = loss_function(logits, y_batch)\n",
        "            optimizer.zero_grad()\n",
        "            loss.backward()\n",
        "            optimizer.step()\n",
        "            total_loss += loss.item()\n",
        "\n",
        "        avg_loss = total_loss / len(train_loader)\n",
        "        print(f\"Epoch {epoch+1}/{epochs}, Average Loss: {avg_loss:.4f}\")\n",
        "        history.append(avg_loss)\n",
        "    print(\"Training complete.\\n\")\n",
        "    return history\n",
        "\n",
        "# Run the training for both models\n",
        "sw_history = train_experiment_model(shallow_wide_model, train_loader, \"Shallow & Wide (2x256)\")\n",
        "dn_history = train_experiment_model(deep_narrow_model, train_loader, \"Deep & Narrow (5x115)\")\n",
        "\n",
        "\n",
        "# --- Step 3: Plot the comparison graph ---\n",
        "\n",
        "plt.figure(figsize=(12, 7))\n",
        "epochs_range = range(1, len(sw_history) + 1)\n",
        "\n",
        "plt.plot(epochs_range, sw_history, marker='o', linestyle='-', label='Shallow-Wide (2x256)')\n",
        "plt.plot(epochs_range, dn_history, marker='s', linestyle='--', label='Deep-Narrow (5x115)')\n",
        "\n",
        "plt.title(\"Training Loss Comparison: Shallow vs. Deep Networks\", fontsize=16)\n",
        "plt.xlabel(\"Epoch\")\n",
        "plt.ylabel(\"Average Loss\")\n",
        "plt.legend()\n",
        "plt.grid(True)\n",
        "plt.xticks(epochs_range)\n",
        "plt.show()"
      ],
      "metadata": {
        "colab": {
          "base_uri": "https://localhost:8080/"
        },
        "id": "_g31XoKRZqZL",
        "outputId": "007452a5-e884-45b2-9fe9-0dd6e7d0fb1e"
      },
      "execution_count": null,
      "outputs": [
        {
          "output_type": "stream",
          "name": "stdout",
          "text": [
            "--- Training Model: Shallow & Wide (2x256) ---\n",
            "Epoch 1/10, Average Loss: 0.3972\n",
            "Epoch 2/10, Average Loss: 0.1524\n",
            "Epoch 3/10, Average Loss: 0.1087\n",
            "Epoch 4/10, Average Loss: 0.0860\n",
            "Epoch 5/10, Average Loss: 0.0718\n",
            "Epoch 6/10, Average Loss: 0.0600\n",
            "Epoch 7/10, Average Loss: 0.0494\n",
            "Epoch 8/10, Average Loss: 0.0440\n",
            "Epoch 9/10, Average Loss: 0.0375\n",
            "Epoch 10/10, Average Loss: 0.0313\n",
            "Training complete.\n",
            "\n",
            "--- Training Model: Deep & Narrow (5x115) ---\n",
            "Epoch 1/10, Average Loss: 0.8555\n",
            "Epoch 2/10, Average Loss: 0.2077\n",
            "Epoch 3/10, Average Loss: 0.1477\n",
            "Epoch 4/10, Average Loss: 0.1184\n",
            "Epoch 5/10, Average Loss: 0.0961\n",
            "Epoch 6/10, Average Loss: 0.0827\n"
          ]
        }
      ]
    },
    {
      "cell_type": "markdown",
      "source": [
        "## Visualizing Model Predictions\n",
        "\n",
        "Let's take our trained model and see how it performs on a few examples from the test set. We'll show the image, the true label, and the model's prediction. We can color the title green for correct predictions and red for incorrect ones."
      ],
      "metadata": {
        "id": "GglvOxUgajvq"
      }
    },
    {
      "cell_type": "code",
      "source": [
        "# Switch the model to evaluation mode\n",
        "loaded_model.eval()\n",
        "\n",
        "# Get a few random samples from the test set\n",
        "num_samples = 10\n",
        "indices = random.sample(range(len(x_test)), num_samples)\n",
        "sample_images = x_test[indices].to(device)\n",
        "sample_labels = y_test[indices]\n",
        "\n",
        "with torch.no_grad():\n",
        "    # Get model predictions (logits)\n",
        "    predictions = loaded_model(sample_images)\n",
        "    # Get the class with the highest score\n",
        "    predicted_classes = torch.argmax(predictions, dim=1)\n",
        "\n",
        "# Move data to CPU for plotting\n",
        "sample_images_cpu = sample_images.cpu()\n",
        "predicted_classes_cpu = predicted_classes.cpu()\n",
        "\n",
        "plt.figure(figsize=(15, 6))\n",
        "for i in range(num_samples):\n",
        "    plt.subplot(2, 5, i + 1)\n",
        "    # Reshape the flattened image back to 28x28\n",
        "    image = sample_images_cpu[i].view(28, 28)\n",
        "    plt.imshow(image, cmap='gray')\n",
        "\n",
        "    true_label = sample_labels[i].item()\n",
        "    pred_label = predicted_classes_cpu[i].item()\n",
        "\n",
        "    title_color = 'green' if true_label == pred_label else 'red'\n",
        "    plt.title(f\"True: {true_label}\\nPred: {pred_label}\", color=title_color)\n",
        "    plt.axis('off')\n",
        "\n",
        "plt.tight_layout()\n",
        "plt.show()"
      ],
      "metadata": {
        "id": "eIQ9dYS9Zq1j"
      },
      "execution_count": null,
      "outputs": []
    },
    {
      "cell_type": "markdown",
      "source": [
        "## Experiment: Comparing Architectures\n",
        "\n",
        "How do different architectures (\"shallow and wide\" vs. \"deep and narrow\") compare? We can train two different `FlexibleNet` models with a similar parameter budget and plot their loss curves on the same graph to see the difference in training dynamics."
      ],
      "metadata": {
        "id": "fmNzlXWWbMGb"
      }
    },
    {
      "cell_type": "code",
      "source": [
        "#reusable training function\n",
        "def train_model(model, train_loader, epochs=5, lr=0.1):\n",
        "    loss_function = nn.CrossEntropyLoss()\n",
        "    optimizer = optim.SGD(model.parameters(), lr=lr)\n",
        "    history = []\n",
        "    model.train() # Set model to training mode\n",
        "    print(f\"Training {model.__class__.__name__} for {epochs} epochs\")\n",
        "    for epoch in range(epochs):\n",
        "        total_loss = 0\n",
        "        for x_batch, y_batch in train_loader:\n",
        "            logits = model(x_batch)\n",
        "            loss = loss_function(logits, y_batch)\n",
        "            optimizer.zero_grad()\n",
        "            loss.backward()\n",
        "            optimizer.step()\n",
        "            total_loss += loss.item()\n",
        "        avg_loss = total_loss / len(train_loader)\n",
        "        print(f\"Epoch {epoch+1}, Average Loss: {avg_loss:.4f}\")\n",
        "        history.append(avg_loss)\n",
        "    return history\n",
        "\n",
        "# Define and train two different models\n",
        "# Model 1: Shallow and Wide\n",
        "shallow_wide_model = FlexibleNet(input_size=784, output_size=10, num_layers=2, hidden_width=256).to(device)\n",
        "# Model 2: Deep and Narrow\n",
        "deep_narrow_model = FlexibleNet(input_size=784, output_size=10, num_layers=5, hidden_width=115).to(device)\n",
        "\n",
        "# Note: These two models have roughly similar parameter counts to make the comparison fairer.\n",
        "\n",
        "# Train both models\n",
        "sw_history = train_model(shallow_wide_model, train_loader, epochs=10)\n",
        "dn_history = train_model(deep_narrow_model, train_loader, epochs=10)\n",
        "\n",
        "# Plot the comparison\n",
        "plt.figure(figsize=(10, 6))\n",
        "plt.plot(range(1, 11), sw_history, marker='o', linestyle='-', label='Shallow-Wide (2x256)')\n",
        "plt.plot(range(1, 11), dn_history, marker='s', linestyle='--', label='Deep-Narrow (5x115)')\n",
        "plt.title(\"Training Loss Comparison: Shallow vs. Deep Networks\")\n",
        "plt.xlabel(\"Epoch\")\n",
        "plt.ylabel(\"Average Loss\")\n",
        "plt.legend()\n",
        "plt.grid(True)\n",
        "plt.show()"
      ],
      "metadata": {
        "id": "0UGbm9Q9ame7"
      },
      "execution_count": null,
      "outputs": []
    },
    {
      "cell_type": "code",
      "source": [],
      "metadata": {
        "id": "k4F2A9AIbOOL"
      },
      "execution_count": null,
      "outputs": []
    }
  ]
}