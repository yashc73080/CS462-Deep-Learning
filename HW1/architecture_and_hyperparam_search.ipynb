{
  "cells": [
    {
      "cell_type": "markdown",
      "metadata": {
        "id": "view-in-github",
        "colab_type": "text"
      },
      "source": [
        "<a href=\"https://colab.research.google.com/github/yashc73080/CS462-Deep-Learning/blob/main/HW1/architecture_and_hyperparam_search.ipynb\" target=\"_parent\"><img src=\"https://colab.research.google.com/assets/colab-badge.svg\" alt=\"Open In Colab\"/></a>"
      ]
    },
    {
      "cell_type": "code",
      "execution_count": 1,
      "id": "d5179d08",
      "metadata": {
        "id": "d5179d08"
      },
      "outputs": [],
      "source": [
        "import torch\n",
        "import torch.nn as nn\n",
        "import torch.optim as optim\n",
        "import torchvision\n",
        "import torchvision.transforms as transforms\n",
        "import numpy as np\n",
        "import random\n",
        "import matplotlib.pyplot as plt"
      ]
    },
    {
      "cell_type": "markdown",
      "id": "ac721909",
      "metadata": {
        "id": "ac721909"
      },
      "source": [
        "Generating and Preparing Data"
      ]
    },
    {
      "cell_type": "code",
      "execution_count": 2,
      "id": "cfde77b1",
      "metadata": {
        "colab": {
          "base_uri": "https://localhost:8080/"
        },
        "id": "cfde77b1",
        "outputId": "5874d3de-7cc8-4ad9-8b6a-33b80f0d4c8e"
      },
      "outputs": [
        {
          "output_type": "stream",
          "name": "stderr",
          "text": [
            "100%|██████████| 9.91M/9.91M [00:01<00:00, 6.80MB/s]\n",
            "100%|██████████| 28.9k/28.9k [00:00<00:00, 160kB/s]\n",
            "100%|██████████| 1.65M/1.65M [00:01<00:00, 1.49MB/s]\n",
            "100%|██████████| 4.54k/4.54k [00:00<00:00, 8.73MB/s]\n"
          ]
        }
      ],
      "source": [
        "trainset = torchvision.datasets.MNIST(root='./data', train=True, download=True, transform=transforms.ToTensor())\n",
        "testset = torchvision.datasets.MNIST(root='./data', train=False, download=True, transform=transforms.ToTensor())"
      ]
    },
    {
      "cell_type": "code",
      "source": [
        "def preprocess_data(dataset, device):\n",
        "  data = (dataset.data / 255.0) - 0.5\n",
        "  flattened_data = data.view(data.size(0), -1)\n",
        "  targets = dataset.targets\n",
        "  return flattened_data.to(device), targets.to(device)\n",
        "\n",
        "device = torch.device('cuda' if torch.cuda.is_available() else 'cpu')\n",
        "X_train, y_train = preprocess_data(trainset, device)\n",
        "X_test, y_test = preprocess_data(testset, device)"
      ],
      "metadata": {
        "id": "g1R0O6RPFbCp"
      },
      "id": "g1R0O6RPFbCp",
      "execution_count": 4,
      "outputs": []
    },
    {
      "cell_type": "code",
      "source": [
        "X_train.size()"
      ],
      "metadata": {
        "colab": {
          "base_uri": "https://localhost:8080/"
        },
        "id": "NPTk1vDUGMjG",
        "outputId": "5e9290bc-80e7-4273-8c07-729ef676d7c0"
      },
      "id": "NPTk1vDUGMjG",
      "execution_count": null,
      "outputs": [
        {
          "output_type": "execute_result",
          "data": {
            "text/plain": [
              "torch.Size([60000, 784])"
            ]
          },
          "metadata": {},
          "execution_count": 6
        }
      ]
    },
    {
      "cell_type": "markdown",
      "source": [
        "# Basic Model\n",
        "\n",
        "$F(\\vec{x}) = \\text{softmax}(A\\vec{v}+\\vec{b})$"
      ],
      "metadata": {
        "id": "1jMEbeKE_6IP"
      },
      "id": "1jMEbeKE_6IP"
    },
    {
      "cell_type": "code",
      "source": [
        "class BasicModel():\n",
        "  def __init__(self, input=784, output=10, device='cpu'):\n",
        "    # Set device to CPU or GPU\n",
        "    self.device = torch.device('cuda' if torch.cuda.is_available() else device)\n",
        "\n",
        "    # Model parameters\n",
        "    self.input = input\n",
        "    self.output = output\n",
        "    self.A = nn.Parameter(torch.randn(output, input, device=self.device), requires_grad=True) # shape (10, 784)\n",
        "    self.b = nn.Parameter(torch.randn(output, device=self.device), requires_grad=True)  # shape (10,)\n",
        "\n",
        "  def forward(self, x):\n",
        "    logits = x @ self.A.t() + self.b # CrossEntropyLoss applies softmax internally\n",
        "    return logits\n",
        "\n",
        "  def train(self, X_train, y_train, epochs=100, lr=0.7):\n",
        "    # Define loss and optimizer\n",
        "    self.loss_function = nn.CrossEntropyLoss()\n",
        "    self.optimizer = optim.SGD([self.A, self.b], lr=lr)\n",
        "\n",
        "    for epoch in range(epochs):\n",
        "      total_loss = 0.0\n",
        "\n",
        "      for x, y in zip(X_train, y_train):\n",
        "        x = x.view(1, -1)  # batch size = 1\n",
        "        prediction = self.forward(x)\n",
        "        loss = self.loss_function(prediction, y.unsqueeze(0))  # CrossEntropyLoss needs batch\n",
        "        loss.backward()\n",
        "        self.optimizer.step()\n",
        "        self.optimizer.zero_grad()\n",
        "\n",
        "        total_loss += loss.item()\n",
        "\n",
        "      print(f\"Epoch {epoch+1}/{epochs}, Loss: {total_loss/len(X_train):.4f}\")\n",
        "\n",
        "  def test(self, X_test, y_test):\n",
        "    with torch.no_grad():\n",
        "      logits = self.forward(X_test)\n",
        "      preds = torch.argmax(logits, dim=1)\n",
        "      acc = (preds == y_test).float().mean().item()\n",
        "    print(f\"Test Accuracy: {acc:.4f}\")\n",
        "    return acc"
      ],
      "metadata": {
        "id": "XnLXAQSMFQE4"
      },
      "id": "XnLXAQSMFQE4",
      "execution_count": null,
      "outputs": []
    }
  ],
  "metadata": {
    "kernelspec": {
      "display_name": "cs462",
      "language": "python",
      "name": "python3"
    },
    "language_info": {
      "codemirror_mode": {
        "name": "ipython",
        "version": 3
      },
      "file_extension": ".py",
      "mimetype": "text/x-python",
      "name": "python",
      "nbconvert_exporter": "python",
      "pygments_lexer": "ipython3",
      "version": "3.12.11"
    },
    "colab": {
      "provenance": [],
      "include_colab_link": true
    }
  },
  "nbformat": 4,
  "nbformat_minor": 5
}