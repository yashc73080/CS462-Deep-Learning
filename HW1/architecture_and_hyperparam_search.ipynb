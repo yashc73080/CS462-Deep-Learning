{
  "cells": [
    {
      "cell_type": "markdown",
      "metadata": {
        "id": "view-in-github",
        "colab_type": "text"
      },
      "source": [
        "<a href=\"https://colab.research.google.com/github/yashc73080/CS462-Deep-Learning/blob/main/HW1/architecture_and_hyperparam_search.ipynb\" target=\"_parent\"><img src=\"https://colab.research.google.com/assets/colab-badge.svg\" alt=\"Open In Colab\"/></a>"
      ]
    },
    {
      "cell_type": "code",
      "execution_count": 1,
      "id": "d5179d08",
      "metadata": {
        "id": "d5179d08"
      },
      "outputs": [],
      "source": [
        "import torch\n",
        "import torch.nn as nn\n",
        "import torch.optim as optim\n",
        "import torchvision\n",
        "import torchvision.transforms as transforms\n",
        "import numpy as np\n",
        "import random\n",
        "import matplotlib.pyplot as plt"
      ]
    },
    {
      "cell_type": "markdown",
      "id": "ac721909",
      "metadata": {
        "id": "ac721909"
      },
      "source": [
        "Generating and Preparing Data"
      ]
    },
    {
      "cell_type": "code",
      "execution_count": 2,
      "id": "cfde77b1",
      "metadata": {
        "colab": {
          "base_uri": "https://localhost:8080/"
        },
        "id": "cfde77b1",
        "outputId": "a5ebe247-8c7a-4fa5-ec44-ff47ad29a5a2"
      },
      "outputs": [
        {
          "output_type": "stream",
          "name": "stderr",
          "text": [
            "100%|██████████| 9.91M/9.91M [00:00<00:00, 18.0MB/s]\n",
            "100%|██████████| 28.9k/28.9k [00:00<00:00, 481kB/s]\n",
            "100%|██████████| 1.65M/1.65M [00:00<00:00, 4.43MB/s]\n",
            "100%|██████████| 4.54k/4.54k [00:00<00:00, 13.4MB/s]\n"
          ]
        }
      ],
      "source": [
        "trainset = torchvision.datasets.MNIST(root='./data', train=True, download=True, transform=transforms.ToTensor())\n",
        "testset = torchvision.datasets.MNIST(root='./data', train=False, download=True, transform=transforms.ToTensor())"
      ]
    },
    {
      "cell_type": "code",
      "source": [
        "def preprocess_data(dataset, device):\n",
        "  data = (dataset.data / 255.0) - 0.5\n",
        "  flattened_data = data.view(data.size(0), -1)\n",
        "  targets = dataset.targets\n",
        "  return flattened_data.to(device), targets.to(device)\n",
        "\n",
        "device = torch.device('cuda' if torch.cuda.is_available() else 'cpu')\n",
        "X_train, y_train = preprocess_data(trainset, device)\n",
        "X_test, y_test = preprocess_data(testset, device)"
      ],
      "metadata": {
        "id": "g1R0O6RPFbCp"
      },
      "id": "g1R0O6RPFbCp",
      "execution_count": 3,
      "outputs": []
    },
    {
      "cell_type": "code",
      "source": [
        "X_train.size()"
      ],
      "metadata": {
        "colab": {
          "base_uri": "https://localhost:8080/"
        },
        "id": "NPTk1vDUGMjG",
        "outputId": "5e9290bc-80e7-4273-8c07-729ef676d7c0"
      },
      "id": "NPTk1vDUGMjG",
      "execution_count": null,
      "outputs": [
        {
          "output_type": "execute_result",
          "data": {
            "text/plain": [
              "torch.Size([60000, 784])"
            ]
          },
          "metadata": {},
          "execution_count": 6
        }
      ]
    },
    {
      "cell_type": "markdown",
      "source": [
        "# Basic Model\n",
        "\n",
        "$F(\\vec{x}) = \\text{softmax}(A\\vec{v}+\\vec{b})$"
      ],
      "metadata": {
        "id": "1jMEbeKE_6IP"
      },
      "id": "1jMEbeKE_6IP"
    },
    {
      "cell_type": "code",
      "source": [
        "class BasicModel():\n",
        "  def __init__(self, input=784, output=10, device='cpu'):\n",
        "    # Set device to CPU or GPU\n",
        "    self.device = torch.device('cuda' if torch.cuda.is_available() else device)\n",
        "\n",
        "    # Model parameters\n",
        "    self.input = input\n",
        "    self.output = output\n",
        "    self.A = nn.Parameter(torch.randn(output, input, device=self.device), requires_grad=True) # shape (10, 784)\n",
        "    self.b = nn.Parameter(torch.randn(output, device=self.device), requires_grad=True)  # shape (10,)\n",
        "\n",
        "  def forward(self, x):\n",
        "    logits = x @ self.A.t() + self.b # CrossEntropyLoss applies softmax internally\n",
        "    return logits\n",
        "\n",
        "  def train(self, X_train, y_train, epochs=100, lr=0.7, batch_size=64):\n",
        "    self.loss_function = nn.CrossEntropyLoss()\n",
        "    self.optimizer = optim.SGD([self.A, self.b], lr=lr)\n",
        "\n",
        "    n = X_train.size(0)\n",
        "\n",
        "    for epoch in range(epochs):\n",
        "        total_loss = 0.0\n",
        "\n",
        "        # Process by batch for more efficiency\n",
        "        for i in range(0, n, batch_size):\n",
        "            x_batch = X_train[i:i+batch_size]\n",
        "            y_batch = y_train[i:i+batch_size]\n",
        "\n",
        "            logits = self.forward(x_batch)\n",
        "            loss = self.loss_function(logits, y_batch)\n",
        "\n",
        "            self.optimizer.zero_grad()\n",
        "            loss.backward()\n",
        "            self.optimizer.step()\n",
        "\n",
        "            total_loss += loss.item()\n",
        "\n",
        "        if epoch % 5 == 0:\n",
        "          print(f\"Epoch {epoch+1}/{epochs}, Training Loss: {total_loss / (n // batch_size):.4f}\")\n",
        "\n",
        "    with torch.no_grad():\n",
        "      logits = self.forward(X_train)\n",
        "      preds = torch.argmax(logits, dim=1)\n",
        "      acc = (preds == y_train).float().mean().item()\n",
        "    print(f\"Final Train Accuracy: {acc:.4f}\")\n",
        "\n",
        "  def test(self, X_test, y_test):\n",
        "    with torch.no_grad():\n",
        "      logits = self.forward(X_test)\n",
        "      preds = torch.argmax(logits, dim=1)\n",
        "      acc = (preds == y_test).float().mean().item()\n",
        "    print(f\"Test Accuracy: {acc:.4f}\")\n",
        "    return acc"
      ],
      "metadata": {
        "id": "XnLXAQSMFQE4"
      },
      "id": "XnLXAQSMFQE4",
      "execution_count": 14,
      "outputs": []
    },
    {
      "cell_type": "code",
      "source": [
        "basic_model = BasicModel(input=784, output=10)\n",
        "basic_model.train(X_train, y_train, epochs=150, lr=0.7, batch_size=64)\n",
        "basic_test_acc = basic_model.test(X_test, y_test)"
      ],
      "metadata": {
        "colab": {
          "base_uri": "https://localhost:8080/"
        },
        "id": "0FRiyYBNkFBs",
        "outputId": "ca6d48c9-2d8f-4d1f-e9a2-b44936e0bbb4"
      },
      "id": "0FRiyYBNkFBs",
      "execution_count": 15,
      "outputs": [
        {
          "output_type": "stream",
          "name": "stdout",
          "text": [
            "Epoch 1/150, Training Loss: 1.3129\n",
            "Epoch 6/150, Training Loss: 0.5426\n",
            "Epoch 11/150, Training Loss: 0.4896\n",
            "Epoch 16/150, Training Loss: 0.4661\n",
            "Epoch 21/150, Training Loss: 0.4504\n",
            "Epoch 26/150, Training Loss: 0.4388\n",
            "Epoch 31/150, Training Loss: 0.4301\n",
            "Epoch 36/150, Training Loss: 0.4222\n",
            "Epoch 41/150, Training Loss: 0.4163\n",
            "Epoch 46/150, Training Loss: 0.4115\n",
            "Epoch 51/150, Training Loss: 0.4077\n",
            "Epoch 56/150, Training Loss: 0.4044\n",
            "Epoch 61/150, Training Loss: 0.4014\n",
            "Epoch 66/150, Training Loss: 0.3987\n",
            "Epoch 71/150, Training Loss: 0.3963\n",
            "Epoch 76/150, Training Loss: 0.3941\n",
            "Epoch 81/150, Training Loss: 0.3921\n",
            "Epoch 86/150, Training Loss: 0.3903\n",
            "Epoch 91/150, Training Loss: 0.3885\n",
            "Epoch 96/150, Training Loss: 0.3869\n",
            "Epoch 101/150, Training Loss: 0.3854\n",
            "Epoch 106/150, Training Loss: 0.3840\n",
            "Epoch 111/150, Training Loss: 0.3827\n",
            "Epoch 116/150, Training Loss: 0.3815\n",
            "Epoch 121/150, Training Loss: 0.3803\n",
            "Epoch 126/150, Training Loss: 0.3793\n",
            "Epoch 131/150, Training Loss: 0.3782\n",
            "Epoch 136/150, Training Loss: 0.3773\n",
            "Epoch 141/150, Training Loss: 0.3764\n",
            "Epoch 146/150, Training Loss: 0.3755\n",
            "Final Train Accuracy: 0.9142\n",
            "Test Accuracy: 0.9060\n"
          ]
        }
      ]
    },
    {
      "cell_type": "markdown",
      "source": [
        "# Fixed Size Layer Model"
      ],
      "metadata": {
        "id": "5InwspTUoH0J"
      },
      "id": "5InwspTUoH0J"
    },
    {
      "cell_type": "code",
      "source": [
        "class FixedSizeNetwork(nn.Module):\n",
        "  def __init__(self, input_size=784, output_size=10, num_layers=2, hidden_width=200, device='cpu'):\n",
        "    super().__init__()\n",
        "\n",
        "    # Set device to CPU or GPU\n",
        "    self.device = torch.device('cuda' if torch.cuda.is_available() else device)\n",
        "\n",
        "    # All layers of network\n",
        "    layers = []\n",
        "\n",
        "    # First layer (Input -> H1)\n",
        "    layers.append(nn.Linear(input_size, hidden_width))\n",
        "    layers.append(nn.Tanh())\n",
        "\n",
        "    # Rest of the layers\n",
        "    for _ in range(num_layers - 1):\n",
        "      layers.append(nn.Linear(hidden_width, hidden_width))\n",
        "      layers.append(nn.Tanh())\n",
        "\n",
        "    # Wrap hidden layers\n",
        "    self.hidden_layers = nn.Sequential(*layers)\n",
        "\n",
        "    # Add output layer (Hk -> Output)\n",
        "    self.output_layer = nn.Linear(hidden_width, output_size)\n",
        "\n",
        "    # Move whole network to device\n",
        "    self.to(self.device)\n",
        "\n",
        "  def forward(self, x):\n",
        "    # Flatten input\n",
        "    x = x.view(x.size(0), -1)\n",
        "\n",
        "    # Pass input through all hidden layers\n",
        "    x = self.hidden_layers(x)\n",
        "\n",
        "    # Pass through output layer\n",
        "    logits = self.output_layer(x)\n",
        "\n",
        "    return logits\n",
        "\n",
        "  def train(self, X_train, y_train, epochs=100, lr=0.7, batch_size=64):\n",
        "    pass\n",
        "\n",
        "  def test(self, X_test, y_test):\n",
        "    pass\n",
        "\n"
      ],
      "metadata": {
        "id": "OESQ_C3pkiod"
      },
      "id": "OESQ_C3pkiod",
      "execution_count": null,
      "outputs": []
    }
  ],
  "metadata": {
    "kernelspec": {
      "display_name": "Python 3",
      "name": "python3"
    },
    "language_info": {
      "codemirror_mode": {
        "name": "ipython",
        "version": 3
      },
      "file_extension": ".py",
      "mimetype": "text/x-python",
      "name": "python",
      "nbconvert_exporter": "python",
      "pygments_lexer": "ipython3",
      "version": "3.12.11"
    },
    "colab": {
      "provenance": [],
      "gpuType": "T4",
      "include_colab_link": true
    },
    "accelerator": "GPU"
  },
  "nbformat": 4,
  "nbformat_minor": 5
}