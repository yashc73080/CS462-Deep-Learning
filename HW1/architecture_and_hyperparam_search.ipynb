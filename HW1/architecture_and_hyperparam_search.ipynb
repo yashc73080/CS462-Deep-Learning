{
  "cells": [
    {
      "cell_type": "markdown",
      "metadata": {
        "id": "view-in-github",
        "colab_type": "text"
      },
      "source": [
        "<a href=\"https://colab.research.google.com/github/yashc73080/CS462-Deep-Learning/blob/main/HW1/architecture_and_hyperparam_search.ipynb\" target=\"_parent\"><img src=\"https://colab.research.google.com/assets/colab-badge.svg\" alt=\"Open In Colab\"/></a>"
      ]
    },
    {
      "cell_type": "code",
      "execution_count": 3,
      "id": "d5179d08",
      "metadata": {
        "id": "d5179d08"
      },
      "outputs": [],
      "source": [
        "import torch\n",
        "import torch.nn as nn\n",
        "import torch.optim as optim\n",
        "import torchvision\n",
        "import torchvision.transforms as transforms\n",
        "import numpy as np\n",
        "import random\n",
        "import matplotlib.pyplot as plt"
      ]
    },
    {
      "cell_type": "markdown",
      "source": [
        "Set the random seed"
      ],
      "metadata": {
        "id": "Q-uCAogWz3Jt"
      },
      "id": "Q-uCAogWz3Jt"
    },
    {
      "cell_type": "code",
      "source": [
        "seed = 0\n",
        "torch.manual_seed(seed)\n",
        "np.random.seed(seed)\n",
        "random.seed(seed)"
      ],
      "metadata": {
        "id": "Sr5s1jG3z5b0"
      },
      "id": "Sr5s1jG3z5b0",
      "execution_count": 19,
      "outputs": []
    },
    {
      "cell_type": "markdown",
      "id": "ac721909",
      "metadata": {
        "id": "ac721909"
      },
      "source": [
        "Generating and Preparing Data"
      ]
    },
    {
      "cell_type": "code",
      "execution_count": 20,
      "id": "cfde77b1",
      "metadata": {
        "id": "cfde77b1"
      },
      "outputs": [],
      "source": [
        "trainset = torchvision.datasets.MNIST(root='./data', train=True, download=True, transform=transforms.ToTensor())\n",
        "testset = torchvision.datasets.MNIST(root='./data', train=False, download=True, transform=transforms.ToTensor())"
      ]
    },
    {
      "cell_type": "code",
      "source": [
        "def preprocess_data(dataset, device):\n",
        "  data = (dataset.data / 255.0) - 0.5\n",
        "  flattened_data = data.view(data.size(0), -1)\n",
        "  targets = dataset.targets\n",
        "  return flattened_data.to(device), targets.to(device)\n",
        "\n",
        "device = torch.device('cuda' if torch.cuda.is_available() else 'cpu')\n",
        "X_train, y_train = preprocess_data(trainset, device)\n",
        "X_test, y_test = preprocess_data(testset, device)"
      ],
      "metadata": {
        "id": "g1R0O6RPFbCp"
      },
      "id": "g1R0O6RPFbCp",
      "execution_count": 21,
      "outputs": []
    },
    {
      "cell_type": "code",
      "source": [
        "X_train.size()"
      ],
      "metadata": {
        "colab": {
          "base_uri": "https://localhost:8080/"
        },
        "id": "NPTk1vDUGMjG",
        "outputId": "4e8d3a76-8a63-441d-9c33-30e5503fdbf3"
      },
      "id": "NPTk1vDUGMjG",
      "execution_count": 38,
      "outputs": [
        {
          "output_type": "execute_result",
          "data": {
            "text/plain": [
              "torch.Size([60000, 784])"
            ]
          },
          "metadata": {},
          "execution_count": 38
        }
      ]
    },
    {
      "cell_type": "markdown",
      "source": [
        "# 1. Basic Model\n",
        "\n",
        "$F(\\vec{x}) = \\text{softmax}(A\\vec{v}+\\vec{b})$"
      ],
      "metadata": {
        "id": "1jMEbeKE_6IP"
      },
      "id": "1jMEbeKE_6IP"
    },
    {
      "cell_type": "code",
      "source": [
        "class BasicModel():\n",
        "  def __init__(self, input=784, output=10, device='cpu'):\n",
        "    # Set device to CPU or GPU\n",
        "    self.device = torch.device('cuda' if torch.cuda.is_available() else device)\n",
        "\n",
        "    # Model parameters\n",
        "    self.input = input\n",
        "    self.output = output\n",
        "    self.A = nn.Parameter(torch.randn(output, input, device=self.device), requires_grad=True) # shape (10, 784)\n",
        "    self.b = nn.Parameter(torch.randn(output, device=self.device), requires_grad=True)  # shape (10,)\n",
        "\n",
        "  def forward(self, x):\n",
        "    logits = x @ self.A.t() + self.b # CrossEntropyLoss applies softmax internally\n",
        "    return logits\n",
        "\n",
        "  def train(self, X_train, y_train, epochs=100, lr=0.7, batch_size=64):\n",
        "    self.loss_function = nn.CrossEntropyLoss()\n",
        "    self.optimizer = optim.SGD([self.A, self.b], lr=lr)\n",
        "\n",
        "    n = X_train.size(0)\n",
        "    final_train_loss = 0.0\n",
        "\n",
        "    for epoch in range(epochs):\n",
        "        total_loss = 0.0\n",
        "\n",
        "        # Process by batch for more efficiency\n",
        "        for i in range(0, n, batch_size):\n",
        "            x_batch = X_train[i:i+batch_size]\n",
        "            y_batch = y_train[i:i+batch_size]\n",
        "\n",
        "            logits = self.forward(x_batch)\n",
        "            loss = self.loss_function(logits, y_batch)\n",
        "\n",
        "            self.optimizer.zero_grad()\n",
        "            loss.backward()\n",
        "            self.optimizer.step()\n",
        "\n",
        "            total_loss += loss.item()\n",
        "\n",
        "        final_train_loss = total_loss / (n // batch_size)\n",
        "        if epoch % 5 == 0:\n",
        "          print(f\"Epoch {epoch+1}/{epochs}, Training Loss: {final_train_loss:.4f}\")\n",
        "\n",
        "    with torch.no_grad():\n",
        "      logits = self.forward(X_train)\n",
        "      preds = torch.argmax(logits, dim=1)\n",
        "      acc = (preds == y_train).float().mean().item()\n",
        "    print(f\"Final Train Loss: {final_train_loss:.4f}, Final Train Accuracy: {acc:.4f}\")\n",
        "\n",
        "  def test(self, X_test, y_test):\n",
        "    with torch.no_grad():\n",
        "      logits = self.forward(X_test)\n",
        "      loss = self.loss_function(logits, y_test)\n",
        "      preds = torch.argmax(logits, dim=1)\n",
        "      acc = (preds == y_test).float().mean().item()\n",
        "    print(f\"Test Loss: {loss.item():.4f}, Test Accuracy: {acc:.4f}\")\n",
        "    return loss.item(), acc"
      ],
      "metadata": {
        "id": "XnLXAQSMFQE4"
      },
      "id": "XnLXAQSMFQE4",
      "execution_count": 17,
      "outputs": []
    },
    {
      "cell_type": "code",
      "source": [
        "basic_model = BasicModel(input=784, output=10)\n",
        "basic_model.train(X_train, y_train, epochs=350, lr=0.05, batch_size=64)\n",
        "basic_test_loss, basic_test_acc = basic_model.test(X_test, y_test)"
      ],
      "metadata": {
        "colab": {
          "base_uri": "https://localhost:8080/"
        },
        "id": "0FRiyYBNkFBs",
        "outputId": "03bc513a-6ab5-43c5-90df-4ea79d51d13c"
      },
      "id": "0FRiyYBNkFBs",
      "execution_count": 22,
      "outputs": [
        {
          "output_type": "stream",
          "name": "stdout",
          "text": [
            "Epoch 1/350, Training Loss: 3.0408\n",
            "Epoch 6/350, Training Loss: 0.6910\n",
            "Epoch 11/350, Training Loss: 0.5564\n",
            "Epoch 16/350, Training Loss: 0.4908\n",
            "Epoch 21/350, Training Loss: 0.4497\n",
            "Epoch 26/350, Training Loss: 0.4210\n",
            "Epoch 31/350, Training Loss: 0.3995\n",
            "Epoch 36/350, Training Loss: 0.3826\n",
            "Epoch 41/350, Training Loss: 0.3688\n",
            "Epoch 46/350, Training Loss: 0.3573\n",
            "Epoch 51/350, Training Loss: 0.3475\n",
            "Epoch 56/350, Training Loss: 0.3391\n",
            "Epoch 61/350, Training Loss: 0.3318\n",
            "Epoch 66/350, Training Loss: 0.3253\n",
            "Epoch 71/350, Training Loss: 0.3195\n",
            "Epoch 76/350, Training Loss: 0.3143\n",
            "Epoch 81/350, Training Loss: 0.3097\n",
            "Epoch 86/350, Training Loss: 0.3054\n",
            "Epoch 91/350, Training Loss: 0.3016\n",
            "Epoch 96/350, Training Loss: 0.2980\n",
            "Epoch 101/350, Training Loss: 0.2948\n",
            "Epoch 106/350, Training Loss: 0.2918\n",
            "Epoch 111/350, Training Loss: 0.2891\n",
            "Epoch 116/350, Training Loss: 0.2865\n",
            "Epoch 121/350, Training Loss: 0.2841\n",
            "Epoch 126/350, Training Loss: 0.2819\n",
            "Epoch 131/350, Training Loss: 0.2798\n",
            "Epoch 136/350, Training Loss: 0.2779\n",
            "Epoch 141/350, Training Loss: 0.2761\n",
            "Epoch 146/350, Training Loss: 0.2744\n",
            "Epoch 151/350, Training Loss: 0.2727\n",
            "Epoch 156/350, Training Loss: 0.2712\n",
            "Epoch 161/350, Training Loss: 0.2698\n",
            "Epoch 166/350, Training Loss: 0.2684\n",
            "Epoch 171/350, Training Loss: 0.2672\n",
            "Epoch 176/350, Training Loss: 0.2659\n",
            "Epoch 181/350, Training Loss: 0.2648\n",
            "Epoch 186/350, Training Loss: 0.2637\n",
            "Epoch 191/350, Training Loss: 0.2626\n",
            "Epoch 196/350, Training Loss: 0.2616\n",
            "Epoch 201/350, Training Loss: 0.2607\n",
            "Epoch 206/350, Training Loss: 0.2598\n",
            "Epoch 211/350, Training Loss: 0.2589\n",
            "Epoch 216/350, Training Loss: 0.2581\n",
            "Epoch 221/350, Training Loss: 0.2573\n",
            "Epoch 226/350, Training Loss: 0.2565\n",
            "Epoch 231/350, Training Loss: 0.2558\n",
            "Epoch 236/350, Training Loss: 0.2550\n",
            "Epoch 241/350, Training Loss: 0.2544\n",
            "Epoch 246/350, Training Loss: 0.2537\n",
            "Epoch 251/350, Training Loss: 0.2531\n",
            "Epoch 256/350, Training Loss: 0.2525\n",
            "Epoch 261/350, Training Loss: 0.2519\n",
            "Epoch 266/350, Training Loss: 0.2513\n",
            "Epoch 271/350, Training Loss: 0.2508\n",
            "Epoch 276/350, Training Loss: 0.2502\n",
            "Epoch 281/350, Training Loss: 0.2497\n",
            "Epoch 286/350, Training Loss: 0.2492\n",
            "Epoch 291/350, Training Loss: 0.2487\n",
            "Epoch 296/350, Training Loss: 0.2483\n",
            "Epoch 301/350, Training Loss: 0.2478\n",
            "Epoch 306/350, Training Loss: 0.2474\n",
            "Epoch 311/350, Training Loss: 0.2470\n",
            "Epoch 316/350, Training Loss: 0.2466\n",
            "Epoch 321/350, Training Loss: 0.2461\n",
            "Epoch 326/350, Training Loss: 0.2458\n",
            "Epoch 331/350, Training Loss: 0.2454\n",
            "Epoch 336/350, Training Loss: 0.2450\n",
            "Epoch 341/350, Training Loss: 0.2446\n",
            "Epoch 346/350, Training Loss: 0.2443\n",
            "Final Train Loss: 0.2440, Final Train Accuracy: 0.9316\n",
            "Test Loss: 0.2904, Test Accuracy: 0.9212\n"
          ]
        }
      ]
    },
    {
      "cell_type": "markdown",
      "source": [
        "# 2. Fixed Size Layer Model"
      ],
      "metadata": {
        "id": "5InwspTUoH0J"
      },
      "id": "5InwspTUoH0J"
    },
    {
      "cell_type": "markdown",
      "source": [
        "$\\text{Parameters}(k,m)$ in terms of input size $n_{in}$, output size $n_{out}$, number of hidden layers $k$, and number of nodes per hidden layer $m$.\n",
        "\n",
        "The connection from the Input Layer to Hidden Layer 1 has the following number of trainable parameters. There are $m$ nodes in the first (and every) hidden layer multiplied by $n_{in}$ input nodes. Then, there are $m$ bias terms from the hidden layer.\n",
        "$$(n_{in} \\cdot m) + m$$\n",
        "\n",
        "The connection from each hidden layer to the next hidden layer follow a similar pattern. Each layer has $m$ nodes connected to $m$ nodes, and each next layer has $m$ bias terms. So, the following expression represents the number of parameters in the hidden layers.\n",
        "$$(k-1) \\cdot (m \\cdot m + m)$$\n",
        "\n",
        "Finally, the connection from the last hidden layer to the output layer also follows a similar pattern. $m$ nodes are connected to $n_{out}$ nodes, with $n_{out}$ bias terms. So, the following expression represents the parameters in this last part.\n",
        "$$(m \\cdot n_{out}) + n_{out}$$\n",
        "\n",
        "All together, the following formula is the number of trainable parameters in the network.\n",
        "$$\\text{Parameters}(k,m) = P = [(n_{in} \\cdot m) + m] + [(k-1) \\cdot (m \\cdot m + m)] + [(m \\cdot n_{out}) + n_{out}]$$"
      ],
      "metadata": {
        "id": "RuyX6RP81vPn"
      },
      "id": "RuyX6RP81vPn"
    },
    {
      "cell_type": "code",
      "source": [
        "class FixedSizeNetwork(nn.Module):\n",
        "  def __init__(self, input_size=784, output_size=10, num_layers=2, hidden_width=200, device='cpu'):\n",
        "    '''\n",
        "    Args:\n",
        "      input_size (int): MNIST input size\n",
        "      output_size (int): MNIST output size\n",
        "      num_layers (int): Number of hidden layers (k)\n",
        "      hidden_width (int): Width of hidden layers (m)\n",
        "    '''\n",
        "    super().__init__()\n",
        "\n",
        "    # Set device to CPU or GPU\n",
        "    self.device = torch.device('cuda' if torch.cuda.is_available() else device)\n",
        "\n",
        "    # All layers of network\n",
        "    layers = []\n",
        "\n",
        "    # First layer (Input -> H1)\n",
        "    layers.append(nn.Linear(input_size, hidden_width))\n",
        "    layers.append(nn.Tanh())\n",
        "\n",
        "    # Rest of the layers\n",
        "    for _ in range(num_layers - 1):\n",
        "      layers.append(nn.Linear(hidden_width, hidden_width))\n",
        "      layers.append(nn.Tanh())\n",
        "\n",
        "    # Wrap hidden layers\n",
        "    self.hidden_layers = nn.Sequential(*layers)\n",
        "\n",
        "    # Add output layer (Hk -> Output)\n",
        "    self.output_layer = nn.Linear(hidden_width, output_size)\n",
        "\n",
        "    # Move whole network to device\n",
        "    self.to(self.device)\n",
        "\n",
        "  def forward(self, x):\n",
        "    # Flatten input\n",
        "    x = x.view(x.size(0), -1)\n",
        "\n",
        "    # Pass input through all hidden layers\n",
        "    x = self.hidden_layers(x)\n",
        "\n",
        "    # Pass through output layer\n",
        "    logits = self.output_layer(x)\n",
        "\n",
        "    return logits\n",
        "\n",
        "  def train(self, X_train, y_train, epochs=100, lr=0.7, batch_size=64):\n",
        "    self.loss_function = nn.CrossEntropyLoss()\n",
        "    self.optimizer = optim.SGD(self.parameters(), lr=lr)\n",
        "\n",
        "    n = X_train.size(0)\n",
        "\n",
        "    for epoch in range(epochs):\n",
        "      total_loss = 0.0\n",
        "\n",
        "      for i in range(0, n, batch_size):\n",
        "        x_batch = X_train[i:i+batch_size]\n",
        "        y_batch = y_train[i:i+batch_size]\n",
        "\n",
        "        logits = self.forward(x_batch)\n",
        "        loss = self.loss_function(logits, y_batch)\n",
        "\n",
        "        self.optimizer.zero_grad()\n",
        "        loss.backward()\n",
        "        self.optimizer.step()\n",
        "\n",
        "        total_loss += loss.item()\n",
        "\n",
        "      if epoch % 5 == 0:\n",
        "        print(f\"Epoch {epoch+1}/{epochs}, Training Loss: {total_loss / (n // batch_size):.4f}\")\n",
        "\n",
        "    with torch.no_grad():\n",
        "      logits = self.forward(X_train)\n",
        "      preds = torch.argmax(logits, dim=1)\n",
        "      acc = (preds == y_train).float().mean().item()\n",
        "    print(f\"Final Train Accuracy: {acc:.4f}\")\n",
        "\n",
        "  def test(self, X_test, y_test):\n",
        "    with torch.no_grad():\n",
        "      logits = self.forward(X_test)\n",
        "      preds = torch.argmax(logits, dim=1)\n",
        "      acc = (preds == y_test).float().mean().item()\n",
        "    print(f\"Test Accuracy: {acc:.4f}\")\n",
        "    return acc\n",
        "\n",
        "  def num_parameters(self, input_size=784, output_size=10, k=2, m=200):\n",
        "    '''\n",
        "    k = number of hidden layers\n",
        "    m = width of hidden layers (number of nodes per hidden layer)\n",
        "    '''\n",
        "    input_H1 = (input_size * m) + m\n",
        "    all_H = (k - 1) * (m * m + m)\n",
        "    lastH_output = (m * output_size) + output_size\n",
        "    return input_H1 + all_H + lastH_output"
      ],
      "metadata": {
        "id": "OESQ_C3pkiod"
      },
      "id": "OESQ_C3pkiod",
      "execution_count": 41,
      "outputs": []
    },
    {
      "cell_type": "code",
      "source": [
        "fixed_network = FixedSizeNetwork(input_size=784, output_size=10, num_layers=2, hidden_width=200)\n",
        "P = fixed_network.num_parameters()\n",
        "print(f\"Number of trainable parameters: {P}\\n\")\n",
        "\n",
        "fixed_network.train(X_train, y_train, epochs=100, lr=0.7, batch_size=64)\n",
        "fixed_test_acc = fixed_network.test(X_test, y_test)"
      ],
      "metadata": {
        "colab": {
          "base_uri": "https://localhost:8080/"
        },
        "id": "b3SxpO45uAst",
        "outputId": "04c53116-db49-429e-c402-c1e04d958813"
      },
      "id": "b3SxpO45uAst",
      "execution_count": 42,
      "outputs": [
        {
          "output_type": "stream",
          "name": "stdout",
          "text": [
            "Number of trainable parameters: 199210\n",
            "\n",
            "Epoch 1/100, Training Loss: 59.0971\n",
            "Epoch 6/100, Training Loss: 60.6884\n",
            "Epoch 11/100, Training Loss: 59.5781\n",
            "Epoch 16/100, Training Loss: 60.1648\n",
            "Epoch 21/100, Training Loss: 60.4451\n",
            "Epoch 26/100, Training Loss: 59.9619\n",
            "Epoch 31/100, Training Loss: 59.7945\n",
            "Epoch 36/100, Training Loss: 59.7677\n",
            "Epoch 41/100, Training Loss: 59.6390\n",
            "Epoch 46/100, Training Loss: 60.6941\n",
            "Epoch 51/100, Training Loss: 59.7445\n",
            "Epoch 56/100, Training Loss: 60.1853\n",
            "Epoch 61/100, Training Loss: 60.0227\n",
            "Epoch 66/100, Training Loss: 59.7482\n",
            "Epoch 71/100, Training Loss: 59.7897\n",
            "Epoch 76/100, Training Loss: 59.2132\n",
            "Epoch 81/100, Training Loss: 60.0394\n",
            "Epoch 86/100, Training Loss: 60.8052\n",
            "Epoch 91/100, Training Loss: 59.8381\n",
            "Epoch 96/100, Training Loss: 59.9904\n",
            "Final Train Accuracy: 0.0993\n",
            "Test Accuracy: 0.1032\n"
          ]
        }
      ]
    },
    {
      "cell_type": "code",
      "source": [],
      "metadata": {
        "id": "t_k6sDKozjog"
      },
      "id": "t_k6sDKozjog",
      "execution_count": null,
      "outputs": []
    }
  ],
  "metadata": {
    "kernelspec": {
      "display_name": "Python 3",
      "name": "python3"
    },
    "language_info": {
      "codemirror_mode": {
        "name": "ipython",
        "version": 3
      },
      "file_extension": ".py",
      "mimetype": "text/x-python",
      "name": "python",
      "nbconvert_exporter": "python",
      "pygments_lexer": "ipython3",
      "version": "3.12.11"
    },
    "colab": {
      "provenance": [],
      "gpuType": "T4",
      "include_colab_link": true
    },
    "accelerator": "GPU"
  },
  "nbformat": 4,
  "nbformat_minor": 5
}