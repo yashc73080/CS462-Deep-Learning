{
  "cells": [
    {
      "cell_type": "markdown",
      "metadata": {
        "id": "view-in-github",
        "colab_type": "text"
      },
      "source": [
        "<a href=\"https://colab.research.google.com/github/yashc73080/CS462-Deep-Learning/blob/main/HW1/architecture_and_hyperparam_search.ipynb\" target=\"_parent\"><img src=\"https://colab.research.google.com/assets/colab-badge.svg\" alt=\"Open In Colab\"/></a>"
      ]
    },
    {
      "cell_type": "code",
      "execution_count": 1,
      "id": "d5179d08",
      "metadata": {
        "id": "d5179d08"
      },
      "outputs": [],
      "source": [
        "import torch\n",
        "import torch.nn as nn\n",
        "import torch.optim as optim\n",
        "import torchvision\n",
        "import torchvision.transforms as transforms\n",
        "import numpy as np\n",
        "import random\n",
        "import matplotlib.pyplot as plt"
      ]
    },
    {
      "cell_type": "markdown",
      "id": "ac721909",
      "metadata": {
        "id": "ac721909"
      },
      "source": [
        "Generating and Preparing Data"
      ]
    },
    {
      "cell_type": "code",
      "execution_count": 2,
      "id": "cfde77b1",
      "metadata": {
        "colab": {
          "base_uri": "https://localhost:8080/"
        },
        "id": "cfde77b1",
        "outputId": "a5ebe247-8c7a-4fa5-ec44-ff47ad29a5a2"
      },
      "outputs": [
        {
          "output_type": "stream",
          "name": "stderr",
          "text": [
            "100%|██████████| 9.91M/9.91M [00:00<00:00, 18.0MB/s]\n",
            "100%|██████████| 28.9k/28.9k [00:00<00:00, 481kB/s]\n",
            "100%|██████████| 1.65M/1.65M [00:00<00:00, 4.43MB/s]\n",
            "100%|██████████| 4.54k/4.54k [00:00<00:00, 13.4MB/s]\n"
          ]
        }
      ],
      "source": [
        "trainset = torchvision.datasets.MNIST(root='./data', train=True, download=True, transform=transforms.ToTensor())\n",
        "testset = torchvision.datasets.MNIST(root='./data', train=False, download=True, transform=transforms.ToTensor())"
      ]
    },
    {
      "cell_type": "code",
      "source": [
        "def preprocess_data(dataset, device):\n",
        "  data = (dataset.data / 255.0) - 0.5\n",
        "  flattened_data = data.view(data.size(0), -1)\n",
        "  targets = dataset.targets\n",
        "  return flattened_data.to(device), targets.to(device)\n",
        "\n",
        "device = torch.device('cuda' if torch.cuda.is_available() else 'cpu')\n",
        "X_train, y_train = preprocess_data(trainset, device)\n",
        "X_test, y_test = preprocess_data(testset, device)"
      ],
      "metadata": {
        "id": "g1R0O6RPFbCp"
      },
      "id": "g1R0O6RPFbCp",
      "execution_count": 3,
      "outputs": []
    },
    {
      "cell_type": "code",
      "source": [
        "X_train.size()"
      ],
      "metadata": {
        "colab": {
          "base_uri": "https://localhost:8080/"
        },
        "id": "NPTk1vDUGMjG",
        "outputId": "5e9290bc-80e7-4273-8c07-729ef676d7c0"
      },
      "id": "NPTk1vDUGMjG",
      "execution_count": null,
      "outputs": [
        {
          "output_type": "execute_result",
          "data": {
            "text/plain": [
              "torch.Size([60000, 784])"
            ]
          },
          "metadata": {},
          "execution_count": 6
        }
      ]
    },
    {
      "cell_type": "markdown",
      "source": [
        "# Basic Model\n",
        "\n",
        "$F(\\vec{x}) = \\text{softmax}(A\\vec{v}+\\vec{b})$"
      ],
      "metadata": {
        "id": "1jMEbeKE_6IP"
      },
      "id": "1jMEbeKE_6IP"
    },
    {
      "cell_type": "code",
      "source": [
        "class BasicModel():\n",
        "  def __init__(self, input=784, output=10, device='cpu'):\n",
        "    # Set device to CPU or GPU\n",
        "    self.device = torch.device('cuda' if torch.cuda.is_available() else device)\n",
        "\n",
        "    # Model parameters\n",
        "    self.input = input\n",
        "    self.output = output\n",
        "    self.A = nn.Parameter(torch.randn(output, input, device=self.device), requires_grad=True) # shape (10, 784)\n",
        "    self.b = nn.Parameter(torch.randn(output, device=self.device), requires_grad=True)  # shape (10,)\n",
        "\n",
        "  def forward(self, x):\n",
        "    logits = x @ self.A.t() + self.b # CrossEntropyLoss applies softmax internally\n",
        "    return logits\n",
        "\n",
        "  def train(self, X_train, y_train, epochs=100, lr=0.7, batch_size=64):\n",
        "    self.loss_function = nn.CrossEntropyLoss()\n",
        "    self.optimizer = optim.SGD([self.A, self.b], lr=lr)\n",
        "\n",
        "    n = X_train.size(0)\n",
        "\n",
        "    for epoch in range(epochs):\n",
        "        total_loss = 0.0\n",
        "\n",
        "        # Process by batch for more efficiency\n",
        "        for i in range(0, n, batch_size):\n",
        "            x_batch = X_train[i:i+batch_size]\n",
        "            y_batch = y_train[i:i+batch_size]\n",
        "\n",
        "            logits = self.forward(x_batch)\n",
        "            loss = self.loss_function(logits, y_batch)\n",
        "\n",
        "            self.optimizer.zero_grad()\n",
        "            loss.backward()\n",
        "            self.optimizer.step()\n",
        "\n",
        "            total_loss += loss.item()\n",
        "\n",
        "        print(f\"Epoch {epoch+1}/{epochs}, Training Loss: {total_loss / (n // batch_size):.4f}\")\n",
        "\n",
        "    with torch.no_grad():\n",
        "      logits = self.forward(X_train)\n",
        "      preds = torch.argmax(logits, dim=1)\n",
        "      acc = (preds == y_train).float().mean().item()\n",
        "    print(f\"Final Train Accuracy: {acc:.4f}\")\n",
        "\n",
        "  def test(self, X_test, y_test):\n",
        "    with torch.no_grad():\n",
        "      logits = self.forward(X_test)\n",
        "      preds = torch.argmax(logits, dim=1)\n",
        "      acc = (preds == y_test).float().mean().item()\n",
        "    print(f\"Test Accuracy: {acc:.4f}\")\n",
        "    return acc"
      ],
      "metadata": {
        "id": "XnLXAQSMFQE4"
      },
      "id": "XnLXAQSMFQE4",
      "execution_count": 11,
      "outputs": []
    },
    {
      "cell_type": "code",
      "source": [
        "basic_model = BasicModel()\n",
        "basic_model.train(X_train, y_train, epochs=150, lr=0.7, batch_size=64)\n",
        "basic_test_acc = basic_model.test(X_test, y_test)"
      ],
      "metadata": {
        "colab": {
          "base_uri": "https://localhost:8080/"
        },
        "id": "0FRiyYBNkFBs",
        "outputId": "5f3881a8-b80c-49da-9f46-d23a7a067ad7"
      },
      "id": "0FRiyYBNkFBs",
      "execution_count": 12,
      "outputs": [
        {
          "output_type": "stream",
          "name": "stdout",
          "text": [
            "Epoch 1/150, Training Loss: 1.3964\n",
            "Epoch 2/150, Training Loss: 0.7092\n",
            "Epoch 3/150, Training Loss: 0.6307\n",
            "Epoch 4/150, Training Loss: 0.5881\n",
            "Epoch 5/150, Training Loss: 0.5598\n",
            "Epoch 6/150, Training Loss: 0.5401\n",
            "Epoch 7/150, Training Loss: 0.5247\n",
            "Epoch 8/150, Training Loss: 0.5123\n",
            "Epoch 9/150, Training Loss: 0.5019\n",
            "Epoch 10/150, Training Loss: 0.4929\n",
            "Epoch 11/150, Training Loss: 0.4849\n",
            "Epoch 12/150, Training Loss: 0.4780\n",
            "Epoch 13/150, Training Loss: 0.4721\n",
            "Epoch 14/150, Training Loss: 0.4669\n",
            "Epoch 15/150, Training Loss: 0.4625\n",
            "Epoch 16/150, Training Loss: 0.4586\n",
            "Epoch 17/150, Training Loss: 0.4551\n",
            "Epoch 18/150, Training Loss: 0.4520\n",
            "Epoch 19/150, Training Loss: 0.4493\n",
            "Epoch 20/150, Training Loss: 0.4467\n",
            "Epoch 21/150, Training Loss: 0.4444\n",
            "Epoch 22/150, Training Loss: 0.4421\n",
            "Epoch 23/150, Training Loss: 0.4400\n",
            "Epoch 24/150, Training Loss: 0.4380\n",
            "Epoch 25/150, Training Loss: 0.4361\n",
            "Epoch 26/150, Training Loss: 0.4343\n",
            "Epoch 27/150, Training Loss: 0.4327\n",
            "Epoch 28/150, Training Loss: 0.4312\n",
            "Epoch 29/150, Training Loss: 0.4300\n",
            "Epoch 30/150, Training Loss: 0.4285\n",
            "Epoch 31/150, Training Loss: 0.4267\n",
            "Epoch 32/150, Training Loss: 0.4251\n",
            "Epoch 33/150, Training Loss: 0.4238\n",
            "Epoch 34/150, Training Loss: 0.4226\n",
            "Epoch 35/150, Training Loss: 0.4215\n",
            "Epoch 36/150, Training Loss: 0.4204\n",
            "Epoch 37/150, Training Loss: 0.4194\n",
            "Epoch 38/150, Training Loss: 0.4184\n",
            "Epoch 39/150, Training Loss: 0.4174\n",
            "Epoch 40/150, Training Loss: 0.4165\n",
            "Epoch 41/150, Training Loss: 0.4156\n",
            "Epoch 42/150, Training Loss: 0.4147\n",
            "Epoch 43/150, Training Loss: 0.4138\n",
            "Epoch 44/150, Training Loss: 0.4130\n",
            "Epoch 45/150, Training Loss: 0.4121\n",
            "Epoch 46/150, Training Loss: 0.4113\n",
            "Epoch 47/150, Training Loss: 0.4105\n",
            "Epoch 48/150, Training Loss: 0.4097\n",
            "Epoch 49/150, Training Loss: 0.4090\n",
            "Epoch 50/150, Training Loss: 0.4083\n",
            "Epoch 51/150, Training Loss: 0.4075\n",
            "Epoch 52/150, Training Loss: 0.4069\n",
            "Epoch 53/150, Training Loss: 0.4062\n",
            "Epoch 54/150, Training Loss: 0.4055\n",
            "Epoch 55/150, Training Loss: 0.4049\n",
            "Epoch 56/150, Training Loss: 0.4042\n",
            "Epoch 57/150, Training Loss: 0.4036\n",
            "Epoch 58/150, Training Loss: 0.4030\n",
            "Epoch 59/150, Training Loss: 0.4024\n",
            "Epoch 60/150, Training Loss: 0.4018\n",
            "Epoch 61/150, Training Loss: 0.4013\n",
            "Epoch 62/150, Training Loss: 0.4007\n",
            "Epoch 63/150, Training Loss: 0.4002\n",
            "Epoch 64/150, Training Loss: 0.3996\n",
            "Epoch 65/150, Training Loss: 0.3991\n",
            "Epoch 66/150, Training Loss: 0.3986\n",
            "Epoch 67/150, Training Loss: 0.3981\n",
            "Epoch 68/150, Training Loss: 0.3976\n",
            "Epoch 69/150, Training Loss: 0.3971\n",
            "Epoch 70/150, Training Loss: 0.3967\n",
            "Epoch 71/150, Training Loss: 0.3962\n",
            "Epoch 72/150, Training Loss: 0.3957\n",
            "Epoch 73/150, Training Loss: 0.3953\n",
            "Epoch 74/150, Training Loss: 0.3948\n",
            "Epoch 75/150, Training Loss: 0.3944\n",
            "Epoch 76/150, Training Loss: 0.3940\n",
            "Epoch 77/150, Training Loss: 0.3936\n",
            "Epoch 78/150, Training Loss: 0.3932\n",
            "Epoch 79/150, Training Loss: 0.3928\n",
            "Epoch 80/150, Training Loss: 0.3924\n",
            "Epoch 81/150, Training Loss: 0.3920\n",
            "Epoch 82/150, Training Loss: 0.3916\n",
            "Epoch 83/150, Training Loss: 0.3912\n",
            "Epoch 84/150, Training Loss: 0.3909\n",
            "Epoch 85/150, Training Loss: 0.3905\n",
            "Epoch 86/150, Training Loss: 0.3902\n",
            "Epoch 87/150, Training Loss: 0.3898\n",
            "Epoch 88/150, Training Loss: 0.3895\n",
            "Epoch 89/150, Training Loss: 0.3891\n",
            "Epoch 90/150, Training Loss: 0.3888\n",
            "Epoch 91/150, Training Loss: 0.3885\n",
            "Epoch 92/150, Training Loss: 0.3881\n",
            "Epoch 93/150, Training Loss: 0.3878\n",
            "Epoch 94/150, Training Loss: 0.3875\n",
            "Epoch 95/150, Training Loss: 0.3872\n",
            "Epoch 96/150, Training Loss: 0.3869\n",
            "Epoch 97/150, Training Loss: 0.3866\n",
            "Epoch 98/150, Training Loss: 0.3863\n",
            "Epoch 99/150, Training Loss: 0.3860\n",
            "Epoch 100/150, Training Loss: 0.3857\n",
            "Epoch 101/150, Training Loss: 0.3854\n",
            "Epoch 102/150, Training Loss: 0.3852\n",
            "Epoch 103/150, Training Loss: 0.3849\n",
            "Epoch 104/150, Training Loss: 0.3846\n",
            "Epoch 105/150, Training Loss: 0.3843\n",
            "Epoch 106/150, Training Loss: 0.3841\n",
            "Epoch 107/150, Training Loss: 0.3838\n",
            "Epoch 108/150, Training Loss: 0.3835\n",
            "Epoch 109/150, Training Loss: 0.3833\n",
            "Epoch 110/150, Training Loss: 0.3830\n",
            "Epoch 111/150, Training Loss: 0.3828\n",
            "Epoch 112/150, Training Loss: 0.3825\n",
            "Epoch 113/150, Training Loss: 0.3823\n",
            "Epoch 114/150, Training Loss: 0.3820\n",
            "Epoch 115/150, Training Loss: 0.3818\n",
            "Epoch 116/150, Training Loss: 0.3815\n",
            "Epoch 117/150, Training Loss: 0.3813\n",
            "Epoch 118/150, Training Loss: 0.3811\n",
            "Epoch 119/150, Training Loss: 0.3808\n",
            "Epoch 120/150, Training Loss: 0.3806\n",
            "Epoch 121/150, Training Loss: 0.3804\n",
            "Epoch 122/150, Training Loss: 0.3801\n",
            "Epoch 123/150, Training Loss: 0.3799\n",
            "Epoch 124/150, Training Loss: 0.3797\n",
            "Epoch 125/150, Training Loss: 0.3795\n",
            "Epoch 126/150, Training Loss: 0.3793\n",
            "Epoch 127/150, Training Loss: 0.3790\n",
            "Epoch 128/150, Training Loss: 0.3788\n",
            "Epoch 129/150, Training Loss: 0.3786\n",
            "Epoch 130/150, Training Loss: 0.3784\n",
            "Epoch 131/150, Training Loss: 0.3782\n",
            "Epoch 132/150, Training Loss: 0.3780\n",
            "Epoch 133/150, Training Loss: 0.3778\n",
            "Epoch 134/150, Training Loss: 0.3776\n",
            "Epoch 135/150, Training Loss: 0.3774\n",
            "Epoch 136/150, Training Loss: 0.3772\n",
            "Epoch 137/150, Training Loss: 0.3770\n",
            "Epoch 138/150, Training Loss: 0.3768\n",
            "Epoch 139/150, Training Loss: 0.3766\n",
            "Epoch 140/150, Training Loss: 0.3764\n",
            "Epoch 141/150, Training Loss: 0.3762\n",
            "Epoch 142/150, Training Loss: 0.3761\n",
            "Epoch 143/150, Training Loss: 0.3759\n",
            "Epoch 144/150, Training Loss: 0.3757\n",
            "Epoch 145/150, Training Loss: 0.3755\n",
            "Epoch 146/150, Training Loss: 0.3753\n",
            "Epoch 147/150, Training Loss: 0.3752\n",
            "Epoch 148/150, Training Loss: 0.3750\n",
            "Epoch 149/150, Training Loss: 0.3748\n",
            "Epoch 150/150, Training Loss: 0.3747\n",
            "Final Train Accuracy: 0.9151\n",
            "Test Accuracy: 0.9074\n"
          ]
        }
      ]
    },
    {
      "cell_type": "code",
      "source": [],
      "metadata": {
        "id": "OESQ_C3pkiod"
      },
      "id": "OESQ_C3pkiod",
      "execution_count": null,
      "outputs": []
    }
  ],
  "metadata": {
    "kernelspec": {
      "display_name": "Python 3",
      "name": "python3"
    },
    "language_info": {
      "codemirror_mode": {
        "name": "ipython",
        "version": 3
      },
      "file_extension": ".py",
      "mimetype": "text/x-python",
      "name": "python",
      "nbconvert_exporter": "python",
      "pygments_lexer": "ipython3",
      "version": "3.12.11"
    },
    "colab": {
      "provenance": [],
      "gpuType": "T4",
      "include_colab_link": true
    },
    "accelerator": "GPU"
  },
  "nbformat": 4,
  "nbformat_minor": 5
}