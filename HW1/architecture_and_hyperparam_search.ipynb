{
  "cells": [
    {
      "cell_type": "markdown",
      "metadata": {
        "id": "view-in-github",
        "colab_type": "text"
      },
      "source": [
        "<a href=\"https://colab.research.google.com/github/yashc73080/CS462-Deep-Learning/blob/main/HW1/architecture_and_hyperparam_search.ipynb\" target=\"_parent\"><img src=\"https://colab.research.google.com/assets/colab-badge.svg\" alt=\"Open In Colab\"/></a>"
      ]
    },
    {
      "cell_type": "code",
      "execution_count": null,
      "id": "d5179d08",
      "metadata": {
        "id": "d5179d08"
      },
      "outputs": [],
      "source": [
        "import torch\n",
        "import torch.nn as nn\n",
        "import torch.optim as optim\n",
        "import torchvision\n",
        "import torchvision.transforms as transforms\n",
        "import numpy as np\n",
        "import random\n",
        "import matplotlib.pyplot as plt"
      ]
    },
    {
      "cell_type": "markdown",
      "id": "ac721909",
      "metadata": {
        "id": "ac721909"
      },
      "source": [
        "Generating and Preparing Data"
      ]
    },
    {
      "cell_type": "code",
      "execution_count": null,
      "id": "cfde77b1",
      "metadata": {
        "colab": {
          "base_uri": "https://localhost:8080/"
        },
        "id": "cfde77b1",
        "outputId": "d19d9e21-f41c-4c37-9a0b-b5c234858534"
      },
      "outputs": [
        {
          "output_type": "stream",
          "name": "stderr",
          "text": [
            "100%|██████████| 9.91M/9.91M [00:00<00:00, 58.7MB/s]\n",
            "100%|██████████| 28.9k/28.9k [00:00<00:00, 1.70MB/s]\n",
            "100%|██████████| 1.65M/1.65M [00:00<00:00, 14.3MB/s]\n",
            "100%|██████████| 4.54k/4.54k [00:00<00:00, 9.68MB/s]\n"
          ]
        }
      ],
      "source": [
        "trainset = torchvision.datasets.MNIST(root='./data', train=True, download=True, transform=transforms.ToTensor())\n",
        "testset = torchvision.datasets.MNIST(root='./data', train=False, download=True, transform=transforms.ToTensor())"
      ]
    },
    {
      "cell_type": "code",
      "source": [
        "def preprocess_data(dataset):\n",
        "  data = (dataset.data / 255.0) - 0.5\n",
        "  flattened_data = data.view(data.size(0), -1)\n",
        "  targets = dataset.targets\n",
        "  return flattened_data, targets\n",
        "\n",
        "X_train, y_train = preprocess_data(trainset)\n",
        "X_test, y_test = preprocess_data(testset)"
      ],
      "metadata": {
        "id": "g1R0O6RPFbCp"
      },
      "id": "g1R0O6RPFbCp",
      "execution_count": null,
      "outputs": []
    },
    {
      "cell_type": "code",
      "source": [
        "X_train.size()"
      ],
      "metadata": {
        "colab": {
          "base_uri": "https://localhost:8080/"
        },
        "id": "NPTk1vDUGMjG",
        "outputId": "5e9290bc-80e7-4273-8c07-729ef676d7c0"
      },
      "id": "NPTk1vDUGMjG",
      "execution_count": null,
      "outputs": [
        {
          "output_type": "execute_result",
          "data": {
            "text/plain": [
              "torch.Size([60000, 784])"
            ]
          },
          "metadata": {},
          "execution_count": 6
        }
      ]
    },
    {
      "cell_type": "markdown",
      "source": [
        "# Basic Model\n",
        "\n",
        "$F(\\vec{x}) = \\text{softmax}(A\\vec{v}+\\vec{b})$"
      ],
      "metadata": {
        "id": "1jMEbeKE_6IP"
      },
      "id": "1jMEbeKE_6IP"
    },
    {
      "cell_type": "code",
      "source": [
        "class BasicModel():\n",
        "  def __init__(self, input=784, output=10, device='cpu'):\n",
        "    self.device = torch.device('cuda' if torch.cuda.is_available() else 'cpu')\n",
        "\n",
        "    self.input = input\n",
        "    self.output = output\n",
        "    self.A = nn.Parameter(torch.randn(output, input).to(device), requires_grad=True)\n",
        "    self.b = nn.Parameter(torch.randn(output, 1).to(device), requires_grad=True)\n",
        "\n",
        "  def forward(self, x):\n",
        "    logits = x @ self.A.t() + self.b\n",
        "    y_hat = nn.functional.softmax(logits, dim=1)\n",
        "    return y_hat\n",
        "\n",
        "  def train(self, X_train, y_train, X_test, y_test, epochs=100, lr=0.7):\n",
        "    self.loss_function = nn.CrossEntropyLoss()\n",
        "    self.optimizer = optim.SGD([self.A, self.b], lr=lr)\n",
        "\n",
        "    for epoch in range(epochs):\n",
        "\n",
        "      for x, y in zip(X_train, y_train):\n",
        "        x = x.view(1, -1)\n",
        "        prediction = self.forward(x)\n",
        "        loss = self.loss_function(prediction, y)\n",
        "        loss.backward()\n",
        "        self.optimizer.step()\n",
        "        self.optimizer.zero_grad()\n",
        "\n",
        "      with torch.no_grad():\n",
        "        predictions = self.forward(X_test)\n",
        "        acc = (torch.argmax(predictions, dim=1) == y_test).float().mean()\n",
        "      print(f\"Epoch {epoch+1}/{epochs}, Loss: {loss.item():.4f}, Test Acc: {acc:.4f}\")\n",
        "\n",
        "  def test(self, X_test, y_test):\n"
      ],
      "metadata": {
        "id": "XnLXAQSMFQE4"
      },
      "id": "XnLXAQSMFQE4",
      "execution_count": null,
      "outputs": []
    }
  ],
  "metadata": {
    "kernelspec": {
      "display_name": "cs462",
      "language": "python",
      "name": "python3"
    },
    "language_info": {
      "codemirror_mode": {
        "name": "ipython",
        "version": 3
      },
      "file_extension": ".py",
      "mimetype": "text/x-python",
      "name": "python",
      "nbconvert_exporter": "python",
      "pygments_lexer": "ipython3",
      "version": "3.12.11"
    },
    "colab": {
      "provenance": [],
      "include_colab_link": true
    }
  },
  "nbformat": 4,
  "nbformat_minor": 5
}