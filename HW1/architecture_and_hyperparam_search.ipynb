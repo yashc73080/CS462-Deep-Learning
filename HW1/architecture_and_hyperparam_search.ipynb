{
  "cells": [
    {
      "cell_type": "markdown",
      "metadata": {
        "id": "view-in-github",
        "colab_type": "text"
      },
      "source": [
        "<a href=\"https://colab.research.google.com/github/yashc73080/CS462-Deep-Learning/blob/main/HW1/architecture_and_hyperparam_search.ipynb\" target=\"_parent\"><img src=\"https://colab.research.google.com/assets/colab-badge.svg\" alt=\"Open In Colab\"/></a>"
      ]
    },
    {
      "cell_type": "code",
      "execution_count": 25,
      "id": "d5179d08",
      "metadata": {
        "id": "d5179d08"
      },
      "outputs": [],
      "source": [
        "import torch\n",
        "import torch.nn as nn\n",
        "import torch.optim as optim\n",
        "import torchvision\n",
        "import torchvision.transforms as transforms\n",
        "import numpy as np\n",
        "import random\n",
        "import matplotlib.pyplot as plt"
      ]
    },
    {
      "cell_type": "markdown",
      "id": "ac721909",
      "metadata": {
        "id": "ac721909"
      },
      "source": [
        "Generating and Preparing Data"
      ]
    },
    {
      "cell_type": "code",
      "execution_count": 2,
      "id": "cfde77b1",
      "metadata": {
        "colab": {
          "base_uri": "https://localhost:8080/"
        },
        "id": "cfde77b1",
        "outputId": "a5ebe247-8c7a-4fa5-ec44-ff47ad29a5a2"
      },
      "outputs": [
        {
          "output_type": "stream",
          "name": "stderr",
          "text": [
            "100%|██████████| 9.91M/9.91M [00:00<00:00, 18.0MB/s]\n",
            "100%|██████████| 28.9k/28.9k [00:00<00:00, 481kB/s]\n",
            "100%|██████████| 1.65M/1.65M [00:00<00:00, 4.43MB/s]\n",
            "100%|██████████| 4.54k/4.54k [00:00<00:00, 13.4MB/s]\n"
          ]
        }
      ],
      "source": [
        "trainset = torchvision.datasets.MNIST(root='./data', train=True, download=True, transform=transforms.ToTensor())\n",
        "testset = torchvision.datasets.MNIST(root='./data', train=False, download=True, transform=transforms.ToTensor())"
      ]
    },
    {
      "cell_type": "code",
      "source": [
        "def preprocess_data(dataset, device):\n",
        "  data = (dataset.data / 255.0) - 0.5\n",
        "  flattened_data = data.view(data.size(0), -1)\n",
        "  targets = dataset.targets\n",
        "  return flattened_data.to(device), targets.to(device)\n",
        "\n",
        "device = torch.device('cuda' if torch.cuda.is_available() else 'cpu')\n",
        "X_train, y_train = preprocess_data(trainset, device)\n",
        "X_test, y_test = preprocess_data(testset, device)"
      ],
      "metadata": {
        "id": "g1R0O6RPFbCp"
      },
      "id": "g1R0O6RPFbCp",
      "execution_count": 3,
      "outputs": []
    },
    {
      "cell_type": "code",
      "source": [
        "X_train.size()"
      ],
      "metadata": {
        "colab": {
          "base_uri": "https://localhost:8080/"
        },
        "id": "NPTk1vDUGMjG",
        "outputId": "5e9290bc-80e7-4273-8c07-729ef676d7c0"
      },
      "id": "NPTk1vDUGMjG",
      "execution_count": null,
      "outputs": [
        {
          "output_type": "execute_result",
          "data": {
            "text/plain": [
              "torch.Size([60000, 784])"
            ]
          },
          "metadata": {},
          "execution_count": 6
        }
      ]
    },
    {
      "cell_type": "markdown",
      "source": [
        "# 1. Basic Model\n",
        "\n",
        "$F(\\vec{x}) = \\text{softmax}(A\\vec{v}+\\vec{b})$"
      ],
      "metadata": {
        "id": "1jMEbeKE_6IP"
      },
      "id": "1jMEbeKE_6IP"
    },
    {
      "cell_type": "code",
      "source": [
        "class BasicModel():\n",
        "  def __init__(self, input=784, output=10, device='cpu'):\n",
        "    # Set device to CPU or GPU\n",
        "    self.device = torch.device('cuda' if torch.cuda.is_available() else device)\n",
        "\n",
        "    # Model parameters\n",
        "    self.input = input\n",
        "    self.output = output\n",
        "    self.A = nn.Parameter(torch.randn(output, input, device=self.device), requires_grad=True) # shape (10, 784)\n",
        "    self.b = nn.Parameter(torch.randn(output, device=self.device), requires_grad=True)  # shape (10,)\n",
        "\n",
        "  def forward(self, x):\n",
        "    logits = x @ self.A.t() + self.b # CrossEntropyLoss applies softmax internally\n",
        "    return logits\n",
        "\n",
        "  def train(self, X_train, y_train, epochs=100, lr=0.7, batch_size=64):\n",
        "    self.loss_function = nn.CrossEntropyLoss()\n",
        "    self.optimizer = optim.SGD([self.A, self.b], lr=lr)\n",
        "\n",
        "    n = X_train.size(0)\n",
        "\n",
        "    for epoch in range(epochs):\n",
        "        total_loss = 0.0\n",
        "\n",
        "        # Process by batch for more efficiency\n",
        "        for i in range(0, n, batch_size):\n",
        "            x_batch = X_train[i:i+batch_size]\n",
        "            y_batch = y_train[i:i+batch_size]\n",
        "\n",
        "            logits = self.forward(x_batch)\n",
        "            loss = self.loss_function(logits, y_batch)\n",
        "\n",
        "            self.optimizer.zero_grad()\n",
        "            loss.backward()\n",
        "            self.optimizer.step()\n",
        "\n",
        "            total_loss += loss.item()\n",
        "\n",
        "        if epoch % 5 == 0:\n",
        "          print(f\"Epoch {epoch+1}/{epochs}, Training Loss: {total_loss / (n // batch_size):.4f}\")\n",
        "\n",
        "    with torch.no_grad():\n",
        "      logits = self.forward(X_train)\n",
        "      preds = torch.argmax(logits, dim=1)\n",
        "      acc = (preds == y_train).float().mean().item()\n",
        "    print(f\"Final Train Accuracy: {acc:.4f}\")\n",
        "\n",
        "  def test(self, X_test, y_test):\n",
        "    with torch.no_grad():\n",
        "      logits = self.forward(X_test)\n",
        "      preds = torch.argmax(logits, dim=1)\n",
        "      acc = (preds == y_test).float().mean().item()\n",
        "    print(f\"Test Accuracy: {acc:.4f}\")\n",
        "    return acc"
      ],
      "metadata": {
        "id": "XnLXAQSMFQE4"
      },
      "id": "XnLXAQSMFQE4",
      "execution_count": 28,
      "outputs": []
    },
    {
      "cell_type": "code",
      "source": [
        "basic_model = BasicModel(input=784, output=10)\n",
        "basic_model.train(X_train, y_train, epochs=150, lr=0.7, batch_size=64)\n",
        "basic_test_acc = basic_model.test(X_test, y_test)"
      ],
      "metadata": {
        "colab": {
          "base_uri": "https://localhost:8080/"
        },
        "id": "0FRiyYBNkFBs",
        "outputId": "d3cd1f31-97ef-4afc-8d65-712f1dcb86e2"
      },
      "id": "0FRiyYBNkFBs",
      "execution_count": 29,
      "outputs": [
        {
          "output_type": "stream",
          "name": "stdout",
          "text": [
            "Epoch 1/150, Training Loss: 1.3803\n",
            "Epoch 6/150, Training Loss: 0.5289\n",
            "Epoch 11/150, Training Loss: 0.4805\n",
            "Epoch 16/150, Training Loss: 0.4582\n",
            "Epoch 21/150, Training Loss: 0.4446\n",
            "Epoch 26/150, Training Loss: 0.4340\n",
            "Epoch 31/150, Training Loss: 0.4256\n",
            "Epoch 36/150, Training Loss: 0.4194\n",
            "Epoch 41/150, Training Loss: 0.4144\n",
            "Epoch 46/150, Training Loss: 0.4103\n",
            "Epoch 51/150, Training Loss: 0.4067\n",
            "Epoch 56/150, Training Loss: 0.4033\n",
            "Epoch 61/150, Training Loss: 0.4006\n",
            "Epoch 66/150, Training Loss: 0.3983\n",
            "Epoch 71/150, Training Loss: 0.3960\n",
            "Epoch 76/150, Training Loss: 0.3938\n",
            "Epoch 81/150, Training Loss: 0.3918\n",
            "Epoch 86/150, Training Loss: 0.3899\n",
            "Epoch 91/150, Training Loss: 0.3883\n",
            "Epoch 96/150, Training Loss: 0.3867\n",
            "Epoch 101/150, Training Loss: 0.3853\n",
            "Epoch 106/150, Training Loss: 0.3840\n",
            "Epoch 111/150, Training Loss: 0.3827\n",
            "Epoch 116/150, Training Loss: 0.3816\n",
            "Epoch 121/150, Training Loss: 0.3805\n",
            "Epoch 126/150, Training Loss: 0.3795\n",
            "Epoch 131/150, Training Loss: 0.3785\n",
            "Epoch 136/150, Training Loss: 0.3776\n",
            "Epoch 141/150, Training Loss: 0.3767\n",
            "Epoch 146/150, Training Loss: 0.3758\n",
            "Final Train Accuracy: 0.9129\n",
            "Test Accuracy: 0.9025\n"
          ]
        }
      ]
    },
    {
      "cell_type": "markdown",
      "source": [
        "# 2. Fixed Size Layer Model"
      ],
      "metadata": {
        "id": "5InwspTUoH0J"
      },
      "id": "5InwspTUoH0J"
    },
    {
      "cell_type": "code",
      "source": [
        "class FixedSizeNetwork(nn.Module):\n",
        "  def __init__(self, input_size=784, output_size=10, num_layers=2, hidden_width=200, device='cpu'):\n",
        "    '''\n",
        "    Args:\n",
        "      input_size (int): MNIST input size\n",
        "      output_size (int): MNIST output size\n",
        "      num_layers (int): Number of hidden layers (k)\n",
        "      hidden_width (int): Width of hidden layers (m)\n",
        "    '''\n",
        "    super().__init__()\n",
        "\n",
        "    # Set device to CPU or GPU\n",
        "    self.device = torch.device('cuda' if torch.cuda.is_available() else device)\n",
        "\n",
        "    # All layers of network\n",
        "    layers = []\n",
        "\n",
        "    # First layer (Input -> H1)\n",
        "    layers.append(nn.Linear(input_size, hidden_width))\n",
        "    layers.append(nn.Tanh())\n",
        "\n",
        "    # Rest of the layers\n",
        "    for _ in range(num_layers - 1):\n",
        "      layers.append(nn.Linear(hidden_width, hidden_width))\n",
        "      layers.append(nn.Tanh())\n",
        "\n",
        "    # Wrap hidden layers\n",
        "    self.hidden_layers = nn.Sequential(*layers)\n",
        "\n",
        "    # Add output layer (Hk -> Output)\n",
        "    self.output_layer = nn.Linear(hidden_width, output_size)\n",
        "\n",
        "    # Move whole network to device\n",
        "    self.to(self.device)\n",
        "\n",
        "  def forward(self, x):\n",
        "    # Flatten input\n",
        "    x = x.view(x.size(0), -1)\n",
        "\n",
        "    # Pass input through all hidden layers\n",
        "    x = self.hidden_layers(x)\n",
        "\n",
        "    # Pass through output layer\n",
        "    logits = self.output_layer(x)\n",
        "\n",
        "    return logits\n",
        "\n",
        "  def train(self, X_train, y_train, epochs=100, lr=0.7, batch_size=64):\n",
        "    self.loss_function = nn.CrossEntropyLoss()\n",
        "    self.optimizer = optim.SGD(self.parameters(), lr=lr)\n",
        "\n",
        "    n = X_train.size(0)\n",
        "\n",
        "    for epoch in range(epochs):\n",
        "      total_loss = 0.0\n",
        "\n",
        "      for i in range(0, n, batch_size):\n",
        "        x_batch = X_train[i:i+batch_size]\n",
        "        y_batch = y_train[i:i+batch_size]\n",
        "\n",
        "        logits = self.forward(x_batch)\n",
        "        loss = self.loss_function(logits, y_batch)\n",
        "\n",
        "        self.optimizer.zero_grad()\n",
        "        loss.backward()\n",
        "        self.optimizer.step()\n",
        "\n",
        "        total_loss += loss.item()\n",
        "\n",
        "      if epoch % 5 == 0:\n",
        "        print(f\"Epoch {epoch+1}/{epochs}, Training Loss: {total_loss / (n // batch_size):.4f}\")\n",
        "\n",
        "    with torch.no_grad():\n",
        "      logits = self.forward(X_train)\n",
        "      preds = torch.argmax(logits, dim=1)\n",
        "      acc = (preds == y_train).float().mean().item()\n",
        "    print(f\"Final Train Accuracy: {acc:.4f}\")\n",
        "\n",
        "  def test(self, X_test, y_test):\n",
        "    with torch.no_grad():\n",
        "      logits = self.forward(X_test)\n",
        "      preds = torch.argmax(logits, dim=1)\n",
        "      acc = (preds == y_test).float().mean().item()\n",
        "    print(f\"Test Accuracy: {acc:.4f}\")\n",
        "    return acc"
      ],
      "metadata": {
        "id": "OESQ_C3pkiod"
      },
      "id": "OESQ_C3pkiod",
      "execution_count": 31,
      "outputs": []
    },
    {
      "cell_type": "code",
      "source": [
        "fixed_network = FixedSizeNetwork(input_size=784, output_size=10, num_layers=2, hidden_width=200)\n",
        "fixed_network.train(X_train, y_train, epochs=100, lr=0.7, batch_size=64)\n",
        "fixed_test_acc = fixed_network.test(X_test, y_test)"
      ],
      "metadata": {
        "id": "b3SxpO45uAst",
        "outputId": "046c164b-ee1f-44a9-9129-5447a9705ae8",
        "colab": {
          "base_uri": "https://localhost:8080/"
        }
      },
      "id": "b3SxpO45uAst",
      "execution_count": 32,
      "outputs": [
        {
          "output_type": "stream",
          "name": "stdout",
          "text": [
            "Epoch 1/100, Training Loss: 58.5420\n",
            "Epoch 6/100, Training Loss: 60.8285\n",
            "Epoch 11/100, Training Loss: 59.5987\n",
            "Epoch 16/100, Training Loss: 59.9111\n",
            "Epoch 21/100, Training Loss: 60.0360\n",
            "Epoch 26/100, Training Loss: 60.6065\n",
            "Epoch 31/100, Training Loss: 59.6161\n",
            "Epoch 36/100, Training Loss: 60.1842\n",
            "Epoch 41/100, Training Loss: 60.4737\n",
            "Epoch 46/100, Training Loss: 60.0701\n",
            "Epoch 51/100, Training Loss: 59.2184\n",
            "Epoch 56/100, Training Loss: 60.3127\n",
            "Epoch 61/100, Training Loss: 60.0912\n",
            "Epoch 66/100, Training Loss: 59.9352\n",
            "Epoch 71/100, Training Loss: 59.8623\n",
            "Epoch 76/100, Training Loss: 59.5196\n",
            "Epoch 81/100, Training Loss: 59.5686\n",
            "Epoch 86/100, Training Loss: 59.3367\n",
            "Epoch 91/100, Training Loss: 59.3611\n",
            "Epoch 96/100, Training Loss: 58.9617\n",
            "Final Train Accuracy: 0.1124\n",
            "Test Accuracy: 0.1135\n"
          ]
        }
      ]
    },
    {
      "cell_type": "code",
      "source": [],
      "metadata": {
        "id": "k_awVWAguRdb"
      },
      "id": "k_awVWAguRdb",
      "execution_count": null,
      "outputs": []
    }
  ],
  "metadata": {
    "kernelspec": {
      "display_name": "Python 3",
      "name": "python3"
    },
    "language_info": {
      "codemirror_mode": {
        "name": "ipython",
        "version": 3
      },
      "file_extension": ".py",
      "mimetype": "text/x-python",
      "name": "python",
      "nbconvert_exporter": "python",
      "pygments_lexer": "ipython3",
      "version": "3.12.11"
    },
    "colab": {
      "provenance": [],
      "gpuType": "T4",
      "include_colab_link": true
    },
    "accelerator": "GPU"
  },
  "nbformat": 4,
  "nbformat_minor": 5
}