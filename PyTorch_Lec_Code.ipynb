{
  "cells": [
    {
      "cell_type": "code",
      "execution_count": 1,
      "metadata": {
        "id": "OYhNQecnbyhU"
      },
      "outputs": [],
      "source": [
        "import torch                                  # Main PyTorch Library\n",
        "import torchvision                            # Tools connected to applying ML to Vision problems\n",
        "import torchvision.transforms as transforms   # Tools for transforming the shape or form of data\n",
        "import torchvision.datasets as datasets       # Vision (Image) Datasets\n",
        "import matplotlib.pyplot as plt               # Useful if we want to plot anything\n",
        "import numpy as np                            # Numerical matrix/array calculation support\n",
        "import torch.nn as nn                         # Specific pytorch functionality useful for neural networks\n",
        "import torch.optim as optim                   # PyTorch optimizers (let it handle the gradient updates so you don't have to)\n",
        "import random                                 # Just in case we need some random numbers"
      ]
    },
    {
      "cell_type": "code",
      "execution_count": 2,
      "metadata": {
        "id": "R2rzhpz-c3dq"
      },
      "outputs": [],
      "source": [
        "trainset = datasets.MNIST(root='./data', train=True, download=True, transform = transforms.ToTensor())"
      ]
    },
    {
      "cell_type": "code",
      "execution_count": null,
      "metadata": {
        "colab": {
          "base_uri": "https://localhost:8080/"
        },
        "id": "Mfq1YSpTcP9I",
        "outputId": "e078dfa6-dd05-4e47-9bbb-dd268f634dc3"
      },
      "outputs": [
        {
          "data": {
            "text/plain": [
              "torch.Size([60000, 28, 28])"
            ]
          },
          "execution_count": 3,
          "metadata": {},
          "output_type": "execute_result"
        }
      ],
      "source": [
        "trainset.data.shape # Shows image, pixel, pixel"
      ]
    },
    {
      "cell_type": "code",
      "execution_count": 4,
      "metadata": {
        "colab": {
          "base_uri": "https://localhost:8080/"
        },
        "id": "U9KdEskkdBum",
        "outputId": "c3f8c497-0d3b-4f7f-c8e0-ec74e53c6b1d"
      },
      "outputs": [
        {
          "data": {
            "text/plain": [
              "tensor([[  0,   0,   0,   0,   0,   0,   0,   0,   0,   0,   0,   0,   0,   0,\n",
              "           0,   0,   0,   0,   0,   0,   0,   0,   0,   0,   0,   0,   0,   0],\n",
              "        [  0,   0,   0,   0,   0,   0,   0,   0,   0,   0,   0,   0,   0,   0,\n",
              "           0,   0,   0,   0,   0,   0,   0,   0,   0,   0,   0,   0,   0,   0],\n",
              "        [  0,   0,   0,   0,   0,   0,   0,   0,   0,   0,   0,   0,   0,   0,\n",
              "           0,   0,   0,   0,   0,   0,   0,   0,   0,   0,   0,   0,   0,   0],\n",
              "        [  0,   0,   0,   0,   0,   0,   0,   0,   0,   0,   0,   0,   0,   0,\n",
              "           0,   0,   0,   0,   0,   0,   0,   0,   0,   0,   0,   0,   0,   0],\n",
              "        [  0,   0,   0,   0,   0,   0,   0,   0,   0,   0,   0,   0,   0,   0,\n",
              "           0,   0,   0,   0,   0,   0,   0,   0,   0,   0,   0,   0,   0,   0],\n",
              "        [  0,   0,   0,   0,   0,   0,   0,   0,   0,   0,   0,   0,   3,  18,\n",
              "          18,  18, 126, 136, 175,  26, 166, 255, 247, 127,   0,   0,   0,   0],\n",
              "        [  0,   0,   0,   0,   0,   0,   0,   0,  30,  36,  94, 154, 170, 253,\n",
              "         253, 253, 253, 253, 225, 172, 253, 242, 195,  64,   0,   0,   0,   0],\n",
              "        [  0,   0,   0,   0,   0,   0,   0,  49, 238, 253, 253, 253, 253, 253,\n",
              "         253, 253, 253, 251,  93,  82,  82,  56,  39,   0,   0,   0,   0,   0],\n",
              "        [  0,   0,   0,   0,   0,   0,   0,  18, 219, 253, 253, 253, 253, 253,\n",
              "         198, 182, 247, 241,   0,   0,   0,   0,   0,   0,   0,   0,   0,   0],\n",
              "        [  0,   0,   0,   0,   0,   0,   0,   0,  80, 156, 107, 253, 253, 205,\n",
              "          11,   0,  43, 154,   0,   0,   0,   0,   0,   0,   0,   0,   0,   0],\n",
              "        [  0,   0,   0,   0,   0,   0,   0,   0,   0,  14,   1, 154, 253,  90,\n",
              "           0,   0,   0,   0,   0,   0,   0,   0,   0,   0,   0,   0,   0,   0],\n",
              "        [  0,   0,   0,   0,   0,   0,   0,   0,   0,   0,   0, 139, 253, 190,\n",
              "           2,   0,   0,   0,   0,   0,   0,   0,   0,   0,   0,   0,   0,   0],\n",
              "        [  0,   0,   0,   0,   0,   0,   0,   0,   0,   0,   0,  11, 190, 253,\n",
              "          70,   0,   0,   0,   0,   0,   0,   0,   0,   0,   0,   0,   0,   0],\n",
              "        [  0,   0,   0,   0,   0,   0,   0,   0,   0,   0,   0,   0,  35, 241,\n",
              "         225, 160, 108,   1,   0,   0,   0,   0,   0,   0,   0,   0,   0,   0],\n",
              "        [  0,   0,   0,   0,   0,   0,   0,   0,   0,   0,   0,   0,   0,  81,\n",
              "         240, 253, 253, 119,  25,   0,   0,   0,   0,   0,   0,   0,   0,   0],\n",
              "        [  0,   0,   0,   0,   0,   0,   0,   0,   0,   0,   0,   0,   0,   0,\n",
              "          45, 186, 253, 253, 150,  27,   0,   0,   0,   0,   0,   0,   0,   0],\n",
              "        [  0,   0,   0,   0,   0,   0,   0,   0,   0,   0,   0,   0,   0,   0,\n",
              "           0,  16,  93, 252, 253, 187,   0,   0,   0,   0,   0,   0,   0,   0],\n",
              "        [  0,   0,   0,   0,   0,   0,   0,   0,   0,   0,   0,   0,   0,   0,\n",
              "           0,   0,   0, 249, 253, 249,  64,   0,   0,   0,   0,   0,   0,   0],\n",
              "        [  0,   0,   0,   0,   0,   0,   0,   0,   0,   0,   0,   0,   0,   0,\n",
              "          46, 130, 183, 253, 253, 207,   2,   0,   0,   0,   0,   0,   0,   0],\n",
              "        [  0,   0,   0,   0,   0,   0,   0,   0,   0,   0,   0,   0,  39, 148,\n",
              "         229, 253, 253, 253, 250, 182,   0,   0,   0,   0,   0,   0,   0,   0],\n",
              "        [  0,   0,   0,   0,   0,   0,   0,   0,   0,   0,  24, 114, 221, 253,\n",
              "         253, 253, 253, 201,  78,   0,   0,   0,   0,   0,   0,   0,   0,   0],\n",
              "        [  0,   0,   0,   0,   0,   0,   0,   0,  23,  66, 213, 253, 253, 253,\n",
              "         253, 198,  81,   2,   0,   0,   0,   0,   0,   0,   0,   0,   0,   0],\n",
              "        [  0,   0,   0,   0,   0,   0,  18, 171, 219, 253, 253, 253, 253, 195,\n",
              "          80,   9,   0,   0,   0,   0,   0,   0,   0,   0,   0,   0,   0,   0],\n",
              "        [  0,   0,   0,   0,  55, 172, 226, 253, 253, 253, 253, 244, 133,  11,\n",
              "           0,   0,   0,   0,   0,   0,   0,   0,   0,   0,   0,   0,   0,   0],\n",
              "        [  0,   0,   0,   0, 136, 253, 253, 253, 212, 135, 132,  16,   0,   0,\n",
              "           0,   0,   0,   0,   0,   0,   0,   0,   0,   0,   0,   0,   0,   0],\n",
              "        [  0,   0,   0,   0,   0,   0,   0,   0,   0,   0,   0,   0,   0,   0,\n",
              "           0,   0,   0,   0,   0,   0,   0,   0,   0,   0,   0,   0,   0,   0],\n",
              "        [  0,   0,   0,   0,   0,   0,   0,   0,   0,   0,   0,   0,   0,   0,\n",
              "           0,   0,   0,   0,   0,   0,   0,   0,   0,   0,   0,   0,   0,   0],\n",
              "        [  0,   0,   0,   0,   0,   0,   0,   0,   0,   0,   0,   0,   0,   0,\n",
              "           0,   0,   0,   0,   0,   0,   0,   0,   0,   0,   0,   0,   0,   0]],\n",
              "       dtype=torch.uint8)"
            ]
          },
          "execution_count": 4,
          "metadata": {},
          "output_type": "execute_result"
        }
      ],
      "source": [
        "trainset.data[0]"
      ]
    },
    {
      "cell_type": "code",
      "execution_count": 5,
      "metadata": {
        "colab": {
          "base_uri": "https://localhost:8080/",
          "height": 430
        },
        "id": "f9qo6rhZdIy7",
        "outputId": "a3188ed7-c8a6-43ce-d8f1-a55fefa56802"
      },
      "outputs": [
        {
          "data": {
            "image/png": "[encoded data removed]",
            "text/plain": [
              "<Figure size 640x480 with 1 Axes>"
            ]
          },
          "metadata": {},
          "output_type": "display_data"
        }
      ],
      "source": [
        "def imshow(img):\n",
        "  img = img / 256 # Scale everything to be between 0 and 1\n",
        "  plt.imshow( img ) # Generate the image\n",
        "  plt.show() # Show the image\n",
        "\n",
        "imshow( trainset.data[0] )"
      ]
    },
    {
      "cell_type": "code",
      "execution_count": 6,
      "metadata": {
        "colab": {
          "base_uri": "https://localhost:8080/"
        },
        "id": "MeNKpNV1dOBe",
        "outputId": "0390335f-55e5-4a2c-985a-0bc52ad3c35d"
      },
      "outputs": [
        {
          "data": {
            "text/plain": [
              "tensor(5)"
            ]
          },
          "execution_count": 6,
          "metadata": {},
          "output_type": "execute_result"
        }
      ],
      "source": [
        "trainset.targets[0]"
      ]
    },
    {
      "cell_type": "code",
      "execution_count": 7,
      "metadata": {
        "id": "lxPNGSoDdSIX"
      },
      "outputs": [],
      "source": [
        "x_train = (trainset.data / 256) - 0.5 # This rescales the images so that every pixel value is now between -0.5 and 0.5, which is generally just at a nicer scale than 0 to 256, numerically.\n",
        "y_train = trainset.targets"
      ]
    },
    {
      "cell_type": "code",
      "execution_count": 8,
      "metadata": {
        "id": "hZMu4OzAdi_p"
      },
      "outputs": [],
      "source": [
        "x_train = torch.nn.Flatten()( x_train )"
      ]
    },
    {
      "cell_type": "code",
      "execution_count": 9,
      "metadata": {
        "colab": {
          "base_uri": "https://localhost:8080/"
        },
        "id": "sRJ-a3FPdsTc",
        "outputId": "62771f97-4e35-4d51-a889-9c9907ea5c41"
      },
      "outputs": [
        {
          "data": {
            "text/plain": [
              "torch.Size([60000, 784])"
            ]
          },
          "execution_count": 9,
          "metadata": {},
          "output_type": "execute_result"
        }
      ],
      "source": [
        "x_train.shape"
      ]
    },
    {
      "cell_type": "code",
      "execution_count": 10,
      "metadata": {
        "colab": {
          "base_uri": "https://localhost:8080/"
        },
        "id": "4tt14Owei781",
        "outputId": "1e7742e7-8a50-4abc-8afa-20a99634e48a"
      },
      "outputs": [
        {
          "data": {
            "text/plain": [
              "torch.Size([60000])"
            ]
          },
          "execution_count": 10,
          "metadata": {},
          "output_type": "execute_result"
        }
      ],
      "source": [
        "y_train.shape"
      ]
    },
    {
      "cell_type": "code",
      "execution_count": 11,
      "metadata": {
        "id": "dw-YD0kYdgZu"
      },
      "outputs": [],
      "source": [
        "A = torch.nn.Parameter( torch.randn(10, 784), requires_grad = True )\n",
        "b = torch.nn.Parameter( torch.randn(10,1), requires_grad = True)"
      ]
    },
    {
      "cell_type": "code",
      "execution_count": 12,
      "metadata": {
        "colab": {
          "base_uri": "https://localhost:8080/"
        },
        "id": "N1n-wLM3d6E-",
        "outputId": "12c7ef4a-d759-4756-fe77-79497ed0647f"
      },
      "outputs": [
        {
          "data": {
            "text/plain": [
              "torch.Size([10, 60000])"
            ]
          },
          "execution_count": 12,
          "metadata": {},
          "output_type": "execute_result"
        }
      ],
      "source": [
        "torch.matmul(A, x_train.t()).shape"
      ]
    },
    {
      "cell_type": "code",
      "execution_count": 13,
      "metadata": {
        "id": "C0eydJGQfOLM"
      },
      "outputs": [],
      "source": [
        "linear_mapping = torch.matmul(A, x_train.t()) + b"
      ]
    },
    {
      "cell_type": "code",
      "execution_count": 14,
      "metadata": {
        "colab": {
          "base_uri": "https://localhost:8080/"
        },
        "id": "XXFz0wEIfzFx",
        "outputId": "365d2f20-6f00-4b1b-b692-49798d403aed"
      },
      "outputs": [
        {
          "data": {
            "text/plain": [
              "torch.Size([10, 60000])"
            ]
          },
          "execution_count": 14,
          "metadata": {},
          "output_type": "execute_result"
        }
      ],
      "source": [
        "linear_mapping.shape"
      ]
    },
    {
      "cell_type": "code",
      "execution_count": 15,
      "metadata": {
        "id": "qu4m-N5Nf0bc"
      },
      "outputs": [],
      "source": [
        "linear_mapping = linear_mapping.t()"
      ]
    },
    {
      "cell_type": "code",
      "execution_count": 16,
      "metadata": {
        "colab": {
          "base_uri": "https://localhost:8080/"
        },
        "id": "15vWKZV3gVrK",
        "outputId": "c7e01e1c-f0b9-4bf0-e11a-fb269fdb0156"
      },
      "outputs": [
        {
          "data": {
            "text/plain": [
              "torch.Size([60000, 10])"
            ]
          },
          "execution_count": 16,
          "metadata": {},
          "output_type": "execute_result"
        }
      ],
      "source": [
        "linear_mapping.shape"
      ]
    },
    {
      "cell_type": "code",
      "execution_count": 17,
      "metadata": {
        "colab": {
          "base_uri": "https://localhost:8080/"
        },
        "id": "sJID71k-gW5i",
        "outputId": "4d2f5032-69b8-4f60-93d0-b81bcbf814bc"
      },
      "outputs": [
        {
          "data": {
            "text/plain": [
              "tensor([ -6.7775,  -5.2656,  16.2161, -10.7273,  -9.2624,  15.2799,  -3.9186,\n",
              "        -12.4268,  -5.2559,   6.4123], grad_fn=<SelectBackward0>)"
            ]
          },
          "execution_count": 17,
          "metadata": {},
          "output_type": "execute_result"
        }
      ],
      "source": [
        "linear_mapping[0]"
      ]
    },
    {
      "cell_type": "code",
      "execution_count": 18,
      "metadata": {
        "id": "yazGbDm8grXv"
      },
      "outputs": [],
      "source": [
        "logits = linear_mapping"
      ]
    },
    {
      "cell_type": "code",
      "execution_count": 19,
      "metadata": {
        "id": "JcPs9HmvgtXj"
      },
      "outputs": [],
      "source": [
        "probabilities = torch.nn.Softmax( dim = 1 )( logits )"
      ]
    },
    {
      "cell_type": "code",
      "execution_count": 20,
      "metadata": {
        "colab": {
          "base_uri": "https://localhost:8080/"
        },
        "id": "ouIuX5CMgyKI",
        "outputId": "413009c5-0124-4dac-a700-f66a2cbe1545"
      },
      "outputs": [
        {
          "data": {
            "text/plain": [
              "tensor([7.4183e-11, 3.3645e-10, 7.1831e-01, 1.4288e-12, 6.1822e-12, 2.8165e-01,\n",
              "        1.2940e-09, 2.6114e-13, 3.3975e-10, 3.9679e-05],\n",
              "       grad_fn=<SelectBackward0>)"
            ]
          },
          "execution_count": 20,
          "metadata": {},
          "output_type": "execute_result"
        }
      ],
      "source": [
        "probabilities[0]"
      ]
    },
    {
      "cell_type": "code",
      "execution_count": 21,
      "metadata": {
        "colab": {
          "base_uri": "https://localhost:8080/"
        },
        "id": "D8sJbJ8Mgz4o",
        "outputId": "cdadbcb4-661a-4649-c809-0f5e6a49e20d"
      },
      "outputs": [
        {
          "data": {
            "text/plain": [
              "tensor(1., grad_fn=<SumBackward0>)"
            ]
          },
          "execution_count": 21,
          "metadata": {},
          "output_type": "execute_result"
        }
      ],
      "source": [
        "torch.sum( probabilities[ 0 ] )"
      ]
    },
    {
      "cell_type": "code",
      "execution_count": 23,
      "metadata": {
        "colab": {
          "base_uri": "https://localhost:8080/"
        },
        "id": "5Z6Em7qzkfw4",
        "outputId": "d8a9f224-2334-4b5f-ca7c-556b94c53731"
      },
      "outputs": [
        {
          "data": {
            "text/plain": [
              "torch.Size([60000, 1])"
            ]
          },
          "execution_count": 23,
          "metadata": {},
          "output_type": "execute_result"
        }
      ],
      "source": [
        "y_train.shape"
      ]
    },
    {
      "cell_type": "code",
      "execution_count": 22,
      "metadata": {
        "colab": {
          "base_uri": "https://localhost:8080/"
        },
        "id": "yP5LH0OomO0F",
        "outputId": "a971e03a-0ee1-4aa3-d8d7-e27e47a1171e"
      },
      "outputs": [
        {
          "data": {
            "text/plain": [
              "array([0, 1, 2, 3, 4, 5, 6, 7, 8, 9])"
            ]
          },
          "execution_count": 22,
          "metadata": {},
          "output_type": "execute_result"
        }
      ],
      "source": [
        "np.arange(0,10)"
      ]
    },
    {
      "cell_type": "code",
      "execution_count": 24,
      "metadata": {
        "id": "NbMO8AdGg8ZT"
      },
      "outputs": [],
      "source": [
        "probabilities_of_true_classes = probabilities[ np.arange(0,60000), y_train.numpy() ]"
      ]
    },
    {
      "cell_type": "code",
      "execution_count": 25,
      "metadata": {
        "colab": {
          "base_uri": "https://localhost:8080/"
        },
        "id": "aID-8Cuqh3SD",
        "outputId": "9a11e078-18b4-4d5f-d3fb-e52aff374167"
      },
      "outputs": [
        {
          "data": {
            "text/plain": [
              "torch.Size([60000])"
            ]
          },
          "execution_count": 25,
          "metadata": {},
          "output_type": "execute_result"
        }
      ],
      "source": [
        "probabilities_of_true_classes.shape"
      ]
    },
    {
      "cell_type": "code",
      "execution_count": 26,
      "metadata": {
        "colab": {
          "base_uri": "https://localhost:8080/"
        },
        "id": "L_AYZhtHh50D",
        "outputId": "b39f9e54-71e2-4ddb-f55f-4588e31f0cdb"
      },
      "outputs": [
        {
          "data": {
            "text/plain": [
              "tensor(0.2817, grad_fn=<SelectBackward0>)"
            ]
          },
          "execution_count": 26,
          "metadata": {},
          "output_type": "execute_result"
        }
      ],
      "source": [
        "probabilities_of_true_classes[0]"
      ]
    },
    {
      "cell_type": "code",
      "execution_count": 27,
      "metadata": {
        "colab": {
          "base_uri": "https://localhost:8080/"
        },
        "id": "tvJnbix_jizY",
        "outputId": "b6a19ba0-b1b9-49bf-b22d-2cce8efe59e7"
      },
      "outputs": [
        {
          "data": {
            "text/plain": [
              "tensor([7.4183e-11, 3.3645e-10, 7.1831e-01, 1.4288e-12, 6.1822e-12, 2.8165e-01,\n",
              "        1.2940e-09, 2.6114e-13, 3.3975e-10, 3.9679e-05],\n",
              "       grad_fn=<SelectBackward0>)"
            ]
          },
          "execution_count": 27,
          "metadata": {},
          "output_type": "execute_result"
        }
      ],
      "source": [
        "probabilities[0]"
      ]
    },
    {
      "cell_type": "code",
      "execution_count": 47,
      "metadata": {
        "colab": {
          "base_uri": "https://localhost:8080/"
        },
        "id": "gO-2P2Gmmes0",
        "outputId": "e98abd3c-73ae-4caf-bbfb-3af776b16ae1"
      },
      "outputs": [
        {
          "name": "stdout",
          "output_type": "stream",
          "text": [
            "Current Loss per Data Point: 1.0162177085876465\n",
            "Current Loss per Data Point: 1.0135418176651\n",
            "Current Loss per Data Point: 1.0108927488327026\n",
            "Current Loss per Data Point: 1.0082701444625854\n",
            "Current Loss per Data Point: 1.0056735277175903\n",
            "Current Loss per Data Point: 1.0031025409698486\n",
            "Current Loss per Data Point: 1.0005565881729126\n",
            "Current Loss per Data Point: 0.9980354309082031\n",
            "Current Loss per Data Point: 0.9955386519432068\n",
            "Current Loss per Data Point: 0.9930658936500549\n"
          ]
        }
      ],
      "source": [
        "alpha = 0.5\n",
        "\n",
        "for epochs in range(10):\n",
        "\n",
        "  linear_mapping = torch.matmul(A, x_train.t()) + b\n",
        "  logits = linear_mapping.t()\n",
        "\n",
        "  probabilities = torch.nn.Softmax( dim = 1 )( logits )\n",
        "\n",
        "  probabilities_of_true_classes = probabilities[ np.arange(0,60000), y_train.numpy() ]\n",
        "\n",
        "  loss = torch.mean( -1 * torch.log( probabilities_of_true_classes ) )\n",
        "\n",
        "  print(\"Current Loss per Data Point:\", loss.item())\n",
        "\n",
        "  loss.backward()\n",
        "\n",
        "  with torch.no_grad():\n",
        "    A -= alpha * A.grad\n",
        "    b -= alpha * b.grad\n",
        "\n",
        "    A.grad = None\n",
        "    b.grad = None"
      ]
    },
    {
      "cell_type": "code",
      "execution_count": 48,
      "metadata": {
        "colab": {
          "base_uri": "https://localhost:8080/"
        },
        "id": "uKQqNKScnpny",
        "outputId": "e705fd4c-d44d-4f75-8355-2858f0cc7559"
      },
      "outputs": [
        {
          "name": "stdout",
          "output_type": "stream",
          "text": [
            "Identification Count Matrix:\n",
            " [[5264    5   85   89   26  227  121   26   60   20]\n",
            " [   1 6196  103   80    8  124    9   33  184    4]\n",
            " [  86  141 4524  245  147   87  245  116  270   97]\n",
            " [ 103   70  290 4584   23  495   42  143  238  143]\n",
            " [  15   39  126   39 4683   94  127   96  118  505]\n",
            " [ 170   82  120  409  152 3765  147   90  376  110]\n",
            " [ 102   39  225   27  128  125 5119   11  120   22]\n",
            " [  54  117   89   96  174   35   18 5188   42  452]\n",
            " [  75  153  278  367   71  338   79   93 4236  161]\n",
            " [  51   51   73  131  461   78   34  476  141 4453]]\n"
          ]
        }
      ],
      "source": [
        "identification_counts = np.zeros( shape = (10,10), dtype = np.int32 ) # Matrix of all zeros to store the counts of correct vs incorrect classifications\n",
        "linear_mapping = torch.matmul(A, x_train.t()) + b\n",
        "logits = linear_mapping.t()\n",
        "\n",
        "probabilities = torch.nn.Softmax( dim = 1 )( logits )\n",
        "predicted_classes = torch.argmax( probabilities, dim = 1 )\n",
        "\n",
        "for i in range(60000):\n",
        "  actual_class = y_train[i].item()\n",
        "  predicted_class = predicted_classes[i].item()\n",
        "\n",
        "  identification_counts[ actual_class, predicted_class ] += 1 # Tally that something of actual_class was most likely (by the model) to be predicted_class\n",
        "\n",
        "\n",
        "print(\"Identification Count Matrix:\\n\", identification_counts)"
      ]
    },
    {
      "cell_type": "code",
      "execution_count": null,
      "metadata": {
        "id": "urvy7FAsofz0"
      },
      "outputs": [],
      "source": []
    }
  ],
  "metadata": {
    "colab": {
      "provenance": []
    },
    "kernelspec": {
      "display_name": "Python 3",
      "name": "python3"
    },
    "language_info": {
      "name": "python"
    }
  },
  "nbformat": 4,
  "nbformat_minor": 0
}
