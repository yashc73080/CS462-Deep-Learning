{
  "nbformat": 4,
  "nbformat_minor": 0,
  "metadata": {
    "colab": {
      "provenance": []
    },
    "kernelspec": {
      "name": "python3",
      "display_name": "Python 3"
    },
    "language_info": {
      "name": "python"
    }
  },
  "cells": [
    {
      "cell_type": "markdown",
      "source": [
        "The goal of working through this is to familiarize yourself with:\n",
        "\n",
        "\n",
        "1. Writing and running code in google colab\n",
        "2. Creating and manipulating pytorch tensors\n",
        "3. Using PyTorch for computing derivatives\n",
        "4. Implementing Gradient Descent\n",
        "\n",
        "Note, google Colab notebooks provide a framework for writing and exploring python code, as well as writing up your own results and analysis, with built in support for math equations: $y = m * x + b$, $\\text{Loss}(m,b) = \\sum_{i = 1}^N ( m * x_i + b - y_i)^2$.\n",
        "\n",
        "You can also run code - and importantly, code can be run in independent blocks that you can re-run and go back to, making coding and experimenting a much more dynamic process than just having to re-run an entire script from scratch."
      ],
      "metadata": {
        "id": "5_bZJTrpvDLR"
      }
    },
    {
      "cell_type": "code",
      "execution_count": 1,
      "metadata": {
        "id": "fnHvqaO4u5Aw"
      },
      "outputs": [],
      "source": [
        "x_values = [ i for i in range(10) ]"
      ]
    },
    {
      "cell_type": "code",
      "source": [
        "y_values = [ x**2 for x in x_values ]"
      ],
      "metadata": {
        "id": "l2B2YRBwFnOZ"
      },
      "execution_count": 2,
      "outputs": []
    },
    {
      "cell_type": "code",
      "source": [
        "print(\"X Values: \", x_values )\n",
        "print(\"Corresponding Y Values: \", y_values )"
      ],
      "metadata": {
        "colab": {
          "base_uri": "https://localhost:8080/",
          "height": 0
        },
        "id": "w1xyOmdUFsJu",
        "outputId": "c7c14426-435a-441a-9bd0-e461ba1057c9"
      },
      "execution_count": 3,
      "outputs": [
        {
          "output_type": "stream",
          "name": "stdout",
          "text": [
            "X Values:  [0, 1, 2, 3, 4, 5, 6, 7, 8, 9]\n",
            "Corresponding Y Values:  [0, 1, 4, 9, 16, 25, 36, 49, 64, 81]\n"
          ]
        }
      ]
    },
    {
      "cell_type": "markdown",
      "source": [
        "Note, variables are preserved across blocks. This is useful, but watch out!"
      ],
      "metadata": {
        "id": "MKz1p-hpFzvP"
      }
    },
    {
      "cell_type": "code",
      "source": [
        "for i in range(10):\n",
        "  print(i)"
      ],
      "metadata": {
        "colab": {
          "base_uri": "https://localhost:8080/",
          "height": 0
        },
        "id": "itjnrracFxx-",
        "outputId": "cdad5ce9-5415-4c4d-c608-019f8ab05779"
      },
      "execution_count": 4,
      "outputs": [
        {
          "output_type": "stream",
          "name": "stdout",
          "text": [
            "0\n",
            "1\n",
            "2\n",
            "3\n",
            "4\n",
            "5\n",
            "6\n",
            "7\n",
            "8\n",
            "9\n"
          ]
        }
      ]
    },
    {
      "cell_type": "code",
      "source": [
        "i"
      ],
      "metadata": {
        "colab": {
          "base_uri": "https://localhost:8080/",
          "height": 0
        },
        "id": "os5xRHzVF51_",
        "outputId": "8aa0513e-67ce-4f73-8c31-5eb84cc91f67"
      },
      "execution_count": 5,
      "outputs": [
        {
          "output_type": "execute_result",
          "data": {
            "text/plain": [
              "9"
            ]
          },
          "metadata": {},
          "execution_count": 5
        }
      ]
    },
    {
      "cell_type": "markdown",
      "source": [
        "Worth being aware of variable scope. This is always the case with python, this just makes it more of an issue."
      ],
      "metadata": {
        "id": "QJKh-E7eF_FW"
      }
    },
    {
      "cell_type": "markdown",
      "source": [
        "Our main workhorse in this course will be PyTorch. PyTorch serves two main functions:\n",
        "1. It gives us a framework for dealing with multi-dimensional numerical data (tensors). This is extremely similar to and portable with numpy.\n",
        "2. It keeps track of calculations in a way that allows it to perform differentiation - allowing it to calculate complex (numerical) derivatives, which we can then use for optimization.\n",
        "\n",
        "Note, this last part will be tremendously useful for Machine Learning - and indeed, PyTorch has a lot of built in tools for designing, training, and using neural networks. Fueled, at the core, by its ability to track and compute derivatives / gradients."
      ],
      "metadata": {
        "id": "8zws70dNGUYH"
      }
    },
    {
      "cell_type": "code",
      "source": [
        "import torch"
      ],
      "metadata": {
        "id": "qOiQXWSIF9hB"
      },
      "execution_count": 6,
      "outputs": []
    },
    {
      "cell_type": "markdown",
      "source": [
        "The main tool or data type that torch provides is a tensor, essentially a multi-dimensional array or matrix. These typically store the data that we will be working with, but to some extent there's little difference between them and a multi-dimensional array."
      ],
      "metadata": {
        "id": "vrVlKEVMH3EL"
      }
    },
    {
      "cell_type": "code",
      "source": [
        "a = torch.tensor([ [1, 2, 3], [4, 5, 6]])"
      ],
      "metadata": {
        "id": "SGqkwBOyGxB_"
      },
      "execution_count": 7,
      "outputs": []
    },
    {
      "cell_type": "code",
      "source": [
        "a"
      ],
      "metadata": {
        "colab": {
          "base_uri": "https://localhost:8080/",
          "height": 0
        },
        "id": "yDq4FWbWIEvZ",
        "outputId": "67faef5e-36cb-4d48-93bf-2529fc9df281"
      },
      "execution_count": 8,
      "outputs": [
        {
          "output_type": "execute_result",
          "data": {
            "text/plain": [
              "tensor([[1, 2, 3],\n",
              "        [4, 5, 6]])"
            ]
          },
          "metadata": {},
          "execution_count": 8
        }
      ]
    },
    {
      "cell_type": "markdown",
      "source": [
        "Notice: items in the most outside brackets is the first dimension.\n",
        "Here, our first dimension contains two items: `[1,2,3]` and `[4,5,6]`"
      ],
      "metadata": {
        "id": "LvL7dqWm_FMj"
      }
    },
    {
      "cell_type": "code",
      "source": [
        "a.shape"
      ],
      "metadata": {
        "colab": {
          "base_uri": "https://localhost:8080/",
          "height": 0
        },
        "id": "6gjKDa2UIFC-",
        "outputId": "0d428b9f-9bca-4423-ccd6-540e074dc8f5"
      },
      "execution_count": 9,
      "outputs": [
        {
          "output_type": "execute_result",
          "data": {
            "text/plain": [
              "torch.Size([2, 3])"
            ]
          },
          "metadata": {},
          "execution_count": 9
        }
      ]
    },
    {
      "cell_type": "markdown",
      "source": [
        "For a given tensor, we can access its dimension or shape via variable.shape\n",
        "\n",
        "In this case, a represents a 2-D tensor, where the first dimension (for visualization, the rows) has two elements, and the second dimension (for visualization, the columns) has three elements. But we can go larger."
      ],
      "metadata": {
        "id": "hP6U9xZhIG99"
      }
    },
    {
      "cell_type": "code",
      "source": [
        "b = torch.tensor( [ [ [ 1, 2 ], [3, 4] ], [ [5, 6 ], [7, 8 ] ], [ [9, 10], [11, 12]]])"
      ],
      "metadata": {
        "id": "jN68sFxzIYE_"
      },
      "execution_count": 10,
      "outputs": []
    },
    {
      "cell_type": "code",
      "source": [
        "b"
      ],
      "metadata": {
        "colab": {
          "base_uri": "https://localhost:8080/",
          "height": 0
        },
        "id": "79Xut4osIhBD",
        "outputId": "998d5143-226a-4883-c5b0-58b756029435"
      },
      "execution_count": 11,
      "outputs": [
        {
          "output_type": "execute_result",
          "data": {
            "text/plain": [
              "tensor([[[ 1,  2],\n",
              "         [ 3,  4]],\n",
              "\n",
              "        [[ 5,  6],\n",
              "         [ 7,  8]],\n",
              "\n",
              "        [[ 9, 10],\n",
              "         [11, 12]]])"
            ]
          },
          "metadata": {},
          "execution_count": 11
        }
      ]
    },
    {
      "cell_type": "code",
      "source": [
        "b.shape"
      ],
      "metadata": {
        "colab": {
          "base_uri": "https://localhost:8080/",
          "height": 0
        },
        "id": "UqjI5VLOIhVg",
        "outputId": "18b2b774-6dc0-47e4-aee1-23a2d3698cb9"
      },
      "execution_count": 12,
      "outputs": [
        {
          "output_type": "execute_result",
          "data": {
            "text/plain": [
              "torch.Size([3, 2, 2])"
            ]
          },
          "metadata": {},
          "execution_count": 12
        }
      ]
    },
    {
      "cell_type": "markdown",
      "source": [
        "Exercise: Manually construct a tensor with dimension `[2,4,3]`"
      ],
      "metadata": {
        "id": "olgNj4Nu_25S"
      }
    },
    {
      "cell_type": "markdown",
      "source": [
        "Note as an example that a data set of 1000 color images (each 100 pixels by 100 pixels) might be represented by a tensor of shape [1000, 3, 100, 100] where data[i, 0, x, y] would represent the R-value of the pixel at position x,y in image i, data[i,1,x,y] the G-value, and data[i,2,x,y] the B-value.\n",
        "\n",
        "General assumption for now, everything in a tensor will be of constant or fixed size - you wouldn't see a tensor with one row of length 10, and the next row of length 15. (These are jagged tensors, sometimes nested tensors.)"
      ],
      "metadata": {
        "id": "HK9WqRVPI4pj"
      }
    },
    {
      "cell_type": "markdown",
      "source": [
        "Manipulate the dimension order"
      ],
      "metadata": {
        "id": "GHhdam4nAPEx"
      }
    },
    {
      "cell_type": "markdown",
      "source": [
        "Typical modalities here: we may load data from a file, or convert it from some other type. torch.tensor is a standard constructor for this. Other options might include generating values over a range (torch.arange) or generating random values. torch.randn draws numbers from a standard normal distribution (mean 0, variance 1)."
      ],
      "metadata": {
        "id": "6umIXEv9I0Oq"
      }
    },
    {
      "cell_type": "code",
      "source": [
        "torch.arange(0, 100)"
      ],
      "metadata": {
        "colab": {
          "base_uri": "https://localhost:8080/",
          "height": 0
        },
        "id": "gXO_KKHVIiG1",
        "outputId": "f9f44c8a-2271-4a25-84e8-f3f2072dd9d4"
      },
      "execution_count": 13,
      "outputs": [
        {
          "output_type": "execute_result",
          "data": {
            "text/plain": [
              "tensor([ 0,  1,  2,  3,  4,  5,  6,  7,  8,  9, 10, 11, 12, 13, 14, 15, 16, 17,\n",
              "        18, 19, 20, 21, 22, 23, 24, 25, 26, 27, 28, 29, 30, 31, 32, 33, 34, 35,\n",
              "        36, 37, 38, 39, 40, 41, 42, 43, 44, 45, 46, 47, 48, 49, 50, 51, 52, 53,\n",
              "        54, 55, 56, 57, 58, 59, 60, 61, 62, 63, 64, 65, 66, 67, 68, 69, 70, 71,\n",
              "        72, 73, 74, 75, 76, 77, 78, 79, 80, 81, 82, 83, 84, 85, 86, 87, 88, 89,\n",
              "        90, 91, 92, 93, 94, 95, 96, 97, 98, 99])"
            ]
          },
          "metadata": {},
          "execution_count": 13
        }
      ]
    },
    {
      "cell_type": "code",
      "source": [
        "torch.randn( (3, 5, 5, 5) )"
      ],
      "metadata": {
        "colab": {
          "base_uri": "https://localhost:8080/",
          "height": 0
        },
        "id": "oZZd3MPFKDZJ",
        "outputId": "183724f6-9134-4d39-ea4f-7f683e7fff86"
      },
      "execution_count": 14,
      "outputs": [
        {
          "output_type": "execute_result",
          "data": {
            "text/plain": [
              "tensor([[[[-1.2172e+00,  2.0100e+00,  4.9477e-01, -7.8114e-01, -8.2324e-01],\n",
              "          [ 8.5440e-01,  6.8561e-01,  8.3044e-01, -4.9543e-01, -1.8044e-01],\n",
              "          [ 1.0929e+00, -2.2480e+00, -1.6877e+00, -1.4141e+00, -2.7961e-01],\n",
              "          [-5.0919e-01,  1.0025e+00,  9.1768e-01,  3.1544e-01, -4.7857e-01],\n",
              "          [-1.3499e+00, -9.6875e-01,  3.5796e-01,  2.5712e-02, -9.4855e-01]],\n",
              "\n",
              "         [[ 1.7030e+00, -1.6237e+00, -2.0125e+00,  5.2607e-01, -9.4004e-01],\n",
              "          [-1.2353e+00, -1.2266e+00,  8.1785e-01, -9.5706e-01,  8.6104e-01],\n",
              "          [ 1.2641e+00,  4.6276e-01, -4.2417e-01, -1.0503e+00, -7.0279e-01],\n",
              "          [-1.0988e+00, -1.8323e+00, -1.5104e+00,  1.2565e-01, -1.5270e+00],\n",
              "          [ 3.1953e-02,  7.1599e-01,  9.3210e-01,  2.3690e-01,  2.3545e+00]],\n",
              "\n",
              "         [[ 5.0445e-01, -6.7145e-01,  1.8042e+00, -1.4879e+00,  5.8830e-01],\n",
              "          [ 1.3441e+00,  6.8752e-01, -2.2358e-01, -5.0911e-01,  7.7397e-01],\n",
              "          [-3.0441e+00,  8.1429e-01, -5.0285e-02,  1.6165e+00,  1.3762e+00],\n",
              "          [-1.1988e+00,  1.8613e+00,  1.9749e+00, -1.5492e+00,  9.4491e-01],\n",
              "          [ 8.1509e-01, -9.0133e-01,  2.2332e-01, -1.0913e+00, -1.0099e-01]],\n",
              "\n",
              "         [[ 1.0867e+00, -8.6963e-01, -5.5824e-02,  3.7700e-01,  3.7556e-01],\n",
              "          [ 6.4803e-01,  1.0830e+00, -4.8527e-01, -1.5929e+00, -1.0106e+00],\n",
              "          [-4.0019e-01, -7.0851e-01, -5.3547e-01,  4.3513e-01, -1.4991e+00],\n",
              "          [ 7.3682e-01, -1.1338e+00,  1.9874e-01,  3.2181e-01,  7.5303e-01],\n",
              "          [-8.8952e-01,  1.0107e+00, -9.4715e-01,  2.1502e-01,  1.0828e+00]],\n",
              "\n",
              "         [[ 1.1180e+00, -8.0056e-01, -1.4452e+00, -3.7000e-01,  4.0670e-01],\n",
              "          [-5.0376e-01,  2.1637e+00, -2.0141e-01, -1.7880e+00, -7.2363e-01],\n",
              "          [ 3.7406e-01,  7.1457e-01,  7.9249e-01, -1.5604e+00,  2.1306e-01],\n",
              "          [ 1.1214e+00, -1.2323e+00, -1.6926e-01, -2.8241e-02, -1.0819e-01],\n",
              "          [-1.7550e+00,  4.1554e-01, -1.0918e+00,  6.6367e-01,  1.3428e+00]]],\n",
              "\n",
              "\n",
              "        [[[-6.4793e-01,  1.2744e+00, -6.3541e-01, -9.2540e-01, -1.1653e-01],\n",
              "          [-1.6222e+00, -1.0605e+00, -1.8042e-01, -9.4571e-01,  1.4764e+00],\n",
              "          [-9.6833e-01, -1.0234e+00,  6.7799e-01, -2.9947e-01, -5.7618e-01],\n",
              "          [ 1.5244e+00,  7.3183e-01, -1.0516e+00, -6.2848e-01,  8.2278e-01],\n",
              "          [ 3.6823e-01, -3.0893e-01,  7.5018e-01, -2.3760e-02,  1.4167e+00]],\n",
              "\n",
              "         [[ 1.5877e+00, -8.3208e-01, -2.7578e-01, -2.0462e+00, -8.7933e-01],\n",
              "          [-1.5956e+00, -7.8519e-01,  1.2848e+00, -1.7407e+00, -7.5376e-01],\n",
              "          [ 7.2699e-01, -8.7230e-01,  7.8998e-01, -1.6330e+00,  5.8952e-01],\n",
              "          [-1.4114e+00,  6.5221e-01, -3.0764e-02, -1.1178e+00,  1.2690e+00],\n",
              "          [ 1.2338e+00, -1.1896e-01, -4.7240e-01, -7.3991e-01,  1.4305e+00]],\n",
              "\n",
              "         [[ 7.2784e-01, -9.0590e-01, -8.5619e-01,  5.8383e-01, -6.1802e-01],\n",
              "          [-7.4691e-01,  3.0223e-01, -1.3418e+00, -8.3696e-01,  3.6603e-02],\n",
              "          [-6.9918e-01, -2.0928e-01,  2.1093e-01,  1.0870e+00, -3.3195e-01],\n",
              "          [ 2.6981e-01, -1.9791e+00,  9.6614e-01,  6.3731e-01,  6.8609e-01],\n",
              "          [ 4.9583e-01,  1.1877e+00,  2.0445e-01, -2.1658e-01, -7.3839e-01]],\n",
              "\n",
              "         [[ 1.2630e+00,  2.9608e-02, -7.7093e-01, -5.0745e-01,  1.0314e+00],\n",
              "          [-1.3296e-01, -1.0228e+00, -4.7880e-01, -1.3865e-01,  1.2908e+00],\n",
              "          [ 8.7333e-01,  1.1218e+00,  4.7804e-01, -1.6006e+00,  1.5639e+00],\n",
              "          [-8.7351e-01, -9.9102e-01,  1.2161e+00,  5.7079e-01,  1.7718e-01],\n",
              "          [ 2.8376e-01, -1.0252e+00,  5.8315e-01, -8.1014e-01,  1.4449e+00]],\n",
              "\n",
              "         [[-6.7047e-01,  3.2660e-01, -3.0417e-02,  4.8631e-01,  1.2405e+00],\n",
              "          [-1.9449e+00,  5.3388e-01,  1.4513e+00, -7.4269e-01,  2.3951e-01],\n",
              "          [ 6.4640e-02, -3.3606e-01,  1.1396e+00, -1.2569e+00,  1.6819e+00],\n",
              "          [-2.6403e-01, -5.5019e-01,  1.2911e+00,  5.2383e-01,  7.8183e-02],\n",
              "          [ 2.0201e-01,  2.1208e+00, -2.6393e-01, -4.0612e-01, -8.8880e-01]]],\n",
              "\n",
              "\n",
              "        [[[-2.4631e+00, -4.5164e-03,  9.0623e-01, -1.6727e+00,  1.0557e+00],\n",
              "          [-6.0042e-01, -8.2437e-01, -1.4850e+00, -4.4405e-01,  1.5783e-01],\n",
              "          [ 1.1358e-01,  7.9265e-01,  1.5672e+00, -1.0639e+00, -1.8932e+00],\n",
              "          [ 1.0792e+00,  1.4920e+00, -2.4670e-01,  7.4040e-01,  5.1762e-01],\n",
              "          [ 1.5085e+00,  1.4302e+00,  4.0577e-01, -5.1458e-01, -1.3238e+00]],\n",
              "\n",
              "         [[-4.1101e-01, -1.1870e+00, -1.7499e-01, -3.9780e-01,  4.3363e-01],\n",
              "          [-6.7422e-01, -2.7212e-01,  1.2258e+00,  8.5655e-01,  3.1693e-01],\n",
              "          [-1.3435e+00,  1.8341e+00, -4.9451e-01,  1.3441e+00, -1.9440e+00],\n",
              "          [ 1.3595e+00,  6.1707e-01,  2.8458e-01,  1.4229e+00, -1.2545e+00],\n",
              "          [-4.4488e-01, -1.3865e+00, -8.1448e-01, -1.5928e+00, -1.5491e+00]],\n",
              "\n",
              "         [[-9.8449e-01, -3.0646e-01, -5.7676e-01,  4.2353e-01, -8.3389e-01],\n",
              "          [-2.5042e-01, -1.9139e-01, -4.1566e-01, -8.3706e-01,  2.2410e+00],\n",
              "          [ 1.7253e-01, -8.7043e-01,  1.5469e+00,  5.4814e-01,  8.9397e-01],\n",
              "          [-1.6405e+00,  1.6428e-01,  3.4937e-01,  1.9297e+00, -4.4818e-01],\n",
              "          [ 1.7769e+00, -8.2595e-01,  1.7330e+00, -8.7804e-01, -4.4911e-01]],\n",
              "\n",
              "         [[ 1.1477e+00, -6.2812e-02, -7.9568e-01, -1.9749e+00,  1.7210e+00],\n",
              "          [-1.3320e+00,  8.7914e-01, -2.0863e-01,  1.0940e+00, -1.4790e+00],\n",
              "          [ 8.3352e-01, -3.2163e-01,  6.3767e-01,  7.8989e-01,  9.0884e-01],\n",
              "          [ 1.5385e+00,  1.7786e+00, -1.7255e-01, -1.6050e-01,  1.4085e+00],\n",
              "          [ 2.3285e-01, -7.5900e-01,  7.0781e-01,  6.9228e-01, -1.6846e-04]],\n",
              "\n",
              "         [[ 5.0270e-01,  3.5229e-01, -1.3197e+00,  1.8172e+00,  5.2657e-02],\n",
              "          [-1.0070e+00, -5.7917e-02, -2.3002e-01, -1.3853e-03,  1.3762e+00],\n",
              "          [-1.0506e+00,  1.3533e+00,  7.9176e-01,  6.7951e-01,  1.8178e+00],\n",
              "          [-3.3039e+00,  8.5432e-01, -9.2345e-01,  8.5956e-01, -7.1412e-01],\n",
              "          [ 1.5764e+00, -8.2194e-01,  3.6323e-01,  7.8811e-01, -1.6154e+00]]]])"
            ]
          },
          "metadata": {},
          "execution_count": 14
        }
      ]
    },
    {
      "cell_type": "markdown",
      "source": [
        "Obviously as the tensor becomes more complicated and larger, it will become more and more difficult to display.\n",
        "\n",
        "There are two kinds of operations you should be aware of, for tensors:\n",
        "1. Mathematical operations on the data within the tensors (like addition)\n",
        "2. Structural operations on the tensors themselves (like gluing two tensors together into a larger tensor)"
      ],
      "metadata": {
        "id": "TrUAjZBwKVGF"
      }
    },
    {
      "cell_type": "markdown",
      "source": [
        "PyTorch supplies a wide variety of mathematical operations that can be applied to tensors."
      ],
      "metadata": {
        "id": "GINiEx8LKyWq"
      }
    },
    {
      "cell_type": "code",
      "source": [
        "a = torch.randn( [3] )"
      ],
      "metadata": {
        "id": "CNdsoksfKQLs"
      },
      "execution_count": 15,
      "outputs": []
    },
    {
      "cell_type": "code",
      "source": [
        "a"
      ],
      "metadata": {
        "colab": {
          "base_uri": "https://localhost:8080/",
          "height": 0
        },
        "id": "jf3xt0mzK9M8",
        "outputId": "e1d03ed2-c4f7-4cb9-9c97-cabc58892c02"
      },
      "execution_count": 16,
      "outputs": [
        {
          "output_type": "execute_result",
          "data": {
            "text/plain": [
              "tensor([0.2644, 0.8506, 1.8124])"
            ]
          },
          "metadata": {},
          "execution_count": 16
        }
      ]
    },
    {
      "cell_type": "code",
      "source": [
        "torch.abs( a )"
      ],
      "metadata": {
        "colab": {
          "base_uri": "https://localhost:8080/",
          "height": 0
        },
        "id": "c0zBQLEBK9fb",
        "outputId": "7ccfc447-9f23-431f-a39e-f29616beba61"
      },
      "execution_count": 17,
      "outputs": [
        {
          "output_type": "execute_result",
          "data": {
            "text/plain": [
              "tensor([0.2644, 0.8506, 1.8124])"
            ]
          },
          "metadata": {},
          "execution_count": 17
        }
      ]
    },
    {
      "cell_type": "code",
      "source": [
        "torch.square( a )"
      ],
      "metadata": {
        "colab": {
          "base_uri": "https://localhost:8080/",
          "height": 0
        },
        "id": "MuFG5dGnK-5l",
        "outputId": "ab1f3f2a-a3cb-431a-da05-1ad2e2b25f73"
      },
      "execution_count": 18,
      "outputs": [
        {
          "output_type": "execute_result",
          "data": {
            "text/plain": [
              "tensor([0.0699, 0.7236, 3.2846])"
            ]
          },
          "metadata": {},
          "execution_count": 18
        }
      ]
    },
    {
      "cell_type": "code",
      "source": [
        "torch.cos( a )"
      ],
      "metadata": {
        "colab": {
          "base_uri": "https://localhost:8080/",
          "height": 0
        },
        "id": "VQg2VAO1K_7N",
        "outputId": "ad57913d-345a-4d87-8a4c-e25d68070d61"
      },
      "execution_count": 19,
      "outputs": [
        {
          "output_type": "execute_result",
          "data": {
            "text/plain": [
              "tensor([ 0.9652,  0.6595, -0.2392])"
            ]
          },
          "metadata": {},
          "execution_count": 19
        }
      ]
    },
    {
      "cell_type": "markdown",
      "source": [
        "Frequently, calling a mathematical function with a tensor argument will apply the function across all elements of the tensor. Other mathematical functions might compute something over the entire tensor, like sums or averages."
      ],
      "metadata": {
        "id": "zJla9wb7LD1r"
      }
    },
    {
      "cell_type": "code",
      "source": [
        "torch.sum( a )"
      ],
      "metadata": {
        "colab": {
          "base_uri": "https://localhost:8080/",
          "height": 0
        },
        "id": "t85PBaUlLCu7",
        "outputId": "fe787de9-18d2-4f8c-e1ac-5fe6924e243d"
      },
      "execution_count": 20,
      "outputs": [
        {
          "output_type": "execute_result",
          "data": {
            "text/plain": [
              "tensor(2.9274)"
            ]
          },
          "metadata": {},
          "execution_count": 20
        }
      ]
    },
    {
      "cell_type": "code",
      "source": [
        "torch.mean( a )"
      ],
      "metadata": {
        "colab": {
          "base_uri": "https://localhost:8080/",
          "height": 0
        },
        "id": "jY53ntotLQF3",
        "outputId": "8030d65d-0b1a-4782-b5aa-3c6b57e2b98c"
      },
      "execution_count": 21,
      "outputs": [
        {
          "output_type": "execute_result",
          "data": {
            "text/plain": [
              "tensor(0.9758)"
            ]
          },
          "metadata": {},
          "execution_count": 21
        }
      ]
    },
    {
      "cell_type": "code",
      "source": [
        "torch.median( a )"
      ],
      "metadata": {
        "colab": {
          "base_uri": "https://localhost:8080/",
          "height": 0
        },
        "id": "EqHgiS6BLRR_",
        "outputId": "98d4dad0-6c1b-46e6-dc5f-d75f1991ad55"
      },
      "execution_count": 22,
      "outputs": [
        {
          "output_type": "execute_result",
          "data": {
            "text/plain": [
              "tensor(0.8506)"
            ]
          },
          "metadata": {},
          "execution_count": 22
        }
      ]
    },
    {
      "cell_type": "markdown",
      "source": [
        "Other tensor operations can combine multiple tensors. If a and b are tensors, a + b is interpreted as the element-wise sum of a and b."
      ],
      "metadata": {
        "id": "nRkM9t1YLXZG"
      }
    },
    {
      "cell_type": "code",
      "source": [
        "a = torch.randn( [3] )\n",
        "b = torch.randn( [3] )\n",
        "print(\"a: \", a)\n",
        "print(\"b: \", b)\n",
        "print(\"a + b:\", a + b)"
      ],
      "metadata": {
        "colab": {
          "base_uri": "https://localhost:8080/",
          "height": 0
        },
        "id": "lPXm-zIGLST-",
        "outputId": "97f84cbb-ecf5-4957-99ce-1593e54b505a"
      },
      "execution_count": 23,
      "outputs": [
        {
          "output_type": "stream",
          "name": "stdout",
          "text": [
            "a:  tensor([ 0.8041, -0.5143,  1.0913])\n",
            "b:  tensor([-0.9496,  0.9189,  0.1082])\n",
            "a + b: tensor([-0.1455,  0.4046,  1.1996])\n"
          ]
        }
      ]
    },
    {
      "cell_type": "markdown",
      "source": [
        "*It's worth being aware of the fact that some operations will require your tensors to be the same size or dimension. If you are trying to add element-wise, and the two tensors have different shapes, this doesn't work!*"
      ],
      "metadata": {
        "id": "4ilfmCxILsFs"
      }
    },
    {
      "cell_type": "code",
      "source": [
        "a = torch.randn([3])\n",
        "b = torch.randn([5])\n",
        "print(\"a:\", a)\n",
        "print(\"b:\", b)\n",
        "print(\"a + b:\", a + b)"
      ],
      "metadata": {
        "colab": {
          "base_uri": "https://localhost:8080/",
          "height": 211
        },
        "id": "-CA2SZVbLgyE",
        "outputId": "165e5622-ee03-42ee-b780-cb57e69940f6"
      },
      "execution_count": 24,
      "outputs": [
        {
          "output_type": "stream",
          "name": "stdout",
          "text": [
            "a: tensor([ 0.5800, -0.2652, -0.0162])\n",
            "b: tensor([-0.0082,  1.2637, -0.8791, -0.7929, -0.8563])\n"
          ]
        },
        {
          "output_type": "error",
          "ename": "RuntimeError",
          "evalue": "The size of tensor a (3) must match the size of tensor b (5) at non-singleton dimension 0",
          "traceback": [
            "\u001b[0;31m---------------------------------------------------------------------------\u001b[0m",
            "\u001b[0;31mRuntimeError\u001b[0m                              Traceback (most recent call last)",
            "\u001b[0;32m/tmp/ipython-input-2446150145.py\u001b[0m in \u001b[0;36m<cell line: 0>\u001b[0;34m()\u001b[0m\n\u001b[1;32m      3\u001b[0m \u001b[0mprint\u001b[0m\u001b[0;34m(\u001b[0m\u001b[0;34m\"a:\"\u001b[0m\u001b[0;34m,\u001b[0m \u001b[0ma\u001b[0m\u001b[0;34m)\u001b[0m\u001b[0;34m\u001b[0m\u001b[0;34m\u001b[0m\u001b[0m\n\u001b[1;32m      4\u001b[0m \u001b[0mprint\u001b[0m\u001b[0;34m(\u001b[0m\u001b[0;34m\"b:\"\u001b[0m\u001b[0;34m,\u001b[0m \u001b[0mb\u001b[0m\u001b[0;34m)\u001b[0m\u001b[0;34m\u001b[0m\u001b[0;34m\u001b[0m\u001b[0m\n\u001b[0;32m----> 5\u001b[0;31m \u001b[0mprint\u001b[0m\u001b[0;34m(\u001b[0m\u001b[0;34m\"a + b:\"\u001b[0m\u001b[0;34m,\u001b[0m \u001b[0ma\u001b[0m \u001b[0;34m+\u001b[0m \u001b[0mb\u001b[0m\u001b[0;34m)\u001b[0m\u001b[0;34m\u001b[0m\u001b[0;34m\u001b[0m\u001b[0m\n\u001b[0m",
            "\u001b[0;31mRuntimeError\u001b[0m: The size of tensor a (3) must match the size of tensor b (5) at non-singleton dimension 0"
          ]
        }
      ]
    },
    {
      "cell_type": "markdown",
      "source": [
        "One exception to this rule is the idea of 'broadcasting'. Consider the following example:"
      ],
      "metadata": {
        "id": "jhPX79_xgJYw"
      }
    },
    {
      "cell_type": "code",
      "source": [
        "a + 3"
      ],
      "metadata": {
        "colab": {
          "base_uri": "https://localhost:8080/",
          "height": 0
        },
        "id": "UCKXvwurL8xp",
        "outputId": "ff8d4992-b031-4f8d-d894-76b81432dca6"
      },
      "execution_count": 25,
      "outputs": [
        {
          "output_type": "execute_result",
          "data": {
            "text/plain": [
              "tensor([3.5800, 2.7348, 2.9838])"
            ]
          },
          "metadata": {},
          "execution_count": 25
        }
      ]
    },
    {
      "cell_type": "markdown",
      "source": [
        "In this case, even though the addition doesn't make sense dimensionally, it can be interpreted as adding 3 to every element, which is what this operation does. Multiplication is similar."
      ],
      "metadata": {
        "id": "9q_fTdwpgUAV"
      }
    },
    {
      "cell_type": "code",
      "source": [
        "2*a"
      ],
      "metadata": {
        "colab": {
          "base_uri": "https://localhost:8080/",
          "height": 0
        },
        "id": "andFSzojgc41",
        "outputId": "0bf0e443-4027-4620-ad9e-a9547f291d34"
      },
      "execution_count": 26,
      "outputs": [
        {
          "output_type": "execute_result",
          "data": {
            "text/plain": [
              "tensor([ 1.1600, -0.5304, -0.0324])"
            ]
          },
          "metadata": {},
          "execution_count": 26
        }
      ]
    },
    {
      "cell_type": "markdown",
      "source": [
        "One operation worth being aware of is multiplication: much like how a + b is done element-wise, multiplication is also:"
      ],
      "metadata": {
        "id": "wAEUD44Gge1X"
      }
    },
    {
      "cell_type": "code",
      "source": [
        "a = torch.randn( [3] )\n",
        "b = torch.randn( [3] )\n",
        "print(\"a: \", a)\n",
        "print(\"b: \", b)\n",
        "print(\"a * b:\", a * b)"
      ],
      "metadata": {
        "colab": {
          "base_uri": "https://localhost:8080/",
          "height": 0
        },
        "id": "awEiUIHBgS8C",
        "outputId": "65668cff-2da8-4666-f0aa-f314e4b30348"
      },
      "execution_count": 27,
      "outputs": [
        {
          "output_type": "stream",
          "name": "stdout",
          "text": [
            "a:  tensor([-1.8950,  0.9690,  1.6064])\n",
            "b:  tensor([ 0.1378, -0.0331, -0.4608])\n",
            "a * b: tensor([-0.2611, -0.0321, -0.7403])\n"
          ]
        }
      ]
    },
    {
      "cell_type": "markdown",
      "source": [
        "This means for instance that we could perform the standard dot product operation in the following way"
      ],
      "metadata": {
        "id": "svi7tBiCgw1d"
      }
    },
    {
      "cell_type": "code",
      "source": [
        "torch.sum( a * b )"
      ],
      "metadata": {
        "colab": {
          "base_uri": "https://localhost:8080/",
          "height": 0
        },
        "id": "w-waROJkgqAG",
        "outputId": "121994b5-5771-4614-c7ea-fc2fcdf597b9"
      },
      "execution_count": 28,
      "outputs": [
        {
          "output_type": "execute_result",
          "data": {
            "text/plain": [
              "tensor(-1.0335)"
            ]
          },
          "metadata": {},
          "execution_count": 28
        }
      ]
    },
    {
      "cell_type": "markdown",
      "source": [
        "This extends to larger dimensions"
      ],
      "metadata": {
        "id": "yZL3FbatlREd"
      }
    },
    {
      "cell_type": "code",
      "source": [
        "a = torch.randn( [3,3] )\n",
        "b = torch.randn( [3,3] )\n",
        "\n",
        "print(\"a:\", a)\n",
        "print(\"b:\", b)\n",
        "print(\"a * b:\", a*b)"
      ],
      "metadata": {
        "colab": {
          "base_uri": "https://localhost:8080/",
          "height": 0
        },
        "id": "MIzrMeKyg_lt",
        "outputId": "a19386d3-902e-416a-b315-240eb4d5890c"
      },
      "execution_count": 29,
      "outputs": [
        {
          "output_type": "stream",
          "name": "stdout",
          "text": [
            "a: tensor([[ 0.4358,  0.7699, -0.8193],\n",
            "        [-1.1505, -0.4069, -1.3231],\n",
            "        [-1.0966, -0.1088,  0.0610]])\n",
            "b: tensor([[ 0.1544, -0.8335,  0.5606],\n",
            "        [-0.5149, -0.2039, -0.2903],\n",
            "        [-0.9138, -0.0305, -0.3062]])\n",
            "a * b: tensor([[ 0.0673, -0.6417, -0.4593],\n",
            "        [ 0.5924,  0.0830,  0.3841],\n",
            "        [ 1.0020,  0.0033, -0.0187]])\n"
          ]
        }
      ]
    },
    {
      "cell_type": "markdown",
      "source": [
        "One issue this creates though, we have to be careful any time we want to do 'actual' matrix multiplication. Fortunately, torch has us covered."
      ],
      "metadata": {
        "id": "S2ztDMrHnPVF"
      }
    },
    {
      "cell_type": "code",
      "source": [
        "torch.matmul( a, b )"
      ],
      "metadata": {
        "colab": {
          "base_uri": "https://localhost:8080/",
          "height": 0
        },
        "id": "K_91f6XLnMfJ",
        "outputId": "48cd83e7-25c0-444f-9d1c-12c6eb30763b"
      },
      "execution_count": 30,
      "outputs": [
        {
          "output_type": "execute_result",
          "data": {
            "text/plain": [
              "tensor([[ 0.4196, -0.4952,  0.2717],\n",
              "        [ 1.2408,  1.0822, -0.1217],\n",
              "        [-0.1691,  0.9343, -0.6019]])"
            ]
          },
          "metadata": {},
          "execution_count": 30
        }
      ]
    },
    {
      "cell_type": "markdown",
      "source": [
        "In terms of structural operations, the three most important ones are going to be\n",
        "1. indexing\n",
        "2. slicing\n",
        "3. reshaping"
      ],
      "metadata": {
        "id": "LsiQgmYsnbqg"
      }
    },
    {
      "cell_type": "code",
      "source": [
        "a[1,2]"
      ],
      "metadata": {
        "colab": {
          "base_uri": "https://localhost:8080/",
          "height": 0
        },
        "id": "8huroB6mnVto",
        "outputId": "d86c1bd2-4d84-49d3-fe3d-8cd9342136e3"
      },
      "execution_count": 31,
      "outputs": [
        {
          "output_type": "execute_result",
          "data": {
            "text/plain": [
              "tensor(-1.3231)"
            ]
          },
          "metadata": {},
          "execution_count": 31
        }
      ]
    },
    {
      "cell_type": "markdown",
      "source": [
        "Values in a tensor can be read out via index exactly as you expect, where each specified index corresponds to the appropriate dimension in a.shape"
      ],
      "metadata": {
        "id": "2ZYK1WbFnrbJ"
      }
    },
    {
      "cell_type": "markdown",
      "source": [
        "Slicing takes this one step further. Suppose we had a large tensor, and we only wanted part of it - for instance the first row of b. We can use the colon operator to specify a range of indices, and take that 'slice' of the tensor"
      ],
      "metadata": {
        "id": "_-sRMyOSnz8i"
      }
    },
    {
      "cell_type": "code",
      "source": [
        "print(\"b:\", b)\n",
        "print(\"Second Row:\", b[1, :]) # In this case, the colon takes the range of all possible indices in this second position\n",
        "print(\"Second Col:\", b[:, 1]) # In this case, the colon takes the range of all possible indices in this first position"
      ],
      "metadata": {
        "colab": {
          "base_uri": "https://localhost:8080/",
          "height": 0
        },
        "id": "IurUuJG_np7E",
        "outputId": "1fad43c9-e300-4b99-83a1-32ae41ae9d23"
      },
      "execution_count": 32,
      "outputs": [
        {
          "output_type": "stream",
          "name": "stdout",
          "text": [
            "b: tensor([[ 0.1544, -0.8335,  0.5606],\n",
            "        [-0.5149, -0.2039, -0.2903],\n",
            "        [-0.9138, -0.0305, -0.3062]])\n",
            "Second Row: tensor([-0.5149, -0.2039, -0.2903])\n",
            "Second Col: tensor([-0.8335, -0.2039, -0.0305])\n"
          ]
        }
      ]
    },
    {
      "cell_type": "markdown",
      "source": [
        "Worth noting here that slicing in this way returned a 'row vector' in both cases, even when we wanted the column. In some cases, we may need to 'reshape' our tensor, or re-arrange it in a more useful format. We can do this by specifying the shape or dimension we want it to have."
      ],
      "metadata": {
        "id": "IuJqyuU1oK1P"
      }
    },
    {
      "cell_type": "code",
      "source": [
        "a = torch.arange(0,21)"
      ],
      "metadata": {
        "id": "HVOa4n7koHnr"
      },
      "execution_count": 33,
      "outputs": []
    },
    {
      "cell_type": "code",
      "source": [
        "a"
      ],
      "metadata": {
        "colab": {
          "base_uri": "https://localhost:8080/",
          "height": 0
        },
        "id": "uWbfHHFJojhO",
        "outputId": "1b91751d-8bc8-48fa-f3c1-f6a392358233"
      },
      "execution_count": 34,
      "outputs": [
        {
          "output_type": "execute_result",
          "data": {
            "text/plain": [
              "tensor([ 0,  1,  2,  3,  4,  5,  6,  7,  8,  9, 10, 11, 12, 13, 14, 15, 16, 17,\n",
              "        18, 19, 20])"
            ]
          },
          "metadata": {},
          "execution_count": 34
        }
      ]
    },
    {
      "cell_type": "code",
      "source": [
        "a.reshape( 7, 3 )"
      ],
      "metadata": {
        "colab": {
          "base_uri": "https://localhost:8080/",
          "height": 0
        },
        "id": "r9gZcbffolDk",
        "outputId": "f036f6b8-8f10-45de-97dd-81623eadc56a"
      },
      "execution_count": 35,
      "outputs": [
        {
          "output_type": "execute_result",
          "data": {
            "text/plain": [
              "tensor([[ 0,  1,  2],\n",
              "        [ 3,  4,  5],\n",
              "        [ 6,  7,  8],\n",
              "        [ 9, 10, 11],\n",
              "        [12, 13, 14],\n",
              "        [15, 16, 17],\n",
              "        [18, 19, 20]])"
            ]
          },
          "metadata": {},
          "execution_count": 35
        }
      ]
    },
    {
      "cell_type": "code",
      "source": [
        "a.reshape( 3, 7 )"
      ],
      "metadata": {
        "colab": {
          "base_uri": "https://localhost:8080/",
          "height": 0
        },
        "id": "klgx6jVoonWz",
        "outputId": "7525bb3d-800e-40c2-b597-fadb8e00f6e7"
      },
      "execution_count": 36,
      "outputs": [
        {
          "output_type": "execute_result",
          "data": {
            "text/plain": [
              "tensor([[ 0,  1,  2,  3,  4,  5,  6],\n",
              "        [ 7,  8,  9, 10, 11, 12, 13],\n",
              "        [14, 15, 16, 17, 18, 19, 20]])"
            ]
          },
          "metadata": {},
          "execution_count": 36
        }
      ]
    },
    {
      "cell_type": "markdown",
      "source": [
        "Question to consider: how is the data in the original tensor being distributed over the new tensor? What if I wanted something in higher dimensions, how would the data be distributed?"
      ],
      "metadata": {
        "id": "p4UPMywKotd1"
      }
    },
    {
      "cell_type": "code",
      "source": [
        "a = torch.arange(0,30)"
      ],
      "metadata": {
        "id": "UAbBXzlbBrYD"
      },
      "execution_count": 44,
      "outputs": []
    },
    {
      "cell_type": "code",
      "source": [
        "a"
      ],
      "metadata": {
        "colab": {
          "base_uri": "https://localhost:8080/",
          "height": 0
        },
        "id": "9qo5txtYBxw6",
        "outputId": "684122b7-4b6b-4a9c-ae29-943a500d142b"
      },
      "execution_count": 39,
      "outputs": [
        {
          "output_type": "execute_result",
          "data": {
            "text/plain": [
              "tensor([ 0,  1,  2,  3,  4,  5,  6,  7,  8,  9, 10, 11, 12, 13, 14, 15, 16, 17,\n",
              "        18, 19, 20, 21, 22, 23, 24, 25, 26, 27, 28, 29])"
            ]
          },
          "metadata": {},
          "execution_count": 39
        }
      ]
    },
    {
      "cell_type": "code",
      "source": [
        "a.reshape( 3,2,5 )"
      ],
      "metadata": {
        "colab": {
          "base_uri": "https://localhost:8080/",
          "height": 0
        },
        "id": "q-RemnU9Bzoa",
        "outputId": "4ab549ab-7b3e-49d1-92a3-60d6aff34f61"
      },
      "execution_count": 41,
      "outputs": [
        {
          "output_type": "execute_result",
          "data": {
            "text/plain": [
              "tensor([[[ 0,  1,  2,  3,  4],\n",
              "         [ 5,  6,  7,  8,  9]],\n",
              "\n",
              "        [[10, 11, 12, 13, 14],\n",
              "         [15, 16, 17, 18, 19]],\n",
              "\n",
              "        [[20, 21, 22, 23, 24],\n",
              "         [25, 26, 27, 28, 29]]])"
            ]
          },
          "metadata": {},
          "execution_count": 41
        }
      ]
    },
    {
      "cell_type": "markdown",
      "source": [
        "Other operations let us re-arrange data within a tensor. A classic matrix operation is transpose, swapping rows and cols."
      ],
      "metadata": {
        "id": "Fy4E2xeEo4oc"
      }
    },
    {
      "cell_type": "code",
      "source": [
        "a = torch.arange(0,21)"
      ],
      "metadata": {
        "id": "vOa54rxBCKGq"
      },
      "execution_count": 45,
      "outputs": []
    },
    {
      "cell_type": "code",
      "source": [
        "a = a.reshape( 3, 7 )"
      ],
      "metadata": {
        "id": "d_cYs78CosIT"
      },
      "execution_count": 46,
      "outputs": []
    },
    {
      "cell_type": "code",
      "source": [
        "a"
      ],
      "metadata": {
        "colab": {
          "base_uri": "https://localhost:8080/",
          "height": 0
        },
        "id": "iV5uhlNACRBi",
        "outputId": "99688231-54f8-4967-8f87-7553315b7b34"
      },
      "execution_count": 48,
      "outputs": [
        {
          "output_type": "execute_result",
          "data": {
            "text/plain": [
              "tensor([[ 0,  1,  2,  3,  4,  5,  6],\n",
              "        [ 7,  8,  9, 10, 11, 12, 13],\n",
              "        [14, 15, 16, 17, 18, 19, 20]])"
            ]
          },
          "metadata": {},
          "execution_count": 48
        }
      ]
    },
    {
      "cell_type": "code",
      "source": [
        "a.T"
      ],
      "metadata": {
        "colab": {
          "base_uri": "https://localhost:8080/",
          "height": 0
        },
        "id": "9TyH0IwHpAPZ",
        "outputId": "dc06a9a3-0387-4713-85df-2ee331175c07"
      },
      "execution_count": 47,
      "outputs": [
        {
          "output_type": "execute_result",
          "data": {
            "text/plain": [
              "tensor([[ 0,  7, 14],\n",
              "        [ 1,  8, 15],\n",
              "        [ 2,  9, 16],\n",
              "        [ 3, 10, 17],\n",
              "        [ 4, 11, 18],\n",
              "        [ 5, 12, 19],\n",
              "        [ 6, 13, 20]])"
            ]
          },
          "metadata": {},
          "execution_count": 47
        }
      ]
    },
    {
      "cell_type": "markdown",
      "source": [
        "Note: We could use slicing and indexing to potentially swap and move slices of data within a tensor as well. How could we swap the first and last rows above?"
      ],
      "metadata": {
        "id": "EDdU_8KRpCst"
      }
    },
    {
      "cell_type": "code",
      "source": [
        "# Swap the first and last rows of tensor 'a'\n",
        "a[[0, -1], :] = a[[-1, 0], :]\n",
        "display(a)"
      ],
      "metadata": {
        "colab": {
          "base_uri": "https://localhost:8080/",
          "height": 69
        },
        "id": "Q46EkrFFCXSy",
        "outputId": "56cd3c20-910d-48ec-9337-cb131dbb09ea"
      },
      "execution_count": 49,
      "outputs": [
        {
          "output_type": "display_data",
          "data": {
            "text/plain": [
              "tensor([[14, 15, 16, 17, 18, 19, 20],\n",
              "        [ 7,  8,  9, 10, 11, 12, 13],\n",
              "        [ 0,  1,  2,  3,  4,  5,  6]])"
            ]
          },
          "metadata": {}
        }
      ]
    },
    {
      "cell_type": "markdown",
      "source": [
        "Let's try some other operations\n",
        "\n",
        "1. Reverse the item order\n",
        "2. Change the dimension order\n",
        "\n"
      ],
      "metadata": {
        "id": "oZmGrbjMEFGK"
      }
    },
    {
      "cell_type": "code",
      "source": [
        "a = torch.arange(0,21).reshape(3,7)\n",
        "\n",
        "# Reverse the order items in the second dimension\n",
        "display(a[:, torch.arange(a.size(1) - 1, -1, -1)])\n",
        "\n",
        "# easier use\n",
        "display(torch.flip(a, [1]))\n",
        "\n",
        "# not supported in pyTorch\n",
        "try:\n",
        "  display(a[:, ::-1])\n",
        "except Exception as e:\n",
        "  print(e)"
      ],
      "metadata": {
        "colab": {
          "base_uri": "https://localhost:8080/",
          "height": 139
        },
        "id": "i9QvE8ycCmoy",
        "outputId": "ce738f9f-141b-4386-e8f1-1757f42e3fad"
      },
      "execution_count": 53,
      "outputs": [
        {
          "output_type": "display_data",
          "data": {
            "text/plain": [
              "tensor([[ 6,  5,  4,  3,  2,  1,  0],\n",
              "        [13, 12, 11, 10,  9,  8,  7],\n",
              "        [20, 19, 18, 17, 16, 15, 14]])"
            ]
          },
          "metadata": {}
        },
        {
          "output_type": "display_data",
          "data": {
            "text/plain": [
              "tensor([[ 6,  5,  4,  3,  2,  1,  0],\n",
              "        [13, 12, 11, 10,  9,  8,  7],\n",
              "        [20, 19, 18, 17, 16, 15, 14]])"
            ]
          },
          "metadata": {}
        },
        {
          "output_type": "stream",
          "name": "stdout",
          "text": [
            "step must be greater than zero\n"
          ]
        }
      ]
    },
    {
      "cell_type": "code",
      "source": [
        "# Create the input tensor\n",
        "x = torch.arange(0, 30).reshape(2, 3, 5)\n",
        "print(\"Original Tensor (shape {}):\\n{}\\n\".format(x.shape, x))\n",
        "\n",
        "# ----------------------------\n",
        "# Method 1: permute\n",
        "# ----------------------------\n",
        "# Reorder dimensions from (2, 3, 5) → (5, 2, 3)\n",
        "y_permute = x.permute(2, 0, 1)\n",
        "print(\"After permute(2, 0, 1) (shape {}):\\n{}\\n\".format(y_permute.shape, y_permute))\n",
        "\n",
        "# ----------------------------\n",
        "# Method 2: transpose\n",
        "# ----------------------------\n",
        "# Swap dimension 0 and 2 → (2, 3, 5) → (5, 3, 2)\n",
        "y_transpose = x.transpose(0, 2)\n",
        "print(\"After transpose(0, 2) (shape {}):\\n{}\\n\".format(y_transpose.shape, y_transpose))"
      ],
      "metadata": {
        "colab": {
          "base_uri": "https://localhost:8080/"
        },
        "id": "qzLDFjIYLCmr",
        "outputId": "3af82b8e-5ed4-45cf-cb63-6712f62efcb0"
      },
      "execution_count": 92,
      "outputs": [
        {
          "output_type": "stream",
          "name": "stdout",
          "text": [
            "Original Tensor (shape torch.Size([2, 3, 5])):\n",
            "tensor([[[ 0,  1,  2,  3,  4],\n",
            "         [ 5,  6,  7,  8,  9],\n",
            "         [10, 11, 12, 13, 14]],\n",
            "\n",
            "        [[15, 16, 17, 18, 19],\n",
            "         [20, 21, 22, 23, 24],\n",
            "         [25, 26, 27, 28, 29]]])\n",
            "\n",
            "After permute(2, 0, 1) (shape torch.Size([5, 2, 3])):\n",
            "tensor([[[ 0,  5, 10],\n",
            "         [15, 20, 25]],\n",
            "\n",
            "        [[ 1,  6, 11],\n",
            "         [16, 21, 26]],\n",
            "\n",
            "        [[ 2,  7, 12],\n",
            "         [17, 22, 27]],\n",
            "\n",
            "        [[ 3,  8, 13],\n",
            "         [18, 23, 28]],\n",
            "\n",
            "        [[ 4,  9, 14],\n",
            "         [19, 24, 29]]])\n",
            "\n",
            "After transpose(0, 2) (shape torch.Size([5, 3, 2])):\n",
            "tensor([[[ 0, 15],\n",
            "         [ 5, 20],\n",
            "         [10, 25]],\n",
            "\n",
            "        [[ 1, 16],\n",
            "         [ 6, 21],\n",
            "         [11, 26]],\n",
            "\n",
            "        [[ 2, 17],\n",
            "         [ 7, 22],\n",
            "         [12, 27]],\n",
            "\n",
            "        [[ 3, 18],\n",
            "         [ 8, 23],\n",
            "         [13, 28]],\n",
            "\n",
            "        [[ 4, 19],\n",
            "         [ 9, 24],\n",
            "         [14, 29]]])\n",
            "\n"
          ]
        }
      ]
    },
    {
      "cell_type": "markdown",
      "source": [
        "One of the most powerful things that pytorch can do is compute gradients and derivatives. It does this by keeping track of computions in a way that allows it to work backwards (via the chain rule) to compute derivatives."
      ],
      "metadata": {
        "id": "h0SuP9x-pWot"
      }
    },
    {
      "cell_type": "code",
      "source": [
        "x = torch.tensor( [2.1], requires_grad = True )"
      ],
      "metadata": {
        "id": "oC27f8iNpA4b"
      },
      "execution_count": 59,
      "outputs": []
    },
    {
      "cell_type": "code",
      "source": [
        "f_value = x**2 + 3*x - 4"
      ],
      "metadata": {
        "id": "jmtg7kYZpl8n"
      },
      "execution_count": 60,
      "outputs": []
    },
    {
      "cell_type": "code",
      "source": [
        "f_value"
      ],
      "metadata": {
        "colab": {
          "base_uri": "https://localhost:8080/"
        },
        "id": "zk5w6o1qpp69",
        "outputId": "4346a956-34aa-46fe-946a-4db74a609f18"
      },
      "execution_count": 61,
      "outputs": [
        {
          "output_type": "execute_result",
          "data": {
            "text/plain": [
              "tensor([6.7100], grad_fn=<SubBackward0>)"
            ]
          },
          "metadata": {},
          "execution_count": 61
        }
      ]
    },
    {
      "cell_type": "markdown",
      "source": [
        "This tells us that our initial value, 2.1, plugged into the function x^2 + 3x - 4, gives us 6.71 as the final result. We can trigger differentiation with the .backward command"
      ],
      "metadata": {
        "id": "PFJO7f_BpsR2"
      }
    },
    {
      "cell_type": "code",
      "source": [
        "f_value.backward()"
      ],
      "metadata": {
        "id": "C5u_cNCepqzX"
      },
      "execution_count": 62,
      "outputs": []
    },
    {
      "cell_type": "markdown",
      "source": [
        "This causes pytorch to perform the differentiation of the indicated value with respect to any parameters that were used in its calculation - i.e., any tensors where requires_grad was set to True.\n",
        "\n",
        "This derivative information is stored in x.grad"
      ],
      "metadata": {
        "id": "3GvQ9G9gp50Y"
      }
    },
    {
      "cell_type": "code",
      "source": [
        "x.grad"
      ],
      "metadata": {
        "colab": {
          "base_uri": "https://localhost:8080/"
        },
        "id": "-XWM3JPpp4-u",
        "outputId": "2cf952ac-a9d5-47e1-b7dd-d9c2047e049f"
      },
      "execution_count": 63,
      "outputs": [
        {
          "output_type": "execute_result",
          "data": {
            "text/plain": [
              "tensor([7.2000])"
            ]
          },
          "metadata": {},
          "execution_count": 63
        }
      ]
    },
    {
      "cell_type": "markdown",
      "source": [
        "This tells us that the derivative of the function with respect to the indicated value evaluates to 7.2\n",
        "\n",
        "And we can check this ourself!\n",
        "\n",
        "We know that if f(x) = x^2 + 3x - 4, then f'(x) = 2x + 3.\n",
        "\n",
        "So f'(2.1) = 2*2.1 + 3 = 4.2 + 3 = 7.2\n",
        "\n",
        "And, thankfully, pytorch is correct."
      ],
      "metadata": {
        "id": "9Q5MOZYPqPWa"
      }
    },
    {
      "cell_type": "markdown",
      "source": [
        "But we can also do higher dimensional derivatives as well. In this case, let's take x as a three dimensional vector x = (x1, x2, x3)\n",
        "\n",
        "Let's compute the sum of the squares, f(x) = x1^2 + x2^2 + x3^2"
      ],
      "metadata": {
        "id": "Dykag5O7qdry"
      }
    },
    {
      "cell_type": "code",
      "source": [
        "x = torch.tensor( [3.1, -0.2, 1.7] , requires_grad = True )"
      ],
      "metadata": {
        "id": "HCgmdmggqn8u"
      },
      "execution_count": 64,
      "outputs": []
    },
    {
      "cell_type": "code",
      "source": [
        "f_value = torch.sum( torch.square( x ) )"
      ],
      "metadata": {
        "id": "5tWAmKvTqrr1"
      },
      "execution_count": 65,
      "outputs": []
    },
    {
      "cell_type": "code",
      "source": [
        "f_value.backward()"
      ],
      "metadata": {
        "id": "jshp6KhIquZ3"
      },
      "execution_count": 66,
      "outputs": []
    },
    {
      "cell_type": "markdown",
      "source": [
        "Checking the gradient, we see a tensor with three values - these values correspond to the derivatives with respect to the corresponding values in the original tensor."
      ],
      "metadata": {
        "id": "mbEEQ8Wkq1vB"
      }
    },
    {
      "cell_type": "code",
      "source": [
        "x.grad"
      ],
      "metadata": {
        "colab": {
          "base_uri": "https://localhost:8080/"
        },
        "id": "5-O2ZTHbqwQ7",
        "outputId": "062bc579-1d5f-4b08-a5e3-5a1868ab2edb"
      },
      "execution_count": 67,
      "outputs": [
        {
          "output_type": "execute_result",
          "data": {
            "text/plain": [
              "tensor([ 6.2000, -0.4000,  3.4000])"
            ]
          },
          "metadata": {},
          "execution_count": 67
        }
      ]
    },
    {
      "cell_type": "markdown",
      "source": [
        "To check this, note that in this case, df/dxi = 2*xi\n",
        "\n",
        "And the result we got was exactly 2 * ( 3.1, -0.2, 1.7), i.e., exactly twice the original vector. All the derivatives are taken together as a single vector object."
      ],
      "metadata": {
        "id": "062-ZgyGq90n"
      }
    },
    {
      "cell_type": "markdown",
      "source": [
        "Finally, an example with gradient descent.\n",
        "\n",
        "Consider the function $f(x) = ( x^2 - 2 )^2$\n",
        "\n",
        "Note that this function is non-negative, has a minimum value of zero, and achieves that minimum when $x = \\pm \\sqrt{2}$.\n",
        "\n",
        "If we tried to minimize this function, this would give us a means of calculating the square root of 2.\n",
        "\n",
        "So recall our standard approach:\n",
        "\n",
        "*   Guess an initial x value\n",
        "*   Compute f(x), f'(x)\n",
        "*   Update x_new = x - alpha * f'(x)\n",
        "*   Loop until convergence\n",
        "\n"
      ],
      "metadata": {
        "id": "LBm9BoyRrOKA"
      }
    },
    {
      "cell_type": "code",
      "source": [
        "x = torch.tensor( [ 1.0 ], requires_grad = True)\n",
        "alpha = 0.1\n",
        "print(\"Initial Guess:\", x)\n",
        "for i in range(20):\n",
        "  f_value = ( x**2 - 2 )**2\n",
        "  print(\"\\t Current x value:\", x.item(), \"giving f value:\", f_value.item())\n",
        "  f_value.backward()\n",
        "  with torch.no_grad(): # This tells pytorch we don't need to keep track of gradients for this calculation\n",
        "    x -= alpha * x.grad # We update according to derivative descent\n",
        "    x.grad = None # Delete the gradient information once used\n",
        "\n",
        "print(\"Final x value:\", x)\n",
        "f_value = ( x**2 - 2 )**2\n",
        "print(\"Final f value:\", f_value)\n",
        "f_value.backward()\n",
        "print(\"Final Derivatives:\", x.grad)"
      ],
      "metadata": {
        "colab": {
          "base_uri": "https://localhost:8080/"
        },
        "id": "ja8c0p-zq8qS",
        "outputId": "a20cabef-9168-44e2-daf4-55505927a5e6"
      },
      "execution_count": 68,
      "outputs": [
        {
          "output_type": "stream",
          "name": "stdout",
          "text": [
            "Initial Guess: tensor([1.], requires_grad=True)\n",
            "\t Current x value: 1.0 giving f value: 1.0\n",
            "\t Current x value: 1.399999976158142 giving f value: 0.0016000064788386226\n",
            "\t Current x value: 1.4223999977111816 giving f value: 0.0005392488092184067\n",
            "\t Current x value: 1.4091877937316895 giving f value: 0.00020134815713390708\n",
            "\t Current x value: 1.4171861410140991 giving f value: 7.0840040280018e-05\n",
            "\t Current x value: 1.4124149084091187 giving f value: 2.5848652512650006e-05\n",
            "\t Current x value: 1.4152872562408447 giving f value: 9.22901563171763e-06\n",
            "\t Current x value: 1.4135674238204956 giving f value: 3.3383703339495696e-06\n",
            "\t Current x value: 1.4146004915237427 giving f value: 1.1981046554865316e-06\n",
            "\t Current x value: 1.4139810800552368 giving f value: 4.3238310354354326e-07\n",
            "\t Current x value: 1.4143530130386353 giving f value: 1.5550745047221426e-07\n",
            "\t Current x value: 1.4141299724578857 giving f value: 5.588118767718697e-08\n",
            "\t Current x value: 1.4142637252807617 giving f value: 2.0123991362197557e-08\n",
            "\t Current x value: 1.414183497428894 giving f value: 7.2243580007125274e-09\n",
            "\t Current x value: 1.414231538772583 giving f value: 2.578929070295999e-09\n",
            "\t Current x value: 1.4142028093338013 giving f value: 9.240608278560103e-10\n",
            "\t Current x value: 1.4142199754714966 giving f value: 3.283275873400271e-10\n",
            "\t Current x value: 1.4142097234725952 giving f value: 1.176800878965878e-10\n",
            "\t Current x value: 1.4142158031463623 giving f value: 4.143885234952904e-11\n",
            "\t Current x value: 1.4142121076583862 giving f value: 1.7408297026122455e-11\n",
            "Final x value: tensor([1.4142], requires_grad=True)\n",
            "Final f value: tensor([6.8781e-12], grad_fn=<PowBackward0>)\n",
            "Final Derivatives: tensor([1.4836e-05])\n"
          ]
        }
      ]
    },
    {
      "cell_type": "markdown",
      "source": [
        "Comparing this to the actual square root of 2, we see a good match."
      ],
      "metadata": {
        "id": "DsrsocH5tDrb"
      }
    },
    {
      "cell_type": "code",
      "source": [
        "torch.sqrt( torch.tensor( [2] ) )"
      ],
      "metadata": {
        "colab": {
          "base_uri": "https://localhost:8080/"
        },
        "id": "CHD4W2mUtICe",
        "outputId": "d6b16239-8969-4f6d-9247-7bd2d03dc8fa"
      },
      "execution_count": 69,
      "outputs": [
        {
          "output_type": "execute_result",
          "data": {
            "text/plain": [
              "tensor([1.4142])"
            ]
          },
          "metadata": {},
          "execution_count": 69
        }
      ]
    },
    {
      "cell_type": "markdown",
      "source": [
        "And note that we can tell we are close to the solution, because the derivative is close to zero - as it should be at the minimum"
      ],
      "metadata": {
        "id": "KvaFZTmptQi2"
      }
    },
    {
      "cell_type": "code",
      "source": [
        "import matplotlib.pyplot as plt\n",
        "\n",
        "# Setup\n",
        "x = torch.tensor([1.0], requires_grad=True)\n",
        "alpha = 0.05\n",
        "steps = 20\n",
        "\n",
        "x_values = [x.item()]\n",
        "grad_values = []\n",
        "\n",
        "for i in range(steps):\n",
        "    f_value = (x**2 - 2)**2\n",
        "    f_value.backward()\n",
        "\n",
        "    # collect gradient before updating\n",
        "    grad_values.append(x.grad.item())\n",
        "\n",
        "    with torch.no_grad():\n",
        "        x -= alpha * x.grad   # update\n",
        "        x.grad = None         # ✅ reset gradient each step\n",
        "\n",
        "    x_values.append(x.item())\n",
        "\n",
        "# Side-by-side plots\n",
        "fig, axes = plt.subplots(1, 2, figsize=(8,3))\n",
        "\n",
        "# Plot x\n",
        "axes[0].plot(range(steps+1), x_values, marker='o', color='blue')\n",
        "axes[0].set_xlabel(\"Iteration\")\n",
        "axes[0].set_ylabel(\"x value\")\n",
        "axes[0].set_title(\"x over iterations\")\n",
        "axes[0].grid(True)\n",
        "\n",
        "# Plot gradient\n",
        "axes[1].plot(range(1, steps+1), grad_values, marker='o', color='green')\n",
        "axes[1].set_xlabel(\"Iteration\")\n",
        "axes[1].set_ylabel(\"Gradient of x\")\n",
        "axes[1].set_title(\"Gradient of x per iteration\")\n",
        "axes[1].grid(True)\n",
        "\n",
        "plt.tight_layout()\n",
        "plt.show()"
      ],
      "metadata": {
        "colab": {
          "base_uri": "https://localhost:8080/",
          "height": 307
        },
        "id": "byCQq19yJHya",
        "outputId": "736e6cb8-59c1-4120-f52c-4233059af8e0"
      },
      "execution_count": 91,
      "outputs": [
        {
          "output_type": "display_data",
          "data": {
            "text/plain": [
              "<Figure size 800x300 with 2 Axes>"
            ],
            "image/png": "[encoded data removed]"
          },
          "metadata": {}
        }
      ]
    },
    {
      "cell_type": "markdown",
      "source": [
        "How gradient accumulation works in PyTorch\n",
        "\n",
        "By design, **PyTorch accumulates gradients** into `.grad` instead of overwriting them.\n",
        "That means after each call to:\n",
        "\n",
        "```python\n",
        "f_value.backward()\n",
        "```\n",
        "\n",
        "PyTorch **adds** the newly computed gradient to whatever is already stored in `x.grad`.\n",
        "\n",
        "\n",
        "\n",
        "What happens in your loop if you don't clear it\n",
        "\n",
        "Suppose the true gradient at step 1 is `g₁`, and at step 2 it is `g₂`.\n",
        "\n",
        "* With clearing (`x.grad = None` each time):\n",
        "  At step 2, you use exactly `g₂`.\n",
        "\n",
        "* Without clearing:\n",
        "  At step 2, `x.grad` will hold `g₁ + g₂`.\n",
        "  At step 3, it will hold `g₁ + g₂ + g₃`, and so on.\n",
        "\n",
        "So instead of doing **gradient descent**, you’d be updating with a **running sum of all previous gradients**.\n",
        "That usually makes training blow up or behave very strangely."
      ],
      "metadata": {
        "id": "dKus8aUbHhaU"
      }
    },
    {
      "cell_type": "code",
      "source": [
        "import matplotlib.pyplot as plt\n",
        "\n",
        "\n",
        "# Setup\n",
        "x = torch.tensor([1.0], requires_grad=True)\n",
        "alpha = 0.1\n",
        "steps = 40\n",
        "\n",
        "x_values = [x.item()]\n",
        "grad_values = []\n",
        "\n",
        "for i in range(steps):\n",
        "    f_value = (x**2 - 2)**2\n",
        "    f_value.backward()\n",
        "\n",
        "    # collect gradient before updating\n",
        "    grad_values.append(x.grad.item())\n",
        "\n",
        "    with torch.no_grad():\n",
        "        # WRONG: we do NOT clear x.grad, so it accumulates\n",
        "        x -= alpha * x.grad\n",
        "\n",
        "    x_values.append(x.item())\n",
        "\n",
        "# Side-by-side plots\n",
        "fig, axes = plt.subplots(1, 2, figsize=(8,3))\n",
        "\n",
        "# Plot x\n",
        "axes[0].plot(range(steps+1), x_values, marker='o', color='blue')\n",
        "axes[0].set_xlabel(\"Iteration\")\n",
        "axes[0].set_ylabel(\"x value\")\n",
        "axes[0].set_title(\"x over iterations\")\n",
        "axes[0].grid(True)\n",
        "\n",
        "# Plot gradient\n",
        "axes[1].plot(range(1, steps+1), grad_values, marker='o', color='green')\n",
        "axes[1].set_xlabel(\"Iteration\")\n",
        "axes[1].set_ylabel(\"Gradient of x\")\n",
        "axes[1].set_title(\"Gradient of x per iteration\")\n",
        "axes[1].grid(True)\n",
        "\n",
        "plt.tight_layout()\n",
        "plt.show()"
      ],
      "metadata": {
        "id": "pXBQajm6sQc1",
        "colab": {
          "base_uri": "https://localhost:8080/",
          "height": 307
        },
        "outputId": "7ec16e04-cad4-4e00-c165-45210a8cbb31"
      },
      "execution_count": 90,
      "outputs": [
        {
          "output_type": "display_data",
          "data": {
            "text/plain": [
              "<Figure size 800x300 with 2 Axes>"
            ],
            "image/png": "[encoded data removed]"
          },
          "metadata": {}
        }
      ]
    }
  ]
}