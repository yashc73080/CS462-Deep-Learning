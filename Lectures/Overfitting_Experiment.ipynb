{
  "cells": [
    {
      "cell_type": "code",
      "execution_count": 1,
      "metadata": {
        "id": "Nt24hKhklUva"
      },
      "outputs": [],
      "source": [
        "import torch\n",
        "import torch.nn as nn\n",
        "import torch.optim as optim\n",
        "import torchvision\n",
        "import torchvision.transforms as transforms\n",
        "import numpy as np\n",
        "import random\n",
        "import matplotlib.pyplot as plt\n",
        "import seaborn as sns\n",
        "import torch.utils.data as data"
      ]
    },
    {
      "cell_type": "code",
      "execution_count": 2,
      "metadata": {
        "colab": {
          "base_uri": "https://localhost:8080/"
        },
        "id": "NdybaIjNuK9P",
        "outputId": "350c9b9d-7fdd-4f7c-f7e3-8e579f3a4879"
      },
      "outputs": [
        {
          "name": "stdout",
          "output_type": "stream",
          "text": [
            "PyTorch version: 2.8.0+cu126\n",
            "CUDA available: True\n",
            "CUDA device count: 1\n",
            "Current device index: 0\n",
            "Device name: Tesla T4\n"
          ]
        }
      ],
      "source": [
        "print(\"PyTorch version:\", torch.__version__)\n",
        "print(\"CUDA available:\", torch.cuda.is_available())\n",
        "\n",
        "if torch.cuda.is_available():\n",
        "    print(\"CUDA device count:\", torch.cuda.device_count())\n",
        "    print(\"Current device index:\", torch.cuda.current_device())\n",
        "    print(\"Device name:\", torch.cuda.get_device_name(torch.cuda.current_device()))\n",
        "else:\n",
        "    print(\"Running on CPU-only environment. GPU-specific cells will safely skip.\")"
      ]
    },
    {
      "cell_type": "code",
      "execution_count": 3,
      "metadata": {
        "colab": {
          "base_uri": "https://localhost:8080/"
        },
        "id": "dVIlF9tAunEV",
        "outputId": "bfa336df-4484-4b2f-d6e7-c604d1a16cae"
      },
      "outputs": [
        {
          "data": {
            "text/plain": [
              "device(type='cuda')"
            ]
          },
          "execution_count": 3,
          "metadata": {},
          "output_type": "execute_result"
        }
      ],
      "source": [
        "device = torch.device(\"cuda\" if torch.cuda.is_available() else \"cpu\")\n",
        "device"
      ]
    },
    {
      "cell_type": "code",
      "execution_count": 82,
      "metadata": {
        "colab": {
          "base_uri": "https://localhost:8080/"
        },
        "id": "Cnrz9ZM-uUqW",
        "outputId": "62f1beb4-b5fd-4427-fdac-00b1929ef733"
      },
      "outputs": [
        {
          "name": "stdout",
          "output_type": "stream",
          "text": [
            "Training set shape: torch.Size([60000, 28, 28])\n",
            "Testing set shape: torch.Size([10000, 28, 28])\n"
          ]
        }
      ],
      "source": [
        "trainset = torchvision.datasets.MNIST(root='./data', train=True, download=True, transform=transforms.ToTensor())\n",
        "testset = torchvision.datasets.MNIST(root='./data', train=False, download=True, transform=transforms.ToTensor())\n",
        "\n",
        "print(f\"Training set shape: {trainset.data.shape}\")\n",
        "print(f\"Testing set shape: {testset.data.shape}\")\n",
        "\n",
        "def preprocess_data(dataset):\n",
        "    data = (dataset.data / 255.0) - 0.5\n",
        "    targets = dataset.targets\n",
        "    return data, targets\n",
        "\n",
        "x_train, y_train = preprocess_data(trainset)\n",
        "x_test, y_test = preprocess_data(testset)\n",
        "\n",
        "x_train = x_train.to(device)\n",
        "y_train = y_train.to(device)\n",
        "x_test = x_test.to(device)\n",
        "y_test = y_test.to(device)\n",
        "\n",
        "x_train_small = x_train[ 0 : 10000 ]\n",
        "y_train_small = y_train[ 0 : 10000 ]\n",
        "\n",
        "train_dataset = data.TensorDataset(x_train_small, y_train_small)\n",
        "\n",
        "batch_size = 64\n",
        "train_loader = data.DataLoader(dataset=train_dataset, batch_size=batch_size, shuffle=True)"
      ]
    },
    {
      "cell_type": "code",
      "execution_count": 83,
      "metadata": {
        "id": "u8CxXnXIujAU"
      },
      "outputs": [],
      "source": [
        "class MNIST_Network(nn.Module):\n",
        "  def __init__(self):\n",
        "    super().__init__()\n",
        "\n",
        "    self.layer_1 = nn.Linear( in_features = 784, out_features = 1000 )\n",
        "    self.layer_2 = nn.Linear( in_features = 1000, out_features = 1000 )\n",
        "    self.layer_3 = nn.Linear( in_features = 1000, out_features = 1000 )\n",
        "    self.layer_4 = nn.Linear( in_features = 1000, out_features = 1000 )\n",
        "    self.layer_5 = nn.Linear( in_features = 1000, out_features = 1000 )\n",
        "    self.layer_6 = nn.Linear( in_features = 1000, out_features = 1000 )\n",
        "    self.layer_7 = nn.Linear( in_features = 1000, out_features = 1000 )\n",
        "    self.layer_8 = nn.Linear( in_features = 1000, out_features = 1000 )\n",
        "    self.layer_9 = nn.Linear( in_features = 1000, out_features = 1000 )\n",
        "    self.layer_10 = nn.Linear( in_features = 1000, out_features = 10 )\n",
        "\n",
        "  def forward(self, x):\n",
        "    input = nn.Flatten()( x )\n",
        "\n",
        "    hidden_nodes = self.layer_1( input )\n",
        "    hidden_nodes = nn.ReLU()( hidden_nodes )\n",
        "\n",
        "    hidden_nodes = self.layer_2( hidden_nodes )\n",
        "    hidden_nodes = nn.ReLU()( hidden_nodes )\n",
        "\n",
        "    hidden_nodes = self.layer_3( hidden_nodes )\n",
        "    hidden_nodes = nn.ReLU()( hidden_nodes )\n",
        "\n",
        "    hidden_nodes = self.layer_4( hidden_nodes )\n",
        "    hidden_nodes = nn.ReLU()( hidden_nodes )\n",
        "\n",
        "    hidden_nodes = self.layer_5( hidden_nodes )\n",
        "    hidden_nodes = nn.ReLU()( hidden_nodes )\n",
        "\n",
        "    hidden_nodes = self.layer_6( hidden_nodes )\n",
        "    hidden_nodes = nn.ReLU()( hidden_nodes )\n",
        "\n",
        "    hidden_nodes = self.layer_7( hidden_nodes )\n",
        "    hidden_nodes = nn.ReLU()( hidden_nodes )\n",
        "\n",
        "    hidden_nodes = self.layer_8( hidden_nodes )\n",
        "    hidden_nodes = nn.ReLU()( hidden_nodes )\n",
        "\n",
        "    hidden_nodes = self.layer_9( hidden_nodes )\n",
        "    hidden_nodes = nn.ReLU()( hidden_nodes )\n",
        "\n",
        "    logits = self.layer_10( hidden_nodes )\n",
        "\n",
        "    return logits"
      ]
    },
    {
      "cell_type": "code",
      "execution_count": 84,
      "metadata": {
        "id": "PmYeFBCh93en"
      },
      "outputs": [],
      "source": [
        "model = MNIST_Network().to(device)"
      ]
    },
    {
      "cell_type": "code",
      "execution_count": 85,
      "metadata": {
        "id": "IPwDbVdd81wY"
      },
      "outputs": [],
      "source": [
        "loss_function = nn.CrossEntropyLoss()\n",
        "optimizer = optim.SGD(model.parameters(), lr=0.1)"
      ]
    },
    {
      "cell_type": "code",
      "execution_count": 86,
      "metadata": {
        "id": "55pHl0As97mC"
      },
      "outputs": [],
      "source": [
        "epochs = 200"
      ]
    },
    {
      "cell_type": "code",
      "execution_count": 87,
      "metadata": {
        "id": "ZakUyCa8-Td3"
      },
      "outputs": [],
      "source": [
        "loss_history = []\n",
        "test_history = []"
      ]
    },
    {
      "cell_type": "code",
      "execution_count": 89,
      "metadata": {
        "colab": {
          "base_uri": "https://localhost:8080/",
          "height": 1000
        },
        "id": "lOFVNpEx9nNY",
        "outputId": "d62d52f2-9b8d-4f6c-9724-cefcce8cf91c"
      },
      "outputs": [
        {
          "name": "stdout",
          "output_type": "stream",
          "text": [
            "Epoch 1, Average Loss: 0.000048, Test Loss: 0.530989\n",
            "Epoch 2, Average Loss: 0.000048, Test Loss: 0.529181\n",
            "Epoch 3, Average Loss: 0.000047, Test Loss: 0.533302\n",
            "Epoch 4, Average Loss: 0.000046, Test Loss: 0.531247\n",
            "Epoch 5, Average Loss: 0.000046, Test Loss: 0.533214\n",
            "Epoch 6, Average Loss: 0.000045, Test Loss: 0.534129\n",
            "Epoch 7, Average Loss: 0.000044, Test Loss: 0.535316\n",
            "Epoch 8, Average Loss: 0.000043, Test Loss: 0.535745\n",
            "Epoch 9, Average Loss: 0.000043, Test Loss: 0.535888\n",
            "Epoch 10, Average Loss: 0.000042, Test Loss: 0.537642\n",
            "Epoch 11, Average Loss: 0.000042, Test Loss: 0.538239\n",
            "Epoch 12, Average Loss: 0.000041, Test Loss: 0.539582\n",
            "Epoch 13, Average Loss: 0.000040, Test Loss: 0.540711\n",
            "Epoch 14, Average Loss: 0.000039, Test Loss: 0.541982\n",
            "Epoch 15, Average Loss: 0.000039, Test Loss: 0.541126\n",
            "Epoch 16, Average Loss: 0.000038, Test Loss: 0.542747\n",
            "Epoch 17, Average Loss: 0.000038, Test Loss: 0.544137\n",
            "Epoch 18, Average Loss: 0.000037, Test Loss: 0.545061\n",
            "Epoch 19, Average Loss: 0.000037, Test Loss: 0.545444\n",
            "Epoch 20, Average Loss: 0.000036, Test Loss: 0.546635\n",
            "Epoch 21, Average Loss: 0.000036, Test Loss: 0.546640\n",
            "Epoch 22, Average Loss: 0.000035, Test Loss: 0.547374\n",
            "Epoch 23, Average Loss: 0.000035, Test Loss: 0.549636\n",
            "Epoch 24, Average Loss: 0.000034, Test Loss: 0.549430\n",
            "Epoch 25, Average Loss: 0.000034, Test Loss: 0.551487\n",
            "Epoch 26, Average Loss: 0.000033, Test Loss: 0.550286\n",
            "Epoch 27, Average Loss: 0.000033, Test Loss: 0.552053\n",
            "Epoch 28, Average Loss: 0.000033, Test Loss: 0.552421\n",
            "Epoch 29, Average Loss: 0.000032, Test Loss: 0.552676\n",
            "Epoch 30, Average Loss: 0.000032, Test Loss: 0.554564\n",
            "Epoch 31, Average Loss: 0.000031, Test Loss: 0.554072\n",
            "Epoch 32, Average Loss: 0.000031, Test Loss: 0.556149\n",
            "Epoch 33, Average Loss: 0.000030, Test Loss: 0.556011\n",
            "Epoch 34, Average Loss: 0.000030, Test Loss: 0.556880\n",
            "Epoch 35, Average Loss: 0.000030, Test Loss: 0.556776\n",
            "Epoch 36, Average Loss: 0.000029, Test Loss: 0.558279\n",
            "Epoch 37, Average Loss: 0.000029, Test Loss: 0.558024\n",
            "Epoch 38, Average Loss: 0.000029, Test Loss: 0.559782\n",
            "Epoch 39, Average Loss: 0.000028, Test Loss: 0.559264\n",
            "Epoch 40, Average Loss: 0.000030, Test Loss: 0.560624\n",
            "Epoch 41, Average Loss: 0.000028, Test Loss: 0.561021\n",
            "Epoch 42, Average Loss: 0.000027, Test Loss: 0.563138\n",
            "Epoch 43, Average Loss: 0.000027, Test Loss: 0.561888\n",
            "Epoch 44, Average Loss: 0.000026, Test Loss: 0.564180\n",
            "Epoch 45, Average Loss: 0.000026, Test Loss: 0.563697\n",
            "Epoch 46, Average Loss: 0.000026, Test Loss: 0.564264\n",
            "Epoch 47, Average Loss: 0.000026, Test Loss: 0.564973\n",
            "Epoch 48, Average Loss: 0.000025, Test Loss: 0.566389\n",
            "Epoch 49, Average Loss: 0.000025, Test Loss: 0.565923\n",
            "Epoch 50, Average Loss: 0.000025, Test Loss: 0.567349\n",
            "Epoch 51, Average Loss: 0.000024, Test Loss: 0.567395\n",
            "Epoch 52, Average Loss: 0.000024, Test Loss: 0.568225\n",
            "Epoch 53, Average Loss: 0.000024, Test Loss: 0.568859\n",
            "Epoch 54, Average Loss: 0.000023, Test Loss: 0.569913\n",
            "Epoch 55, Average Loss: 0.000023, Test Loss: 0.570062\n",
            "Epoch 56, Average Loss: 0.000023, Test Loss: 0.571113\n",
            "Epoch 57, Average Loss: 0.000023, Test Loss: 0.571222\n",
            "Epoch 58, Average Loss: 0.000022, Test Loss: 0.571684\n",
            "Epoch 59, Average Loss: 0.000022, Test Loss: 0.572284\n",
            "Epoch 60, Average Loss: 0.000022, Test Loss: 0.573164\n",
            "Epoch 61, Average Loss: 0.000022, Test Loss: 0.573746\n",
            "Epoch 62, Average Loss: 0.000021, Test Loss: 0.573326\n",
            "Epoch 63, Average Loss: 0.000021, Test Loss: 0.575017\n",
            "Epoch 64, Average Loss: 0.000030, Test Loss: 0.575929\n",
            "Epoch 65, Average Loss: 0.000021, Test Loss: 0.576380\n",
            "Epoch 66, Average Loss: 0.000021, Test Loss: 0.576248\n",
            "Epoch 67, Average Loss: 0.000020, Test Loss: 0.577332\n",
            "Epoch 68, Average Loss: 0.000020, Test Loss: 0.577121\n",
            "Epoch 69, Average Loss: 0.000020, Test Loss: 0.577574\n",
            "Epoch 70, Average Loss: 0.000020, Test Loss: 0.578921\n",
            "Epoch 71, Average Loss: 0.000019, Test Loss: 0.578412\n",
            "Epoch 72, Average Loss: 0.000019, Test Loss: 0.579929\n",
            "Epoch 73, Average Loss: 0.000019, Test Loss: 0.579324\n",
            "Epoch 74, Average Loss: 0.000019, Test Loss: 0.579702\n",
            "Epoch 75, Average Loss: 0.000019, Test Loss: 0.581143\n",
            "Epoch 76, Average Loss: 0.000018, Test Loss: 0.580966\n",
            "Epoch 77, Average Loss: 0.000019, Test Loss: 0.582163\n",
            "Epoch 78, Average Loss: 0.000018, Test Loss: 0.582273\n",
            "Epoch 79, Average Loss: 0.000018, Test Loss: 0.583326\n",
            "Epoch 80, Average Loss: 0.000018, Test Loss: 0.583096\n",
            "Epoch 81, Average Loss: 0.000018, Test Loss: 0.584161\n",
            "Epoch 82, Average Loss: 0.000017, Test Loss: 0.583900\n",
            "Epoch 83, Average Loss: 0.000017, Test Loss: 0.585098\n",
            "Epoch 84, Average Loss: 0.000017, Test Loss: 0.584952\n",
            "Epoch 85, Average Loss: 0.000017, Test Loss: 0.585757\n",
            "Epoch 86, Average Loss: 0.000017, Test Loss: 0.585945\n",
            "Epoch 87, Average Loss: 0.000017, Test Loss: 0.586387\n",
            "Epoch 88, Average Loss: 0.000017, Test Loss: 0.587066\n",
            "Epoch 89, Average Loss: 0.000016, Test Loss: 0.587427\n",
            "Epoch 90, Average Loss: 0.000016, Test Loss: 0.587492\n",
            "Epoch 91, Average Loss: 0.000016, Test Loss: 0.588362\n",
            "Epoch 92, Average Loss: 0.000016, Test Loss: 0.588402\n",
            "Epoch 93, Average Loss: 0.000016, Test Loss: 0.588723\n",
            "Epoch 94, Average Loss: 0.000016, Test Loss: 0.589448\n",
            "Epoch 95, Average Loss: 0.000016, Test Loss: 0.589324\n",
            "Epoch 96, Average Loss: 0.000015, Test Loss: 0.590260\n",
            "Epoch 97, Average Loss: 0.000015, Test Loss: 0.590884\n",
            "Epoch 98, Average Loss: 0.000015, Test Loss: 0.591029\n",
            "Epoch 99, Average Loss: 0.000015, Test Loss: 0.591587\n",
            "Epoch 100, Average Loss: 0.000015, Test Loss: 0.591905\n",
            "Epoch 101, Average Loss: 0.000015, Test Loss: 0.592530\n",
            "Epoch 102, Average Loss: 0.000015, Test Loss: 0.592807\n",
            "Epoch 103, Average Loss: 0.000014, Test Loss: 0.593438\n",
            "Epoch 104, Average Loss: 0.000014, Test Loss: 0.593623\n",
            "Epoch 105, Average Loss: 0.000014, Test Loss: 0.594032\n",
            "Epoch 106, Average Loss: 0.000014, Test Loss: 0.594575\n",
            "Epoch 107, Average Loss: 0.000014, Test Loss: 0.594531\n",
            "Epoch 108, Average Loss: 0.000014, Test Loss: 0.594974\n",
            "Epoch 109, Average Loss: 0.000014, Test Loss: 0.595258\n",
            "Epoch 110, Average Loss: 0.000014, Test Loss: 0.595948\n",
            "Epoch 111, Average Loss: 0.000014, Test Loss: 0.596027\n",
            "Epoch 112, Average Loss: 0.000013, Test Loss: 0.596904\n",
            "Epoch 113, Average Loss: 0.000013, Test Loss: 0.597094\n",
            "Epoch 114, Average Loss: 0.000013, Test Loss: 0.597548\n",
            "Epoch 115, Average Loss: 0.000013, Test Loss: 0.597374\n",
            "Epoch 116, Average Loss: 0.000013, Test Loss: 0.598152\n",
            "Epoch 117, Average Loss: 0.000013, Test Loss: 0.598571\n",
            "Epoch 118, Average Loss: 0.000013, Test Loss: 0.598603\n",
            "Epoch 119, Average Loss: 0.000013, Test Loss: 0.599796\n",
            "Epoch 120, Average Loss: 0.000013, Test Loss: 0.598998\n",
            "Epoch 121, Average Loss: 0.000013, Test Loss: 0.600861\n",
            "Epoch 122, Average Loss: 0.000012, Test Loss: 0.599223\n",
            "Epoch 123, Average Loss: 0.000012, Test Loss: 0.600896\n",
            "Epoch 124, Average Loss: 0.000012, Test Loss: 0.600615\n",
            "Epoch 125, Average Loss: 0.000012, Test Loss: 0.602147\n",
            "Epoch 126, Average Loss: 0.000012, Test Loss: 0.601204\n",
            "Epoch 127, Average Loss: 0.000012, Test Loss: 0.602475\n",
            "Epoch 128, Average Loss: 0.000012, Test Loss: 0.601975\n",
            "Epoch 129, Average Loss: 0.000012, Test Loss: 0.603337\n",
            "Epoch 130, Average Loss: 0.000012, Test Loss: 0.603116\n",
            "Epoch 131, Average Loss: 0.000012, Test Loss: 0.603847\n",
            "Epoch 132, Average Loss: 0.000012, Test Loss: 0.603923\n",
            "Epoch 133, Average Loss: 0.000011, Test Loss: 0.604479\n",
            "Epoch 134, Average Loss: 0.000011, Test Loss: 0.604604\n",
            "Epoch 135, Average Loss: 0.000011, Test Loss: 0.605183\n",
            "Epoch 136, Average Loss: 0.000011, Test Loss: 0.605293\n",
            "Epoch 137, Average Loss: 0.000011, Test Loss: 0.605966\n",
            "Epoch 138, Average Loss: 0.000011, Test Loss: 0.606002\n",
            "Epoch 139, Average Loss: 0.000011, Test Loss: 0.606482\n",
            "Epoch 140, Average Loss: 0.000011, Test Loss: 0.606230\n",
            "Epoch 141, Average Loss: 0.000011, Test Loss: 0.607537\n",
            "Epoch 142, Average Loss: 0.000011, Test Loss: 0.606785\n",
            "Epoch 143, Average Loss: 0.000011, Test Loss: 0.607473\n",
            "Epoch 144, Average Loss: 0.000011, Test Loss: 0.608109\n",
            "Epoch 145, Average Loss: 0.000011, Test Loss: 0.607995\n",
            "Epoch 146, Average Loss: 0.000010, Test Loss: 0.608913\n",
            "Epoch 147, Average Loss: 0.000010, Test Loss: 0.608345\n",
            "Epoch 148, Average Loss: 0.000010, Test Loss: 0.609684\n",
            "Epoch 149, Average Loss: 0.000010, Test Loss: 0.609158\n",
            "Epoch 150, Average Loss: 0.000010, Test Loss: 0.610091\n",
            "Epoch 151, Average Loss: 0.000010, Test Loss: 0.610227\n",
            "Epoch 152, Average Loss: 0.000010, Test Loss: 0.610433\n",
            "Epoch 153, Average Loss: 0.000010, Test Loss: 0.610617\n",
            "Epoch 154, Average Loss: 0.000010, Test Loss: 0.611018\n",
            "Epoch 155, Average Loss: 0.000010, Test Loss: 0.611651\n",
            "Epoch 156, Average Loss: 0.000010, Test Loss: 0.611923\n",
            "Epoch 157, Average Loss: 0.000010, Test Loss: 0.611557\n",
            "Epoch 158, Average Loss: 0.000010, Test Loss: 0.612340\n",
            "Epoch 159, Average Loss: 0.000010, Test Loss: 0.612124\n",
            "Epoch 160, Average Loss: 0.000010, Test Loss: 0.613325\n",
            "Epoch 161, Average Loss: 0.000009, Test Loss: 0.612666\n",
            "Epoch 162, Average Loss: 0.000009, Test Loss: 0.613829\n",
            "Epoch 163, Average Loss: 0.000009, Test Loss: 0.613435\n",
            "Epoch 164, Average Loss: 0.000009, Test Loss: 0.614409\n",
            "Epoch 165, Average Loss: 0.000009, Test Loss: 0.614259\n",
            "Epoch 166, Average Loss: 0.000009, Test Loss: 0.614540\n",
            "Epoch 167, Average Loss: 0.000009, Test Loss: 0.615053\n",
            "Epoch 168, Average Loss: 0.000009, Test Loss: 0.615338\n",
            "Epoch 169, Average Loss: 0.000012, Test Loss: 0.615664\n",
            "Epoch 170, Average Loss: 0.000009, Test Loss: 0.615681\n",
            "Epoch 171, Average Loss: 0.000009, Test Loss: 0.616104\n",
            "Epoch 172, Average Loss: 0.000009, Test Loss: 0.616333\n",
            "Epoch 173, Average Loss: 0.000009, Test Loss: 0.616543\n",
            "Epoch 174, Average Loss: 0.000009, Test Loss: 0.617139\n",
            "Epoch 175, Average Loss: 0.000009, Test Loss: 0.617050\n",
            "Epoch 176, Average Loss: 0.000009, Test Loss: 0.617562\n",
            "Epoch 177, Average Loss: 0.000009, Test Loss: 0.617860\n",
            "Epoch 178, Average Loss: 0.000009, Test Loss: 0.618333\n",
            "Epoch 179, Average Loss: 0.000009, Test Loss: 0.618353\n",
            "Epoch 180, Average Loss: 0.000009, Test Loss: 0.618731\n",
            "Epoch 181, Average Loss: 0.000008, Test Loss: 0.619053\n",
            "Epoch 182, Average Loss: 0.000008, Test Loss: 0.619212\n",
            "Epoch 183, Average Loss: 0.000008, Test Loss: 0.619713\n",
            "Epoch 184, Average Loss: 0.000008, Test Loss: 0.619910\n",
            "Epoch 185, Average Loss: 0.000008, Test Loss: 0.620276\n",
            "Epoch 186, Average Loss: 0.000008, Test Loss: 0.620508\n",
            "Epoch 187, Average Loss: 0.000008, Test Loss: 0.620456\n",
            "Epoch 188, Average Loss: 0.000008, Test Loss: 0.621282\n",
            "Epoch 189, Average Loss: 0.000008, Test Loss: 0.620999\n",
            "Epoch 190, Average Loss: 0.000008, Test Loss: 0.621235\n",
            "Epoch 191, Average Loss: 0.000008, Test Loss: 0.621645\n",
            "Epoch 192, Average Loss: 0.000008, Test Loss: 0.622035\n",
            "Epoch 193, Average Loss: 0.000008, Test Loss: 0.622267\n",
            "Epoch 194, Average Loss: 0.000008, Test Loss: 0.622447\n",
            "Epoch 195, Average Loss: 0.000008, Test Loss: 0.622881\n",
            "Epoch 196, Average Loss: 0.000008, Test Loss: 0.622895\n",
            "Epoch 197, Average Loss: 0.000008, Test Loss: 0.623457\n",
            "Epoch 198, Average Loss: 0.000008, Test Loss: 0.623216\n",
            "Epoch 199, Average Loss: 0.000008, Test Loss: 0.623867\n",
            "Epoch 200, Average Loss: 0.000008, Test Loss: 0.623863\n"
          ]
        },
        {
          "data": {
            "image/png": "[encoded data removed]",
            "text/plain": [
              "<Figure size 1000x600 with 1 Axes>"
            ]
          },
          "metadata": {},
          "output_type": "display_data"
        }
      ],
      "source": [
        "for epoch in range(epochs):\n",
        "    total_loss = 0\n",
        "\n",
        "    for x_batch, y_batch in train_loader:\n",
        "        logits = model(x_batch)\n",
        "        loss = loss_function(logits, y_batch)\n",
        "\n",
        "        optimizer.zero_grad()\n",
        "        loss.backward()\n",
        "        optimizer.step()\n",
        "\n",
        "        total_loss += loss.item()\n",
        "    avg_loss = total_loss / len(train_loader)\n",
        "    loss_history.append(avg_loss)\n",
        "\n",
        "    with torch.no_grad():\n",
        "      logits = model( x_test )\n",
        "      test_loss = loss_function(logits, y_test )\n",
        "      test_history.append( test_loss.item() )\n",
        "\n",
        "      print(f\"Epoch {epoch+1}, Average Loss: {avg_loss:.6f}, Test Loss: {test_loss.item():.6f}\")\n",
        "\n",
        "# Plotting the loss history\n",
        "plt.figure(figsize=(10, 6))\n",
        "plt.plot(range(1, len(loss_history) + 1), loss_history, marker='o', linestyle='-')\n",
        "plt.plot(range(1, len(test_history) + 1), test_history, marker='o', linestyle='-')\n",
        "plt.title(\"Loss History\")\n",
        "plt.xlabel(\"Epoch\")\n",
        "plt.ylabel(\"Average Loss\")\n",
        "plt.grid(True)\n",
        "plt.show()"
      ]
    },
    {
      "cell_type": "code",
      "execution_count": 91,
      "metadata": {
        "colab": {
          "base_uri": "https://localhost:8080/"
        },
        "id": "hAHsK5GDJ7lH",
        "outputId": "03f29323-5221-4530-b6c8-f01a9360b76e"
      },
      "outputs": [
        {
          "name": "stdout",
          "output_type": "stream",
          "text": [
            "tensor(1., device='cuda:0')\n"
          ]
        }
      ],
      "source": [
        "with torch.no_grad():\n",
        "    predictions = model( x_train_small )\n",
        "    predicted_classes = torch.argmax(predictions, dim=1)\n",
        "\n",
        "print( (y_train_small == predicted_classes).float().mean() )"
      ]
    },
    {
      "cell_type": "code",
      "execution_count": 90,
      "metadata": {
        "colab": {
          "base_uri": "https://localhost:8080/"
        },
        "id": "yuRBPFL7-AAl",
        "outputId": "357ae0b0-7e2d-4af5-c194-75346c0595b8"
      },
      "outputs": [
        {
          "name": "stdout",
          "output_type": "stream",
          "text": [
            "tensor(0.9537, device='cuda:0')\n"
          ]
        }
      ],
      "source": [
        "with torch.no_grad():\n",
        "    predictions = model( x_test )\n",
        "    predicted_classes = torch.argmax(predictions, dim=1)\n",
        "\n",
        "print( (y_test == predicted_classes).float().mean() )"
      ]
    },
    {
      "cell_type": "code",
      "execution_count": 41,
      "metadata": {
        "id": "NaEJHTa2_FHI"
      },
      "outputs": [],
      "source": [
        "batch_size = 4096*2\n",
        "train_loader = data.DataLoader(dataset=train_dataset, batch_size=batch_size, shuffle=True)"
      ]
    },
    {
      "cell_type": "code",
      "execution_count": null,
      "metadata": {
        "id": "RQicvJVV_wpk"
      },
      "outputs": [],
      "source": []
    }
  ],
  "metadata": {
    "accelerator": "GPU",
    "colab": {
      "gpuType": "T4",
      "provenance": []
    },
    "kernelspec": {
      "display_name": "Python 3",
      "name": "python3"
    },
    "language_info": {
      "name": "python"
    }
  },
  "nbformat": 4,
  "nbformat_minor": 0
}
