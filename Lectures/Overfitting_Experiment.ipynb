{
  "cells": [
    {
      "cell_type": "markdown",
      "metadata": {
        "id": "view-in-github",
        "colab_type": "text"
      },
      "source": [
        "<a href=\"https://colab.research.google.com/github/yashc73080/CS462-Deep-Learning/blob/main/Lectures/Overfitting_Experiment.ipynb\" target=\"_parent\"><img src=\"https://colab.research.google.com/assets/colab-badge.svg\" alt=\"Open In Colab\"/></a>"
      ]
    },
    {
      "cell_type": "code",
      "execution_count": 1,
      "metadata": {
        "id": "Nt24hKhklUva"
      },
      "outputs": [],
      "source": [
        "import torch\n",
        "import torch.nn as nn\n",
        "import torch.optim as optim\n",
        "import torchvision\n",
        "import torchvision.transforms as transforms\n",
        "import numpy as np\n",
        "import random\n",
        "import matplotlib.pyplot as plt\n",
        "import seaborn as sns\n",
        "import torch.utils.data as data"
      ]
    },
    {
      "cell_type": "code",
      "execution_count": 2,
      "metadata": {
        "colab": {
          "base_uri": "https://localhost:8080/"
        },
        "id": "NdybaIjNuK9P",
        "outputId": "79d9ca5b-5741-4de8-9528-28269f9b6415"
      },
      "outputs": [
        {
          "output_type": "stream",
          "name": "stdout",
          "text": [
            "PyTorch version: 2.8.0+cu126\n",
            "CUDA available: True\n",
            "CUDA device count: 1\n",
            "Current device index: 0\n",
            "Device name: Tesla T4\n"
          ]
        }
      ],
      "source": [
        "print(\"PyTorch version:\", torch.__version__)\n",
        "print(\"CUDA available:\", torch.cuda.is_available())\n",
        "\n",
        "if torch.cuda.is_available():\n",
        "    print(\"CUDA device count:\", torch.cuda.device_count())\n",
        "    print(\"Current device index:\", torch.cuda.current_device())\n",
        "    print(\"Device name:\", torch.cuda.get_device_name(torch.cuda.current_device()))\n",
        "else:\n",
        "    print(\"Running on CPU-only environment. GPU-specific cells will safely skip.\")"
      ]
    },
    {
      "cell_type": "code",
      "execution_count": 3,
      "metadata": {
        "colab": {
          "base_uri": "https://localhost:8080/"
        },
        "id": "dVIlF9tAunEV",
        "outputId": "34889f6a-dd98-48e7-8db6-b1e3a29b23ad"
      },
      "outputs": [
        {
          "output_type": "execute_result",
          "data": {
            "text/plain": [
              "device(type='cuda')"
            ]
          },
          "metadata": {},
          "execution_count": 3
        }
      ],
      "source": [
        "device = torch.device(\"cuda\" if torch.cuda.is_available() else \"cpu\")\n",
        "device"
      ]
    },
    {
      "cell_type": "code",
      "execution_count": 4,
      "metadata": {
        "colab": {
          "base_uri": "https://localhost:8080/"
        },
        "id": "Cnrz9ZM-uUqW",
        "outputId": "dc7cbfb8-ffd7-449e-a088-5a5e5c8c8a4e"
      },
      "outputs": [
        {
          "output_type": "stream",
          "name": "stderr",
          "text": [
            "100%|██████████| 9.91M/9.91M [00:00<00:00, 17.6MB/s]\n",
            "100%|██████████| 28.9k/28.9k [00:00<00:00, 504kB/s]\n",
            "100%|██████████| 1.65M/1.65M [00:00<00:00, 4.52MB/s]\n",
            "100%|██████████| 4.54k/4.54k [00:00<00:00, 10.3MB/s]\n"
          ]
        },
        {
          "output_type": "stream",
          "name": "stdout",
          "text": [
            "Training set shape: torch.Size([60000, 28, 28])\n",
            "Testing set shape: torch.Size([10000, 28, 28])\n"
          ]
        }
      ],
      "source": [
        "trainset = torchvision.datasets.MNIST(root='./data', train=True, download=True, transform=transforms.ToTensor())\n",
        "testset = torchvision.datasets.MNIST(root='./data', train=False, download=True, transform=transforms.ToTensor())\n",
        "\n",
        "print(f\"Training set shape: {trainset.data.shape}\")\n",
        "print(f\"Testing set shape: {testset.data.shape}\")\n",
        "\n",
        "def preprocess_data(dataset):\n",
        "    data = (dataset.data / 255.0) - 0.5\n",
        "    targets = dataset.targets\n",
        "    return data, targets\n",
        "\n",
        "x_train, y_train = preprocess_data(trainset)\n",
        "x_test, y_test = preprocess_data(testset)\n",
        "\n",
        "x_train = x_train.to(device)\n",
        "y_train = y_train.to(device)\n",
        "x_test = x_test.to(device)\n",
        "y_test = y_test.to(device)\n",
        "\n",
        "x_train_small = x_train[ 0 : 10000 ]\n",
        "y_train_small = y_train[ 0 : 10000 ]\n",
        "\n",
        "train_dataset = data.TensorDataset(x_train_small, y_train_small)\n",
        "\n",
        "batch_size = 64\n",
        "train_loader = data.DataLoader(dataset=train_dataset, batch_size=batch_size, shuffle=True)"
      ]
    },
    {
      "cell_type": "code",
      "execution_count": 5,
      "metadata": {
        "id": "u8CxXnXIujAU"
      },
      "outputs": [],
      "source": [
        "class MNIST_Network(nn.Module):\n",
        "  def __init__(self):\n",
        "    super().__init__()\n",
        "\n",
        "    self.layer_1 = nn.Linear( in_features = 784, out_features = 1000 )\n",
        "    self.layer_2 = nn.Linear( in_features = 1000, out_features = 1000 )\n",
        "    self.layer_3 = nn.Linear( in_features = 1000, out_features = 1000 )\n",
        "    self.layer_4 = nn.Linear( in_features = 1000, out_features = 1000 )\n",
        "    self.layer_5 = nn.Linear( in_features = 1000, out_features = 1000 )\n",
        "    self.layer_6 = nn.Linear( in_features = 1000, out_features = 1000 )\n",
        "    self.layer_7 = nn.Linear( in_features = 1000, out_features = 1000 )\n",
        "    self.layer_8 = nn.Linear( in_features = 1000, out_features = 1000 )\n",
        "    self.layer_9 = nn.Linear( in_features = 1000, out_features = 1000 )\n",
        "    self.layer_10 = nn.Linear( in_features = 1000, out_features = 10 )\n",
        "\n",
        "  def forward(self, x):\n",
        "    input = nn.Flatten()( x )\n",
        "\n",
        "    hidden_nodes = self.layer_1( input )\n",
        "    hidden_nodes = nn.ReLU()( hidden_nodes )\n",
        "\n",
        "    hidden_nodes = self.layer_2( hidden_nodes )\n",
        "    hidden_nodes = nn.ReLU()( hidden_nodes )\n",
        "\n",
        "    hidden_nodes = self.layer_3( hidden_nodes )\n",
        "    hidden_nodes = nn.ReLU()( hidden_nodes )\n",
        "\n",
        "    hidden_nodes = self.layer_4( hidden_nodes )\n",
        "    hidden_nodes = nn.ReLU()( hidden_nodes )\n",
        "\n",
        "    hidden_nodes = self.layer_5( hidden_nodes )\n",
        "    hidden_nodes = nn.ReLU()( hidden_nodes )\n",
        "\n",
        "    hidden_nodes = self.layer_6( hidden_nodes )\n",
        "    hidden_nodes = nn.ReLU()( hidden_nodes )\n",
        "\n",
        "    hidden_nodes = self.layer_7( hidden_nodes )\n",
        "    hidden_nodes = nn.ReLU()( hidden_nodes )\n",
        "\n",
        "    hidden_nodes = self.layer_8( hidden_nodes )\n",
        "    hidden_nodes = nn.ReLU()( hidden_nodes )\n",
        "\n",
        "    hidden_nodes = self.layer_9( hidden_nodes )\n",
        "    hidden_nodes = nn.ReLU()( hidden_nodes )\n",
        "\n",
        "    logits = self.layer_10( hidden_nodes )\n",
        "\n",
        "    return logits"
      ]
    },
    {
      "cell_type": "code",
      "execution_count": 6,
      "metadata": {
        "id": "PmYeFBCh93en"
      },
      "outputs": [],
      "source": [
        "model = MNIST_Network().to(device)"
      ]
    },
    {
      "cell_type": "code",
      "execution_count": 7,
      "metadata": {
        "id": "IPwDbVdd81wY"
      },
      "outputs": [],
      "source": [
        "loss_function = nn.CrossEntropyLoss()\n",
        "optimizer = optim.SGD(model.parameters(), lr=0.1)"
      ]
    },
    {
      "cell_type": "code",
      "execution_count": 8,
      "metadata": {
        "id": "55pHl0As97mC"
      },
      "outputs": [],
      "source": [
        "epochs = 200"
      ]
    },
    {
      "cell_type": "code",
      "execution_count": 9,
      "metadata": {
        "id": "ZakUyCa8-Td3"
      },
      "outputs": [],
      "source": [
        "loss_history = []\n",
        "test_history = []"
      ]
    },
    {
      "cell_type": "code",
      "execution_count": 10,
      "metadata": {
        "colab": {
          "base_uri": "https://localhost:8080/",
          "height": 1000
        },
        "id": "lOFVNpEx9nNY",
        "outputId": "63c37067-13e8-4f27-9065-63dc37a21a1e"
      },
      "outputs": [
        {
          "output_type": "stream",
          "name": "stdout",
          "text": [
            "Epoch 1, Average Loss: 2.301449, Test Loss: 2.301834\n",
            "Epoch 2, Average Loss: 2.301405, Test Loss: 2.301489\n",
            "Epoch 3, Average Loss: 2.301172, Test Loss: 2.301390\n",
            "Epoch 4, Average Loss: 2.301083, Test Loss: 2.301441\n",
            "Epoch 5, Average Loss: 2.301117, Test Loss: 2.301170\n",
            "Epoch 6, Average Loss: 2.300876, Test Loss: 2.301672\n",
            "Epoch 7, Average Loss: 2.301025, Test Loss: 2.301198\n",
            "Epoch 8, Average Loss: 2.301069, Test Loss: 2.301007\n",
            "Epoch 9, Average Loss: 2.300670, Test Loss: 2.301177\n",
            "Epoch 10, Average Loss: 2.300839, Test Loss: 2.301041\n",
            "Epoch 11, Average Loss: 2.300719, Test Loss: 2.301014\n",
            "Epoch 12, Average Loss: 2.300615, Test Loss: 2.300928\n",
            "Epoch 13, Average Loss: 2.300691, Test Loss: 2.300852\n",
            "Epoch 14, Average Loss: 2.300085, Test Loss: 2.300449\n",
            "Epoch 15, Average Loss: 2.299726, Test Loss: 2.299256\n",
            "Epoch 16, Average Loss: 2.297315, Test Loss: 2.293603\n",
            "Epoch 17, Average Loss: 2.228486, Test Loss: 2.078477\n",
            "Epoch 18, Average Loss: 1.867135, Test Loss: 1.719368\n",
            "Epoch 19, Average Loss: 1.603821, Test Loss: 1.734794\n",
            "Epoch 20, Average Loss: 1.429853, Test Loss: 2.014757\n",
            "Epoch 21, Average Loss: 1.265664, Test Loss: 1.660467\n",
            "Epoch 22, Average Loss: 1.104304, Test Loss: 0.952918\n",
            "Epoch 23, Average Loss: 0.925853, Test Loss: 1.221291\n",
            "Epoch 24, Average Loss: 0.807040, Test Loss: 5.416339\n",
            "Epoch 25, Average Loss: 1.100948, Test Loss: 0.988529\n",
            "Epoch 26, Average Loss: 0.871272, Test Loss: 0.648837\n",
            "Epoch 27, Average Loss: 0.707255, Test Loss: 0.581693\n",
            "Epoch 28, Average Loss: 0.601640, Test Loss: 0.835445\n",
            "Epoch 29, Average Loss: 0.555350, Test Loss: 0.982291\n",
            "Epoch 30, Average Loss: 0.442667, Test Loss: 0.522056\n",
            "Epoch 31, Average Loss: 0.344444, Test Loss: 0.349323\n",
            "Epoch 32, Average Loss: 0.303641, Test Loss: 0.452240\n",
            "Epoch 33, Average Loss: 0.401273, Test Loss: 0.321196\n",
            "Epoch 34, Average Loss: 0.256575, Test Loss: 0.310650\n",
            "Epoch 35, Average Loss: 0.215679, Test Loss: 0.292239\n",
            "Epoch 36, Average Loss: 0.186948, Test Loss: 0.424447\n",
            "Epoch 37, Average Loss: 0.432056, Test Loss: 0.264982\n",
            "Epoch 38, Average Loss: 1.783140, Test Loss: 1.038842\n",
            "Epoch 39, Average Loss: 0.876981, Test Loss: 0.696983\n",
            "Epoch 40, Average Loss: 0.506301, Test Loss: 0.553387\n",
            "Epoch 41, Average Loss: 0.301324, Test Loss: 3.257013\n",
            "Epoch 42, Average Loss: 0.331502, Test Loss: 0.418666\n",
            "Epoch 43, Average Loss: 0.175603, Test Loss: 0.313888\n",
            "Epoch 44, Average Loss: 0.182431, Test Loss: 0.288227\n",
            "Epoch 45, Average Loss: 0.130159, Test Loss: 0.722515\n",
            "Epoch 46, Average Loss: 0.147414, Test Loss: 0.225662\n",
            "Epoch 47, Average Loss: 0.100007, Test Loss: 0.247468\n",
            "Epoch 48, Average Loss: 0.093242, Test Loss: 0.218230\n",
            "Epoch 49, Average Loss: 0.094140, Test Loss: 0.290186\n",
            "Epoch 50, Average Loss: 0.097627, Test Loss: 0.232949\n",
            "Epoch 51, Average Loss: 0.104644, Test Loss: 0.263266\n",
            "Epoch 52, Average Loss: 0.086232, Test Loss: 0.429228\n",
            "Epoch 53, Average Loss: 0.116703, Test Loss: 0.221862\n",
            "Epoch 54, Average Loss: 0.130047, Test Loss: 2.002141\n",
            "Epoch 55, Average Loss: 0.245132, Test Loss: 0.309361\n",
            "Epoch 56, Average Loss: 0.459675, Test Loss: 0.471677\n",
            "Epoch 57, Average Loss: 0.323921, Test Loss: 0.279571\n",
            "Epoch 58, Average Loss: 0.131227, Test Loss: 0.354508\n",
            "Epoch 59, Average Loss: 0.104549, Test Loss: 0.247207\n",
            "Epoch 60, Average Loss: 0.092279, Test Loss: 0.366686\n",
            "Epoch 61, Average Loss: 0.083045, Test Loss: 0.249829\n",
            "Epoch 62, Average Loss: 0.084711, Test Loss: 0.214242\n",
            "Epoch 63, Average Loss: 0.055120, Test Loss: 0.501465\n",
            "Epoch 64, Average Loss: 0.053013, Test Loss: 0.214756\n",
            "Epoch 65, Average Loss: 0.035764, Test Loss: 0.217783\n",
            "Epoch 66, Average Loss: 0.041264, Test Loss: 0.285742\n",
            "Epoch 67, Average Loss: 0.037757, Test Loss: 0.241266\n",
            "Epoch 68, Average Loss: 0.038550, Test Loss: 0.241669\n",
            "Epoch 69, Average Loss: 0.197894, Test Loss: 0.271324\n",
            "Epoch 70, Average Loss: 0.043259, Test Loss: 0.238943\n",
            "Epoch 71, Average Loss: 0.087014, Test Loss: 0.251049\n",
            "Epoch 72, Average Loss: 0.053955, Test Loss: 0.240388\n",
            "Epoch 73, Average Loss: 0.035281, Test Loss: 0.243837\n",
            "Epoch 74, Average Loss: 0.063368, Test Loss: 0.605674\n",
            "Epoch 75, Average Loss: 0.059720, Test Loss: 0.209134\n",
            "Epoch 76, Average Loss: 0.022498, Test Loss: 0.231666\n",
            "Epoch 77, Average Loss: 0.022044, Test Loss: 0.232661\n",
            "Epoch 78, Average Loss: 0.042894, Test Loss: 0.228675\n",
            "Epoch 79, Average Loss: 0.014716, Test Loss: 0.223176\n",
            "Epoch 80, Average Loss: 0.013611, Test Loss: 0.221765\n",
            "Epoch 81, Average Loss: 0.020939, Test Loss: 0.272764\n",
            "Epoch 82, Average Loss: 0.042206, Test Loss: 0.263420\n",
            "Epoch 83, Average Loss: 0.012283, Test Loss: 0.238879\n",
            "Epoch 84, Average Loss: 0.021714, Test Loss: 0.254874\n",
            "Epoch 85, Average Loss: 0.019022, Test Loss: 0.229574\n",
            "Epoch 86, Average Loss: 0.012611, Test Loss: 0.259258\n",
            "Epoch 87, Average Loss: 0.013299, Test Loss: 0.217975\n",
            "Epoch 88, Average Loss: 0.003789, Test Loss: 0.233307\n",
            "Epoch 89, Average Loss: 0.002973, Test Loss: 0.264761\n",
            "Epoch 90, Average Loss: 0.038649, Test Loss: 0.245091\n",
            "Epoch 91, Average Loss: 0.018208, Test Loss: 0.367791\n",
            "Epoch 92, Average Loss: 0.007253, Test Loss: 0.233557\n",
            "Epoch 93, Average Loss: 0.011362, Test Loss: 0.238555\n",
            "Epoch 94, Average Loss: 0.002005, Test Loss: 0.242811\n",
            "Epoch 95, Average Loss: 0.001456, Test Loss: 0.250950\n",
            "Epoch 96, Average Loss: 0.001594, Test Loss: 0.249616\n",
            "Epoch 97, Average Loss: 0.020503, Test Loss: 0.232217\n",
            "Epoch 98, Average Loss: 0.002216, Test Loss: 0.235355\n",
            "Epoch 99, Average Loss: 0.001273, Test Loss: 0.240753\n",
            "Epoch 100, Average Loss: 0.001092, Test Loss: 0.246444\n",
            "Epoch 101, Average Loss: 0.001004, Test Loss: 0.249073\n",
            "Epoch 102, Average Loss: 0.000981, Test Loss: 0.255959\n",
            "Epoch 103, Average Loss: 0.001024, Test Loss: 0.257264\n",
            "Epoch 104, Average Loss: 0.000966, Test Loss: 0.261429\n",
            "Epoch 105, Average Loss: 0.000822, Test Loss: 0.264217\n",
            "Epoch 106, Average Loss: 0.000764, Test Loss: 0.268622\n",
            "Epoch 107, Average Loss: 0.000749, Test Loss: 0.268341\n",
            "Epoch 108, Average Loss: 0.000737, Test Loss: 0.274108\n",
            "Epoch 109, Average Loss: 0.000833, Test Loss: 0.275204\n",
            "Epoch 110, Average Loss: 0.000648, Test Loss: 0.276570\n",
            "Epoch 111, Average Loss: 0.000679, Test Loss: 0.281550\n",
            "Epoch 112, Average Loss: 0.000653, Test Loss: 0.281062\n",
            "Epoch 113, Average Loss: 0.000660, Test Loss: 0.287371\n",
            "Epoch 114, Average Loss: 0.000578, Test Loss: 0.288025\n",
            "Epoch 115, Average Loss: 0.000505, Test Loss: 0.291320\n",
            "Epoch 116, Average Loss: 0.000442, Test Loss: 0.293733\n",
            "Epoch 117, Average Loss: 0.000472, Test Loss: 0.295631\n",
            "Epoch 118, Average Loss: 0.000444, Test Loss: 0.299469\n",
            "Epoch 119, Average Loss: 0.000379, Test Loss: 0.302987\n",
            "Epoch 120, Average Loss: 0.000280, Test Loss: 0.302789\n",
            "Epoch 121, Average Loss: 0.000236, Test Loss: 0.304747\n",
            "Epoch 122, Average Loss: 0.000170, Test Loss: 0.303541\n",
            "Epoch 123, Average Loss: 0.000113, Test Loss: 0.307819\n",
            "Epoch 124, Average Loss: 0.000097, Test Loss: 0.310675\n",
            "Epoch 125, Average Loss: 0.000088, Test Loss: 0.312590\n",
            "Epoch 126, Average Loss: 0.000079, Test Loss: 0.314733\n",
            "Epoch 127, Average Loss: 0.000073, Test Loss: 0.316642\n",
            "Epoch 128, Average Loss: 0.000068, Test Loss: 0.318358\n",
            "Epoch 129, Average Loss: 0.000063, Test Loss: 0.319965\n",
            "Epoch 130, Average Loss: 0.000060, Test Loss: 0.321553\n",
            "Epoch 131, Average Loss: 0.000057, Test Loss: 0.322933\n",
            "Epoch 132, Average Loss: 0.000054, Test Loss: 0.324287\n",
            "Epoch 133, Average Loss: 0.000051, Test Loss: 0.325628\n",
            "Epoch 134, Average Loss: 0.000049, Test Loss: 0.326815\n",
            "Epoch 135, Average Loss: 0.000047, Test Loss: 0.328028\n",
            "Epoch 136, Average Loss: 0.000045, Test Loss: 0.329121\n",
            "Epoch 137, Average Loss: 0.000043, Test Loss: 0.330165\n",
            "Epoch 138, Average Loss: 0.000041, Test Loss: 0.331202\n",
            "Epoch 139, Average Loss: 0.000040, Test Loss: 0.332303\n",
            "Epoch 140, Average Loss: 0.000039, Test Loss: 0.333254\n",
            "Epoch 141, Average Loss: 0.000037, Test Loss: 0.334251\n",
            "Epoch 142, Average Loss: 0.000036, Test Loss: 0.335124\n",
            "Epoch 143, Average Loss: 0.000035, Test Loss: 0.336047\n",
            "Epoch 144, Average Loss: 0.000034, Test Loss: 0.336907\n",
            "Epoch 145, Average Loss: 0.000033, Test Loss: 0.337739\n",
            "Epoch 146, Average Loss: 0.000032, Test Loss: 0.338595\n",
            "Epoch 147, Average Loss: 0.000031, Test Loss: 0.339409\n",
            "Epoch 148, Average Loss: 0.000030, Test Loss: 0.340215\n",
            "Epoch 149, Average Loss: 0.000029, Test Loss: 0.340955\n",
            "Epoch 150, Average Loss: 0.000029, Test Loss: 0.341657\n",
            "Epoch 151, Average Loss: 0.000028, Test Loss: 0.342374\n",
            "Epoch 152, Average Loss: 0.000027, Test Loss: 0.343086\n",
            "Epoch 153, Average Loss: 0.000027, Test Loss: 0.343761\n",
            "Epoch 154, Average Loss: 0.000026, Test Loss: 0.344446\n",
            "Epoch 155, Average Loss: 0.000025, Test Loss: 0.345094\n",
            "Epoch 156, Average Loss: 0.000025, Test Loss: 0.345723\n",
            "Epoch 157, Average Loss: 0.000024, Test Loss: 0.346374\n",
            "Epoch 158, Average Loss: 0.000024, Test Loss: 0.346989\n",
            "Epoch 159, Average Loss: 0.000023, Test Loss: 0.347599\n",
            "Epoch 160, Average Loss: 0.000023, Test Loss: 0.348252\n",
            "Epoch 161, Average Loss: 0.000022, Test Loss: 0.348846\n",
            "Epoch 162, Average Loss: 0.000022, Test Loss: 0.349400\n",
            "Epoch 163, Average Loss: 0.000021, Test Loss: 0.349963\n",
            "Epoch 164, Average Loss: 0.000021, Test Loss: 0.350495\n",
            "Epoch 165, Average Loss: 0.000021, Test Loss: 0.351068\n",
            "Epoch 166, Average Loss: 0.000020, Test Loss: 0.351618\n",
            "Epoch 167, Average Loss: 0.000020, Test Loss: 0.352167\n",
            "Epoch 168, Average Loss: 0.000020, Test Loss: 0.352681\n",
            "Epoch 169, Average Loss: 0.000019, Test Loss: 0.353186\n",
            "Epoch 170, Average Loss: 0.000019, Test Loss: 0.353677\n",
            "Epoch 171, Average Loss: 0.000019, Test Loss: 0.354187\n",
            "Epoch 172, Average Loss: 0.000018, Test Loss: 0.354678\n",
            "Epoch 173, Average Loss: 0.000018, Test Loss: 0.355166\n",
            "Epoch 174, Average Loss: 0.000018, Test Loss: 0.355664\n",
            "Epoch 175, Average Loss: 0.000017, Test Loss: 0.356140\n",
            "Epoch 176, Average Loss: 0.000017, Test Loss: 0.356577\n",
            "Epoch 177, Average Loss: 0.000017, Test Loss: 0.357019\n",
            "Epoch 178, Average Loss: 0.000017, Test Loss: 0.357478\n",
            "Epoch 179, Average Loss: 0.000016, Test Loss: 0.357931\n",
            "Epoch 180, Average Loss: 0.000016, Test Loss: 0.358356\n",
            "Epoch 181, Average Loss: 0.000016, Test Loss: 0.358810\n",
            "Epoch 182, Average Loss: 0.000016, Test Loss: 0.359225\n",
            "Epoch 183, Average Loss: 0.000015, Test Loss: 0.359657\n",
            "Epoch 184, Average Loss: 0.000015, Test Loss: 0.360083\n",
            "Epoch 185, Average Loss: 0.000015, Test Loss: 0.360485\n",
            "Epoch 186, Average Loss: 0.000015, Test Loss: 0.360902\n",
            "Epoch 187, Average Loss: 0.000015, Test Loss: 0.361298\n",
            "Epoch 188, Average Loss: 0.000014, Test Loss: 0.361693\n",
            "Epoch 189, Average Loss: 0.000014, Test Loss: 0.362091\n",
            "Epoch 190, Average Loss: 0.000014, Test Loss: 0.362488\n",
            "Epoch 191, Average Loss: 0.000014, Test Loss: 0.362866\n",
            "Epoch 192, Average Loss: 0.000014, Test Loss: 0.363253\n",
            "Epoch 193, Average Loss: 0.000013, Test Loss: 0.363621\n",
            "Epoch 194, Average Loss: 0.000014, Test Loss: 0.364039\n",
            "Epoch 195, Average Loss: 0.000013, Test Loss: 0.364402\n",
            "Epoch 196, Average Loss: 0.000013, Test Loss: 0.364774\n",
            "Epoch 197, Average Loss: 0.000013, Test Loss: 0.365127\n",
            "Epoch 198, Average Loss: 0.000013, Test Loss: 0.365480\n",
            "Epoch 199, Average Loss: 0.000013, Test Loss: 0.365842\n",
            "Epoch 200, Average Loss: 0.000013, Test Loss: 0.366189\n"
          ]
        },
        {
          "output_type": "display_data",
          "data": {
            "text/plain": [
              "<Figure size 1000x600 with 1 Axes>"
            ],
            "image/png": "[encoded data removed]"
          },
          "metadata": {}
        }
      ],
      "source": [
        "for epoch in range(epochs):\n",
        "    total_loss = 0\n",
        "\n",
        "    for x_batch, y_batch in train_loader:\n",
        "        logits = model(x_batch)\n",
        "        loss = loss_function(logits, y_batch)\n",
        "\n",
        "        optimizer.zero_grad()\n",
        "        loss.backward()\n",
        "        optimizer.step()\n",
        "\n",
        "        total_loss += loss.item()\n",
        "    avg_loss = total_loss / len(train_loader)\n",
        "    loss_history.append(avg_loss)\n",
        "\n",
        "    with torch.no_grad():\n",
        "      logits = model( x_test )\n",
        "      test_loss = loss_function(logits, y_test )\n",
        "      test_history.append( test_loss.item() )\n",
        "\n",
        "      print(f\"Epoch {epoch+1}, Average Loss: {avg_loss:.6f}, Test Loss: {test_loss.item():.6f}\")\n",
        "\n",
        "# Plotting the loss history\n",
        "plt.figure(figsize=(10, 6))\n",
        "plt.plot(range(1, len(loss_history) + 1), loss_history, marker='o', linestyle='-')\n",
        "plt.plot(range(1, len(test_history) + 1), test_history, marker='o', linestyle='-')\n",
        "plt.title(\"Loss History\")\n",
        "plt.xlabel(\"Epoch\")\n",
        "plt.ylabel(\"Average Loss\")\n",
        "plt.grid(True)\n",
        "plt.show()"
      ]
    },
    {
      "cell_type": "markdown",
      "source": [
        "Training loss may sometimes go up because we are computing gradient on a batch which is used to estimate loss on the full dataset. It may just be a bad sample batch which gives a bad estimate of the full population. In theory it should push us to a smaller loss but its only for the datapoints in the batch instead of all datapoints.\n",
        "\n",
        "May sometimes get nans because of a similar problem. To fix this, just try reducing learning rate and changing batch size."
      ],
      "metadata": {
        "id": "wEmP5djbGv-e"
      }
    },
    {
      "cell_type": "markdown",
      "source": [
        "Testing loss first goes down and then up --> **Overfitting**. It is getting more and more confident on train data but past a certain point, it is just memorizing the answers instead of learning. It won't generalize to more data, such as the test data. Could also be caused by small data.\n",
        "\n",
        "When do we stop training? --> **Early Termination** - stop training when test loss is at a minimum. There is no value in training past that point."
      ],
      "metadata": {
        "id": "zqGRv42mHgGy"
      }
    },
    {
      "cell_type": "code",
      "execution_count": null,
      "metadata": {
        "colab": {
          "base_uri": "https://localhost:8080/"
        },
        "id": "hAHsK5GDJ7lH",
        "outputId": "03f29323-5221-4530-b6c8-f01a9360b76e"
      },
      "outputs": [
        {
          "name": "stdout",
          "output_type": "stream",
          "text": [
            "tensor(1., device='cuda:0')\n"
          ]
        }
      ],
      "source": [
        "with torch.no_grad():\n",
        "    predictions = model( x_train_small )\n",
        "    predicted_classes = torch.argmax(predictions, dim=1)\n",
        "\n",
        "print( (y_train_small == predicted_classes).float().mean() )"
      ]
    },
    {
      "cell_type": "code",
      "execution_count": null,
      "metadata": {
        "colab": {
          "base_uri": "https://localhost:8080/"
        },
        "id": "yuRBPFL7-AAl",
        "outputId": "357ae0b0-7e2d-4af5-c194-75346c0595b8"
      },
      "outputs": [
        {
          "name": "stdout",
          "output_type": "stream",
          "text": [
            "tensor(0.9537, device='cuda:0')\n"
          ]
        }
      ],
      "source": [
        "with torch.no_grad():\n",
        "    predictions = model( x_test )\n",
        "    predicted_classes = torch.argmax(predictions, dim=1)\n",
        "\n",
        "print( (y_test == predicted_classes).float().mean() )"
      ]
    },
    {
      "cell_type": "code",
      "execution_count": null,
      "metadata": {
        "id": "NaEJHTa2_FHI"
      },
      "outputs": [],
      "source": [
        "batch_size = 4096*2\n",
        "train_loader = data.DataLoader(dataset=train_dataset, batch_size=batch_size, shuffle=True)"
      ]
    },
    {
      "cell_type": "code",
      "execution_count": null,
      "metadata": {
        "id": "RQicvJVV_wpk"
      },
      "outputs": [],
      "source": []
    }
  ],
  "metadata": {
    "accelerator": "GPU",
    "colab": {
      "gpuType": "T4",
      "provenance": [],
      "include_colab_link": true
    },
    "kernelspec": {
      "display_name": "Python 3",
      "name": "python3"
    },
    "language_info": {
      "name": "python"
    }
  },
  "nbformat": 4,
  "nbformat_minor": 0
}